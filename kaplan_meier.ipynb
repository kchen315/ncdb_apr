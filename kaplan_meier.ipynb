{
 "cells": [
  {
   "cell_type": "code",
   "execution_count": 1,
   "metadata": {},
   "outputs": [],
   "source": [
    "import pandas as pd\n",
    "import numpy as np\n",
    "import seaborn as sns\n",
    "import matplotlib.pyplot as plt\n",
    "\n",
    "from sklearn.metrics import roc_auc_score\n",
    "from sklearn.ensemble import RandomForestClassifier"
   ]
  },
  {
   "cell_type": "code",
   "execution_count": 2,
   "metadata": {},
   "outputs": [],
   "source": [
    "#read in the data and split into training and test sets\n",
    "data = pd.read_csv('data/data_os_clean_imputed.csv', index_col='PUF_CASE_ID')\n",
    "train = data[data['Year of Diagnosis'] <= 2014]\n",
    "test = data[data['Year of Diagnosis'] > 2014]\n",
    "\n",
    "X = train.drop(['3-yr Mortality'], axis=1)\n",
    "y = train['3-yr Mortality']\n",
    "X_test = test.drop(['3-yr Mortality'], axis=1)\n",
    "y_test = test['3-yr Mortality']"
   ]
  },
  {
   "cell_type": "code",
   "execution_count": 3,
   "metadata": {},
   "outputs": [
    {
     "data": {
      "text/plain": [
       "RandomForestClassifier(max_depth=20.0, min_samples_leaf=8, min_samples_split=6,\n",
       "                       n_estimators=1500)"
      ]
     },
     "execution_count": 3,
     "metadata": {},
     "output_type": "execute_result"
    }
   ],
   "source": [
    "#define the model and train it using the hyperparameters from the hyperparameter search\n",
    "models = ['rf']\n",
    "hp_dfs = {}\n",
    "for model in models:\n",
    "    hp_dfs[model] = pd.read_csv('hp_search/results_os/results_' + model + '.csv')\n",
    "\n",
    "rf_params = {'bootstrap': hp_dfs['rf']['param_bootstrap'].iloc[0],\n",
    "            'max_depth': hp_dfs['rf']['param_max_depth'].iloc[0],\n",
    "            'max_features': hp_dfs['rf']['param_max_features'].iloc[0],\n",
    "            'min_samples_leaf': hp_dfs['rf']['param_min_samples_leaf'].iloc[0],\n",
    "            'min_samples_split': hp_dfs['rf']['param_min_samples_split'].iloc[0],\n",
    "            'n_estimators': hp_dfs['rf']['param_n_estimators'].iloc[0]}\n",
    "#change nan to None\n",
    "rf_params = {k: None if pd.isna(v) else v for k, v in rf_params.items()}\n",
    "best_rf = RandomForestClassifier(**rf_params)\n",
    "best_rf.fit(X, y)"
   ]
  },
  {
   "cell_type": "code",
   "execution_count": 4,
   "metadata": {},
   "outputs": [
    {
     "name": "stdout",
     "output_type": "stream",
     "text": [
      "RF AUROC: 0.749\n"
     ]
    },
    {
     "name": "stderr",
     "output_type": "stream",
     "text": [
      "/tmp/ipykernel_1581389/1401109112.py:3: SettingWithCopyWarning: \n",
      "A value is trying to be set on a copy of a slice from a DataFrame.\n",
      "Try using .loc[row_indexer,col_indexer] = value instead\n",
      "\n",
      "See the caveats in the documentation: https://pandas.pydata.org/pandas-docs/stable/user_guide/indexing.html#returning-a-view-versus-a-copy\n",
      "  test['pred_os'] = rf_preds\n"
     ]
    }
   ],
   "source": [
    "#get preds and area under the ROC curve score for the test set\n",
    "rf_preds = best_rf.predict_proba(X_test)[:, 1]\n",
    "test['pred_os'] = rf_preds\n",
    "auroc = roc_auc_score(y_test, rf_preds)\n",
    "print('RF AUROC: {:.3f}'.format(auroc))"
   ]
  },
  {
   "cell_type": "code",
   "execution_count": 5,
   "metadata": {},
   "outputs": [
    {
     "data": {
      "text/html": [
       "<div>\n",
       "<style scoped>\n",
       "    .dataframe tbody tr th:only-of-type {\n",
       "        vertical-align: middle;\n",
       "    }\n",
       "\n",
       "    .dataframe tbody tr th {\n",
       "        vertical-align: top;\n",
       "    }\n",
       "\n",
       "    .dataframe thead th {\n",
       "        text-align: right;\n",
       "    }\n",
       "</style>\n",
       "<table border=\"1\" class=\"dataframe\">\n",
       "  <thead>\n",
       "    <tr style=\"text-align: right;\">\n",
       "      <th></th>\n",
       "      <th>DX_LASTCONTACT_DEATH_MONTHS</th>\n",
       "      <th>PUF_VITAL_STATUS</th>\n",
       "    </tr>\n",
       "    <tr>\n",
       "      <th>PUF_CASE_ID</th>\n",
       "      <th></th>\n",
       "      <th></th>\n",
       "    </tr>\n",
       "  </thead>\n",
       "  <tbody>\n",
       "    <tr>\n",
       "      <th>D66f458f9-bdc0-4c95-94a3-a5f8c5bb74f9</th>\n",
       "      <td>48.82</td>\n",
       "      <td>1.0</td>\n",
       "    </tr>\n",
       "    <tr>\n",
       "      <th>Dfc68ea23-71aa-4b0d-87c0-587b4ce13d04</th>\n",
       "      <td>65.64</td>\n",
       "      <td>0.0</td>\n",
       "    </tr>\n",
       "    <tr>\n",
       "      <th>D54a1d0da-4328-4ca5-8481-87cd73b33dd4</th>\n",
       "      <td>67.48</td>\n",
       "      <td>1.0</td>\n",
       "    </tr>\n",
       "    <tr>\n",
       "      <th>D62170955-5fc5-434e-8e6a-6a9e139851c4</th>\n",
       "      <td>37.19</td>\n",
       "      <td>1.0</td>\n",
       "    </tr>\n",
       "    <tr>\n",
       "      <th>D2cfdabba-8277-463e-bf64-7c3139b45372</th>\n",
       "      <td>15.47</td>\n",
       "      <td>1.0</td>\n",
       "    </tr>\n",
       "  </tbody>\n",
       "</table>\n",
       "</div>"
      ],
      "text/plain": [
       "                                       DX_LASTCONTACT_DEATH_MONTHS  \\\n",
       "PUF_CASE_ID                                                          \n",
       "D66f458f9-bdc0-4c95-94a3-a5f8c5bb74f9                        48.82   \n",
       "Dfc68ea23-71aa-4b0d-87c0-587b4ce13d04                        65.64   \n",
       "D54a1d0da-4328-4ca5-8481-87cd73b33dd4                        67.48   \n",
       "D62170955-5fc5-434e-8e6a-6a9e139851c4                        37.19   \n",
       "D2cfdabba-8277-463e-bf64-7c3139b45372                        15.47   \n",
       "\n",
       "                                       PUF_VITAL_STATUS  \n",
       "PUF_CASE_ID                                              \n",
       "D66f458f9-bdc0-4c95-94a3-a5f8c5bb74f9               1.0  \n",
       "Dfc68ea23-71aa-4b0d-87c0-587b4ce13d04               0.0  \n",
       "D54a1d0da-4328-4ca5-8481-87cd73b33dd4               1.0  \n",
       "D62170955-5fc5-434e-8e6a-6a9e139851c4               1.0  \n",
       "D2cfdabba-8277-463e-bf64-7c3139b45372               1.0  "
      ]
     },
     "execution_count": 5,
     "metadata": {},
     "output_type": "execute_result"
    }
   ],
   "source": [
    "#read in the data with the survival times\n",
    "data_km = pd.read_csv('data/data_km.csv', index_col='PUF_CASE_ID')\n",
    "data_km.head()"
   ]
  },
  {
   "cell_type": "code",
   "execution_count": 6,
   "metadata": {},
   "outputs": [
    {
     "name": "stderr",
     "output_type": "stream",
     "text": [
      "/tmp/ipykernel_1581389/344693937.py:2: SettingWithCopyWarning: \n",
      "A value is trying to be set on a copy of a slice from a DataFrame.\n",
      "Try using .loc[row_indexer,col_indexer] = value instead\n",
      "\n",
      "See the caveats in the documentation: https://pandas.pydata.org/pandas-docs/stable/user_guide/indexing.html#returning-a-view-versus-a-copy\n",
      "  test['DX_LASTCONTACT_DEATH_MONTHS'] = np.NaN\n",
      "/tmp/ipykernel_1581389/344693937.py:3: SettingWithCopyWarning: \n",
      "A value is trying to be set on a copy of a slice from a DataFrame.\n",
      "Try using .loc[row_indexer,col_indexer] = value instead\n",
      "\n",
      "See the caveats in the documentation: https://pandas.pydata.org/pandas-docs/stable/user_guide/indexing.html#returning-a-view-versus-a-copy\n",
      "  test['PUF_VITAL_STATUS'] = np.NaN\n",
      "/home/kchen/.local/lib/python3.8/site-packages/pandas/core/frame.py:7511: SettingWithCopyWarning: \n",
      "A value is trying to be set on a copy of a slice from a DataFrame.\n",
      "Try using .loc[row_indexer,col_indexer] = value instead\n",
      "\n",
      "See the caveats in the documentation: https://pandas.pydata.org/pandas-docs/stable/user_guide/indexing.html#returning-a-view-versus-a-copy\n",
      "  self[col] = expressions.where(mask, this, that)\n"
     ]
    },
    {
     "data": {
      "text/html": [
       "<div>\n",
       "<style scoped>\n",
       "    .dataframe tbody tr th:only-of-type {\n",
       "        vertical-align: middle;\n",
       "    }\n",
       "\n",
       "    .dataframe tbody tr th {\n",
       "        vertical-align: top;\n",
       "    }\n",
       "\n",
       "    .dataframe thead th {\n",
       "        text-align: right;\n",
       "    }\n",
       "</style>\n",
       "<table border=\"1\" class=\"dataframe\">\n",
       "  <thead>\n",
       "    <tr style=\"text-align: right;\">\n",
       "      <th></th>\n",
       "      <th>Facility Type</th>\n",
       "      <th>Facility Location</th>\n",
       "      <th>Age</th>\n",
       "      <th>Sex</th>\n",
       "      <th>Race</th>\n",
       "      <th>Hispanic Ethnicity</th>\n",
       "      <th>Insurance Status</th>\n",
       "      <th>Urban/Rural</th>\n",
       "      <th>Distance from Hospital</th>\n",
       "      <th>Charlson-Deyo Score</th>\n",
       "      <th>...</th>\n",
       "      <th>M Stage</th>\n",
       "      <th>Pathologic Stage</th>\n",
       "      <th>Facility Volume Quartile</th>\n",
       "      <th>3-yr Mortality</th>\n",
       "      <th>Keratinizing</th>\n",
       "      <th>Basaloid</th>\n",
       "      <th>Cloacogenic</th>\n",
       "      <th>pred_os</th>\n",
       "      <th>DX_LASTCONTACT_DEATH_MONTHS</th>\n",
       "      <th>PUF_VITAL_STATUS</th>\n",
       "    </tr>\n",
       "    <tr>\n",
       "      <th>PUF_CASE_ID</th>\n",
       "      <th></th>\n",
       "      <th></th>\n",
       "      <th></th>\n",
       "      <th></th>\n",
       "      <th></th>\n",
       "      <th></th>\n",
       "      <th></th>\n",
       "      <th></th>\n",
       "      <th></th>\n",
       "      <th></th>\n",
       "      <th></th>\n",
       "      <th></th>\n",
       "      <th></th>\n",
       "      <th></th>\n",
       "      <th></th>\n",
       "      <th></th>\n",
       "      <th></th>\n",
       "      <th></th>\n",
       "      <th></th>\n",
       "      <th></th>\n",
       "      <th></th>\n",
       "    </tr>\n",
       "  </thead>\n",
       "  <tbody>\n",
       "    <tr>\n",
       "      <th>D66f458f9-bdc0-4c95-94a3-a5f8c5bb74f9</th>\n",
       "      <td>0</td>\n",
       "      <td>0</td>\n",
       "      <td>-0.707231</td>\n",
       "      <td>0</td>\n",
       "      <td>3</td>\n",
       "      <td>1</td>\n",
       "      <td>2</td>\n",
       "      <td>2</td>\n",
       "      <td>-0.678043</td>\n",
       "      <td>0</td>\n",
       "      <td>...</td>\n",
       "      <td>0</td>\n",
       "      <td>3</td>\n",
       "      <td>3.0</td>\n",
       "      <td>0</td>\n",
       "      <td>0</td>\n",
       "      <td>0</td>\n",
       "      <td>0</td>\n",
       "      <td>0.064678</td>\n",
       "      <td>48.82</td>\n",
       "      <td>1.0</td>\n",
       "    </tr>\n",
       "    <tr>\n",
       "      <th>D62170955-5fc5-434e-8e6a-6a9e139851c4</th>\n",
       "      <td>0</td>\n",
       "      <td>0</td>\n",
       "      <td>1.607898</td>\n",
       "      <td>0</td>\n",
       "      <td>3</td>\n",
       "      <td>1</td>\n",
       "      <td>1</td>\n",
       "      <td>2</td>\n",
       "      <td>-0.367283</td>\n",
       "      <td>0</td>\n",
       "      <td>...</td>\n",
       "      <td>0</td>\n",
       "      <td>3</td>\n",
       "      <td>3.0</td>\n",
       "      <td>0</td>\n",
       "      <td>0</td>\n",
       "      <td>0</td>\n",
       "      <td>0</td>\n",
       "      <td>0.151299</td>\n",
       "      <td>37.19</td>\n",
       "      <td>1.0</td>\n",
       "    </tr>\n",
       "    <tr>\n",
       "      <th>Dd3c2eac8-dbdf-464f-9066-a963c6752b09</th>\n",
       "      <td>2</td>\n",
       "      <td>2</td>\n",
       "      <td>0.284967</td>\n",
       "      <td>0</td>\n",
       "      <td>3</td>\n",
       "      <td>1</td>\n",
       "      <td>3</td>\n",
       "      <td>0</td>\n",
       "      <td>1.782135</td>\n",
       "      <td>0</td>\n",
       "      <td>...</td>\n",
       "      <td>0</td>\n",
       "      <td>3</td>\n",
       "      <td>4.0</td>\n",
       "      <td>0</td>\n",
       "      <td>0</td>\n",
       "      <td>0</td>\n",
       "      <td>0</td>\n",
       "      <td>0.076815</td>\n",
       "      <td>65.38</td>\n",
       "      <td>1.0</td>\n",
       "    </tr>\n",
       "    <tr>\n",
       "      <th>D57b642e3-2e44-4ef6-b4df-b91f6410c42e</th>\n",
       "      <td>0</td>\n",
       "      <td>1</td>\n",
       "      <td>-0.459182</td>\n",
       "      <td>1</td>\n",
       "      <td>1</td>\n",
       "      <td>1</td>\n",
       "      <td>3</td>\n",
       "      <td>2</td>\n",
       "      <td>-0.703939</td>\n",
       "      <td>0</td>\n",
       "      <td>...</td>\n",
       "      <td>0</td>\n",
       "      <td>3</td>\n",
       "      <td>2.0</td>\n",
       "      <td>1</td>\n",
       "      <td>0</td>\n",
       "      <td>0</td>\n",
       "      <td>0</td>\n",
       "      <td>0.137566</td>\n",
       "      <td>27.63</td>\n",
       "      <td>0.0</td>\n",
       "    </tr>\n",
       "    <tr>\n",
       "      <th>D7121b2ab-aab2-49ce-8449-dd1695d46b2e</th>\n",
       "      <td>0</td>\n",
       "      <td>2</td>\n",
       "      <td>-0.789914</td>\n",
       "      <td>1</td>\n",
       "      <td>1</td>\n",
       "      <td>1</td>\n",
       "      <td>3</td>\n",
       "      <td>2</td>\n",
       "      <td>-0.768681</td>\n",
       "      <td>0</td>\n",
       "      <td>...</td>\n",
       "      <td>0</td>\n",
       "      <td>3</td>\n",
       "      <td>3.0</td>\n",
       "      <td>0</td>\n",
       "      <td>0</td>\n",
       "      <td>0</td>\n",
       "      <td>0</td>\n",
       "      <td>0.191860</td>\n",
       "      <td>45.27</td>\n",
       "      <td>1.0</td>\n",
       "    </tr>\n",
       "  </tbody>\n",
       "</table>\n",
       "<p>5 rows × 38 columns</p>\n",
       "</div>"
      ],
      "text/plain": [
       "                                       Facility Type  Facility Location  \\\n",
       "PUF_CASE_ID                                                               \n",
       "D66f458f9-bdc0-4c95-94a3-a5f8c5bb74f9              0                  0   \n",
       "D62170955-5fc5-434e-8e6a-6a9e139851c4              0                  0   \n",
       "Dd3c2eac8-dbdf-464f-9066-a963c6752b09              2                  2   \n",
       "D57b642e3-2e44-4ef6-b4df-b91f6410c42e              0                  1   \n",
       "D7121b2ab-aab2-49ce-8449-dd1695d46b2e              0                  2   \n",
       "\n",
       "                                            Age  Sex  Race  \\\n",
       "PUF_CASE_ID                                                  \n",
       "D66f458f9-bdc0-4c95-94a3-a5f8c5bb74f9 -0.707231    0     3   \n",
       "D62170955-5fc5-434e-8e6a-6a9e139851c4  1.607898    0     3   \n",
       "Dd3c2eac8-dbdf-464f-9066-a963c6752b09  0.284967    0     3   \n",
       "D57b642e3-2e44-4ef6-b4df-b91f6410c42e -0.459182    1     1   \n",
       "D7121b2ab-aab2-49ce-8449-dd1695d46b2e -0.789914    1     1   \n",
       "\n",
       "                                       Hispanic Ethnicity  Insurance Status  \\\n",
       "PUF_CASE_ID                                                                   \n",
       "D66f458f9-bdc0-4c95-94a3-a5f8c5bb74f9                   1                 2   \n",
       "D62170955-5fc5-434e-8e6a-6a9e139851c4                   1                 1   \n",
       "Dd3c2eac8-dbdf-464f-9066-a963c6752b09                   1                 3   \n",
       "D57b642e3-2e44-4ef6-b4df-b91f6410c42e                   1                 3   \n",
       "D7121b2ab-aab2-49ce-8449-dd1695d46b2e                   1                 3   \n",
       "\n",
       "                                       Urban/Rural  Distance from Hospital  \\\n",
       "PUF_CASE_ID                                                                  \n",
       "D66f458f9-bdc0-4c95-94a3-a5f8c5bb74f9            2               -0.678043   \n",
       "D62170955-5fc5-434e-8e6a-6a9e139851c4            2               -0.367283   \n",
       "Dd3c2eac8-dbdf-464f-9066-a963c6752b09            0                1.782135   \n",
       "D57b642e3-2e44-4ef6-b4df-b91f6410c42e            2               -0.703939   \n",
       "D7121b2ab-aab2-49ce-8449-dd1695d46b2e            2               -0.768681   \n",
       "\n",
       "                                       Charlson-Deyo Score  ...  M Stage  \\\n",
       "PUF_CASE_ID                                                 ...            \n",
       "D66f458f9-bdc0-4c95-94a3-a5f8c5bb74f9                    0  ...        0   \n",
       "D62170955-5fc5-434e-8e6a-6a9e139851c4                    0  ...        0   \n",
       "Dd3c2eac8-dbdf-464f-9066-a963c6752b09                    0  ...        0   \n",
       "D57b642e3-2e44-4ef6-b4df-b91f6410c42e                    0  ...        0   \n",
       "D7121b2ab-aab2-49ce-8449-dd1695d46b2e                    0  ...        0   \n",
       "\n",
       "                                       Pathologic Stage  \\\n",
       "PUF_CASE_ID                                               \n",
       "D66f458f9-bdc0-4c95-94a3-a5f8c5bb74f9                 3   \n",
       "D62170955-5fc5-434e-8e6a-6a9e139851c4                 3   \n",
       "Dd3c2eac8-dbdf-464f-9066-a963c6752b09                 3   \n",
       "D57b642e3-2e44-4ef6-b4df-b91f6410c42e                 3   \n",
       "D7121b2ab-aab2-49ce-8449-dd1695d46b2e                 3   \n",
       "\n",
       "                                       Facility Volume Quartile  \\\n",
       "PUF_CASE_ID                                                       \n",
       "D66f458f9-bdc0-4c95-94a3-a5f8c5bb74f9                       3.0   \n",
       "D62170955-5fc5-434e-8e6a-6a9e139851c4                       3.0   \n",
       "Dd3c2eac8-dbdf-464f-9066-a963c6752b09                       4.0   \n",
       "D57b642e3-2e44-4ef6-b4df-b91f6410c42e                       2.0   \n",
       "D7121b2ab-aab2-49ce-8449-dd1695d46b2e                       3.0   \n",
       "\n",
       "                                       3-yr Mortality  Keratinizing  Basaloid  \\\n",
       "PUF_CASE_ID                                                                     \n",
       "D66f458f9-bdc0-4c95-94a3-a5f8c5bb74f9               0             0         0   \n",
       "D62170955-5fc5-434e-8e6a-6a9e139851c4               0             0         0   \n",
       "Dd3c2eac8-dbdf-464f-9066-a963c6752b09               0             0         0   \n",
       "D57b642e3-2e44-4ef6-b4df-b91f6410c42e               1             0         0   \n",
       "D7121b2ab-aab2-49ce-8449-dd1695d46b2e               0             0         0   \n",
       "\n",
       "                                       Cloacogenic   pred_os  \\\n",
       "PUF_CASE_ID                                                    \n",
       "D66f458f9-bdc0-4c95-94a3-a5f8c5bb74f9            0  0.064678   \n",
       "D62170955-5fc5-434e-8e6a-6a9e139851c4            0  0.151299   \n",
       "Dd3c2eac8-dbdf-464f-9066-a963c6752b09            0  0.076815   \n",
       "D57b642e3-2e44-4ef6-b4df-b91f6410c42e            0  0.137566   \n",
       "D7121b2ab-aab2-49ce-8449-dd1695d46b2e            0  0.191860   \n",
       "\n",
       "                                       DX_LASTCONTACT_DEATH_MONTHS  \\\n",
       "PUF_CASE_ID                                                          \n",
       "D66f458f9-bdc0-4c95-94a3-a5f8c5bb74f9                        48.82   \n",
       "D62170955-5fc5-434e-8e6a-6a9e139851c4                        37.19   \n",
       "Dd3c2eac8-dbdf-464f-9066-a963c6752b09                        65.38   \n",
       "D57b642e3-2e44-4ef6-b4df-b91f6410c42e                        27.63   \n",
       "D7121b2ab-aab2-49ce-8449-dd1695d46b2e                        45.27   \n",
       "\n",
       "                                       PUF_VITAL_STATUS  \n",
       "PUF_CASE_ID                                              \n",
       "D66f458f9-bdc0-4c95-94a3-a5f8c5bb74f9               1.0  \n",
       "D62170955-5fc5-434e-8e6a-6a9e139851c4               1.0  \n",
       "Dd3c2eac8-dbdf-464f-9066-a963c6752b09               1.0  \n",
       "D57b642e3-2e44-4ef6-b4df-b91f6410c42e               0.0  \n",
       "D7121b2ab-aab2-49ce-8449-dd1695d46b2e               1.0  \n",
       "\n",
       "[5 rows x 38 columns]"
      ]
     },
     "execution_count": 6,
     "metadata": {},
     "output_type": "execute_result"
    }
   ],
   "source": [
    "#add the survival times to the test set\n",
    "test['DX_LASTCONTACT_DEATH_MONTHS'] = np.NaN\n",
    "test['PUF_VITAL_STATUS'] = np.NaN\n",
    "test.update(data_km)\n",
    "test.head()"
   ]
  },
  {
   "cell_type": "code",
   "execution_count": 7,
   "metadata": {},
   "outputs": [
    {
     "data": {
      "text/plain": [
       "count    9347.000000\n",
       "mean       41.981568\n",
       "std        18.221405\n",
       "min         0.000000\n",
       "25%        33.330000\n",
       "50%        44.750000\n",
       "75%        55.360000\n",
       "max        76.850000\n",
       "Name: DX_LASTCONTACT_DEATH_MONTHS, dtype: float64"
      ]
     },
     "execution_count": 7,
     "metadata": {},
     "output_type": "execute_result"
    }
   ],
   "source": [
    "test['DX_LASTCONTACT_DEATH_MONTHS'].describe()"
   ]
  },
  {
   "cell_type": "code",
   "execution_count": 8,
   "metadata": {},
   "outputs": [
    {
     "data": {
      "text/plain": [
       "(9347, 3)"
      ]
     },
     "execution_count": 8,
     "metadata": {},
     "output_type": "execute_result"
    }
   ],
   "source": [
    "#narrow the dataset to include only what's needed for the curves\n",
    "incl = ['pred_os', 'DX_LASTCONTACT_DEATH_MONTHS', 'PUF_VITAL_STATUS']\n",
    "data_km_pred = test[incl]\n",
    "data_km_pred.shape"
   ]
  },
  {
   "cell_type": "code",
   "execution_count": 9,
   "metadata": {},
   "outputs": [
    {
     "data": {
      "text/plain": [
       "count    9347.000000\n",
       "mean        0.224053\n",
       "std         0.136016\n",
       "min         0.009507\n",
       "25%         0.117496\n",
       "50%         0.196189\n",
       "75%         0.309477\n",
       "max         0.785007\n",
       "Name: pred_os, dtype: float64"
      ]
     },
     "execution_count": 9,
     "metadata": {},
     "output_type": "execute_result"
    }
   ],
   "source": [
    "data_km_pred['pred_os'].describe()"
   ]
  },
  {
   "cell_type": "code",
   "execution_count": 10,
   "metadata": {},
   "outputs": [
    {
     "name": "stdout",
     "output_type": "stream",
     "text": [
      "0.1413 0.2669\n"
     ]
    }
   ],
   "source": [
    "#split the data into 3 groups based on the predicted survival times (tertiles of risk)\n",
    "q_1 = round(data_km_pred['pred_os'].quantile(1 / 3), 4)\n",
    "q_2 = round(data_km_pred['pred_os'].quantile(2 / 3), 4)\n",
    "print(q_1, q_2)"
   ]
  },
  {
   "cell_type": "code",
   "execution_count": 11,
   "metadata": {},
   "outputs": [
    {
     "name": "stderr",
     "output_type": "stream",
     "text": [
      "/tmp/ipykernel_1581389/2371797294.py:1: SettingWithCopyWarning: \n",
      "A value is trying to be set on a copy of a slice from a DataFrame.\n",
      "Try using .loc[row_indexer,col_indexer] = value instead\n",
      "\n",
      "See the caveats in the documentation: https://pandas.pydata.org/pandas-docs/stable/user_guide/indexing.html#returning-a-view-versus-a-copy\n",
      "  data_km_pred['tertile'] = np.NaN\n",
      "/home/kchen/.local/lib/python3.8/site-packages/pandas/core/indexing.py:1732: SettingWithCopyWarning: \n",
      "A value is trying to be set on a copy of a slice from a DataFrame\n",
      "\n",
      "See the caveats in the documentation: https://pandas.pydata.org/pandas-docs/stable/user_guide/indexing.html#returning-a-view-versus-a-copy\n",
      "  self._setitem_single_block(indexer, value, name)\n",
      "/home/kchen/.local/lib/python3.8/site-packages/pandas/core/indexing.py:723: SettingWithCopyWarning: \n",
      "A value is trying to be set on a copy of a slice from a DataFrame\n",
      "\n",
      "See the caveats in the documentation: https://pandas.pydata.org/pandas-docs/stable/user_guide/indexing.html#returning-a-view-versus-a-copy\n",
      "  iloc._setitem_with_indexer(indexer, value, self.name)\n"
     ]
    },
    {
     "data": {
      "text/plain": [
       "3.0    3117\n",
       "1.0    3116\n",
       "2.0    3114\n",
       "Name: tertile, dtype: int64"
      ]
     },
     "execution_count": 11,
     "metadata": {},
     "output_type": "execute_result"
    }
   ],
   "source": [
    "data_km_pred['tertile'] = np.NaN\n",
    "for i, row in data_km_pred.iterrows():\n",
    "    if row['pred_os'] <= q_1:\n",
    "        data_km_pred.loc[i, 'tertile'] = 1\n",
    "    elif row['pred_os'] <= q_2:\n",
    "        data_km_pred.loc[i, 'tertile'] = 2\n",
    "    else:\n",
    "        data_km_pred.loc[i, 'tertile'] = 3\n",
    "data_km_pred['tertile'].value_counts(dropna=False)"
   ]
  },
  {
   "cell_type": "code",
   "execution_count": 15,
   "metadata": {},
   "outputs": [
    {
     "name": "stderr",
     "output_type": "stream",
     "text": [
      "/tmp/ipykernel_1581389/3113987362.py:4: SettingWithCopyWarning: \n",
      "A value is trying to be set on a copy of a slice from a DataFrame.\n",
      "Try using .loc[row_indexer,col_indexer] = value instead\n",
      "\n",
      "See the caveats in the documentation: https://pandas.pydata.org/pandas-docs/stable/user_guide/indexing.html#returning-a-view-versus-a-copy\n",
      "  data_km_pred['months'] = round(data_km_pred['DX_LASTCONTACT_DEATH_MONTHS'], 0)\n"
     ]
    }
   ],
   "source": [
    "#get a list of time thresholds, 1-36 months\n",
    "time_thresh = [i for i in range(0, 37, 1)]\n",
    "#round the survival times to whole months\n",
    "data_km_pred['months'] = round(data_km_pred['DX_LASTCONTACT_DEATH_MONTHS'], 0)"
   ]
  },
  {
   "cell_type": "code",
   "execution_count": 16,
   "metadata": {},
   "outputs": [],
   "source": [
    "data_1 = data_km_pred[data_km_pred['tertile'] == 1]\n",
    "data_2 = data_km_pred[data_km_pred['tertile'] == 2]\n",
    "data_3 = data_km_pred[data_km_pred['tertile'] == 3]"
   ]
  },
  {
   "cell_type": "code",
   "execution_count": 17,
   "metadata": {},
   "outputs": [
    {
     "data": {
      "text/html": [
       "<div>\n",
       "<style scoped>\n",
       "    .dataframe tbody tr th:only-of-type {\n",
       "        vertical-align: middle;\n",
       "    }\n",
       "\n",
       "    .dataframe tbody tr th {\n",
       "        vertical-align: top;\n",
       "    }\n",
       "\n",
       "    .dataframe thead th {\n",
       "        text-align: right;\n",
       "    }\n",
       "</style>\n",
       "<table border=\"1\" class=\"dataframe\">\n",
       "  <thead>\n",
       "    <tr style=\"text-align: right;\">\n",
       "      <th></th>\n",
       "      <th>time</th>\n",
       "      <th>n_patients</th>\n",
       "      <th>n_died</th>\n",
       "      <th>prob_survival</th>\n",
       "    </tr>\n",
       "  </thead>\n",
       "  <tbody>\n",
       "    <tr>\n",
       "      <th>0</th>\n",
       "      <td>0.0</td>\n",
       "      <td>3116.0</td>\n",
       "      <td>0.0</td>\n",
       "      <td>1.000000</td>\n",
       "    </tr>\n",
       "    <tr>\n",
       "      <th>1</th>\n",
       "      <td>1.0</td>\n",
       "      <td>3116.0</td>\n",
       "      <td>3.0</td>\n",
       "      <td>0.999037</td>\n",
       "    </tr>\n",
       "    <tr>\n",
       "      <th>2</th>\n",
       "      <td>2.0</td>\n",
       "      <td>3113.0</td>\n",
       "      <td>9.0</td>\n",
       "      <td>0.996146</td>\n",
       "    </tr>\n",
       "    <tr>\n",
       "      <th>3</th>\n",
       "      <td>3.0</td>\n",
       "      <td>3104.0</td>\n",
       "      <td>11.0</td>\n",
       "      <td>0.992602</td>\n",
       "    </tr>\n",
       "    <tr>\n",
       "      <th>4</th>\n",
       "      <td>4.0</td>\n",
       "      <td>3093.0</td>\n",
       "      <td>7.0</td>\n",
       "      <td>0.990339</td>\n",
       "    </tr>\n",
       "  </tbody>\n",
       "</table>\n",
       "</div>"
      ],
      "text/plain": [
       "   time  n_patients  n_died  prob_survival\n",
       "0   0.0      3116.0     0.0       1.000000\n",
       "1   1.0      3116.0     3.0       0.999037\n",
       "2   2.0      3113.0     9.0       0.996146\n",
       "3   3.0      3104.0    11.0       0.992602\n",
       "4   4.0      3093.0     7.0       0.990339"
      ]
     },
     "execution_count": 17,
     "metadata": {},
     "output_type": "execute_result"
    }
   ],
   "source": [
    "#make an empty dataframe to hold the results\n",
    "km_1 = pd.DataFrame(columns=['time', 'n_patients', 'n_died', 'prob_survival'])\n",
    "#original number of patients\n",
    "n_patients = data_1.shape[0]\n",
    "#probability of survival\n",
    "prob_survival = 1\n",
    "\n",
    "#based on this explanation of kaplan-meier curves: https://towardsdatascience.com/kaplan-meier-curves-c5768e349479\n",
    "for t in time_thresh:\n",
    "    #censor patients who are alive, but lost to follow up\n",
    "    n_patients = n_patients - data_1[(data_1['months'] == t) & (data_1['PUF_VITAL_STATUS'] == 1)].shape[0]\n",
    "    #count the number of patients who died\n",
    "    n_died = data_1[(data_1['months'] == t) & (data_1['PUF_VITAL_STATUS'] == 0)].shape[0]\n",
    "    #calculate the percent of patients who died at time t, and subtract that from the probability of survival\n",
    "    perc_died = n_died / n_patients\n",
    "    prob_survival = prob_survival - perc_died\n",
    "    km_1 = km_1.append({'time': t, 'n_patients': n_patients, 'n_died': n_died, 'prob_survival': prob_survival}, ignore_index=True)\n",
    "    #update the number of patients by removing the number of patients who died\n",
    "    n_patients = n_patients - n_died\n",
    "km_1.head()"
   ]
  },
  {
   "cell_type": "code",
   "execution_count": 18,
   "metadata": {},
   "outputs": [
    {
     "data": {
      "text/html": [
       "<div>\n",
       "<style scoped>\n",
       "    .dataframe tbody tr th:only-of-type {\n",
       "        vertical-align: middle;\n",
       "    }\n",
       "\n",
       "    .dataframe tbody tr th {\n",
       "        vertical-align: top;\n",
       "    }\n",
       "\n",
       "    .dataframe thead th {\n",
       "        text-align: right;\n",
       "    }\n",
       "</style>\n",
       "<table border=\"1\" class=\"dataframe\">\n",
       "  <thead>\n",
       "    <tr style=\"text-align: right;\">\n",
       "      <th></th>\n",
       "      <th>time</th>\n",
       "      <th>n_patients</th>\n",
       "      <th>n_died</th>\n",
       "      <th>prob_survival</th>\n",
       "    </tr>\n",
       "  </thead>\n",
       "  <tbody>\n",
       "    <tr>\n",
       "      <th>0</th>\n",
       "      <td>0.0</td>\n",
       "      <td>3114.0</td>\n",
       "      <td>0.0</td>\n",
       "      <td>1.000000</td>\n",
       "    </tr>\n",
       "    <tr>\n",
       "      <th>1</th>\n",
       "      <td>1.0</td>\n",
       "      <td>3114.0</td>\n",
       "      <td>2.0</td>\n",
       "      <td>0.999358</td>\n",
       "    </tr>\n",
       "    <tr>\n",
       "      <th>2</th>\n",
       "      <td>2.0</td>\n",
       "      <td>3112.0</td>\n",
       "      <td>19.0</td>\n",
       "      <td>0.993252</td>\n",
       "    </tr>\n",
       "    <tr>\n",
       "      <th>3</th>\n",
       "      <td>3.0</td>\n",
       "      <td>3093.0</td>\n",
       "      <td>28.0</td>\n",
       "      <td>0.984200</td>\n",
       "    </tr>\n",
       "    <tr>\n",
       "      <th>4</th>\n",
       "      <td>4.0</td>\n",
       "      <td>3065.0</td>\n",
       "      <td>11.0</td>\n",
       "      <td>0.980611</td>\n",
       "    </tr>\n",
       "  </tbody>\n",
       "</table>\n",
       "</div>"
      ],
      "text/plain": [
       "   time  n_patients  n_died  prob_survival\n",
       "0   0.0      3114.0     0.0       1.000000\n",
       "1   1.0      3114.0     2.0       0.999358\n",
       "2   2.0      3112.0    19.0       0.993252\n",
       "3   3.0      3093.0    28.0       0.984200\n",
       "4   4.0      3065.0    11.0       0.980611"
      ]
     },
     "execution_count": 18,
     "metadata": {},
     "output_type": "execute_result"
    }
   ],
   "source": [
    "km_2 = pd.DataFrame(columns=['time', 'n_patients', 'n_died', 'prob_survival'])\n",
    "n_patients = data_2.shape[0]\n",
    "prob_survival = 1\n",
    "for t in time_thresh:\n",
    "    #censor patients who are alive, but lost to follow up\n",
    "    n_patients = n_patients - data_2[(data_2['months'] == t) & (data_2['PUF_VITAL_STATUS'] == 1)].shape[0]\n",
    "    #count the number of patients who died\n",
    "    n_died = data_2[(data_2['months'] == t) & (data_2['PUF_VITAL_STATUS'] == 0)].shape[0]\n",
    "    #calculate the percent of patients who died at time t, and subtract that from the probability of survival\n",
    "    perc_died = n_died / n_patients\n",
    "    prob_survival = prob_survival - perc_died\n",
    "    km_2 = km_2.append({'time': t, 'n_patients': n_patients, 'n_died': n_died, 'prob_survival': prob_survival}, ignore_index=True)\n",
    "    #update the number of patients by removing the number of patients who died\n",
    "    n_patients = n_patients - n_died\n",
    "km_2.head()"
   ]
  },
  {
   "cell_type": "code",
   "execution_count": 19,
   "metadata": {},
   "outputs": [
    {
     "data": {
      "text/html": [
       "<div>\n",
       "<style scoped>\n",
       "    .dataframe tbody tr th:only-of-type {\n",
       "        vertical-align: middle;\n",
       "    }\n",
       "\n",
       "    .dataframe tbody tr th {\n",
       "        vertical-align: top;\n",
       "    }\n",
       "\n",
       "    .dataframe thead th {\n",
       "        text-align: right;\n",
       "    }\n",
       "</style>\n",
       "<table border=\"1\" class=\"dataframe\">\n",
       "  <thead>\n",
       "    <tr style=\"text-align: right;\">\n",
       "      <th></th>\n",
       "      <th>time</th>\n",
       "      <th>n_patients</th>\n",
       "      <th>n_died</th>\n",
       "      <th>prob_survival</th>\n",
       "    </tr>\n",
       "  </thead>\n",
       "  <tbody>\n",
       "    <tr>\n",
       "      <th>0</th>\n",
       "      <td>0.0</td>\n",
       "      <td>3117.0</td>\n",
       "      <td>1.0</td>\n",
       "      <td>0.999679</td>\n",
       "    </tr>\n",
       "    <tr>\n",
       "      <th>1</th>\n",
       "      <td>1.0</td>\n",
       "      <td>3116.0</td>\n",
       "      <td>20.0</td>\n",
       "      <td>0.993261</td>\n",
       "    </tr>\n",
       "    <tr>\n",
       "      <th>2</th>\n",
       "      <td>2.0</td>\n",
       "      <td>3096.0</td>\n",
       "      <td>64.0</td>\n",
       "      <td>0.972589</td>\n",
       "    </tr>\n",
       "    <tr>\n",
       "      <th>3</th>\n",
       "      <td>3.0</td>\n",
       "      <td>3032.0</td>\n",
       "      <td>86.0</td>\n",
       "      <td>0.944225</td>\n",
       "    </tr>\n",
       "    <tr>\n",
       "      <th>4</th>\n",
       "      <td>4.0</td>\n",
       "      <td>2946.0</td>\n",
       "      <td>68.0</td>\n",
       "      <td>0.921143</td>\n",
       "    </tr>\n",
       "  </tbody>\n",
       "</table>\n",
       "</div>"
      ],
      "text/plain": [
       "   time  n_patients  n_died  prob_survival\n",
       "0   0.0      3117.0     1.0       0.999679\n",
       "1   1.0      3116.0    20.0       0.993261\n",
       "2   2.0      3096.0    64.0       0.972589\n",
       "3   3.0      3032.0    86.0       0.944225\n",
       "4   4.0      2946.0    68.0       0.921143"
      ]
     },
     "execution_count": 19,
     "metadata": {},
     "output_type": "execute_result"
    }
   ],
   "source": [
    "km_3 = pd.DataFrame(columns=['time', 'n_patients', 'n_died', 'prob_survival'])\n",
    "n_patients = data_3.shape[0]\n",
    "prob_survival = 1\n",
    "for t in time_thresh:\n",
    "    #censor patients who are alive, but lost to follow up\n",
    "    n_patients = n_patients - data_3[(data_3['months'] == t) & (data_3['PUF_VITAL_STATUS'] == 1)].shape[0]\n",
    "    #count the number of patients who died\n",
    "    n_died = data_3[(data_3['months'] == t) & (data_3['PUF_VITAL_STATUS'] == 0)].shape[0]\n",
    "    #calculate the percent of patients who died at time t, and subtract that from the probability of survival\n",
    "    perc_died = n_died / n_patients\n",
    "    prob_survival = prob_survival - perc_died\n",
    "    km_3 = km_3.append({'time': t, 'n_patients': n_patients, 'n_died': n_died, 'prob_survival': prob_survival}, ignore_index=True)\n",
    "    #update the number of patients by removing the number of patients who died\n",
    "    n_patients = n_patients - n_died\n",
    "km_3.head()"
   ]
  },
  {
   "cell_type": "code",
   "execution_count": 20,
   "metadata": {},
   "outputs": [
    {
     "data": {
      "image/png": "[encoded data removed]",
      "text/plain": [
       "<Figure size 720x720 with 1 Axes>"
      ]
     },
     "metadata": {
      "needs_background": "light"
     },
     "output_type": "display_data"
    }
   ],
   "source": [
    "#plot the survival curves for the three tertiles on the same plot\n",
    "# plt.plot(km_df['time'], km_df['prob_survival'], label='All Patients')\n",
    "plt.figure(figsize=(10,10))\n",
    "plt.plot(km_1['time'], km_1['prob_survival'], label='Low risk', color='blue')\n",
    "plt.plot(km_2['time'], km_2['prob_survival'], label='Moderate risk', color='purple')\n",
    "plt.plot(km_3['time'], km_3['prob_survival'], label='High risk', color='red')\n",
    "plt.xlabel('Time from diagnosis (months)')\n",
    "plt.ylabel('Survival (probability)')\n",
    "plt.legend()\n",
    "plt.rcParams.update({'font.size': 20})\n",
    "plt.savefig('results/os/km.png', dpi=300, bbox_inches='tight')"
   ]
  },
  {
   "cell_type": "code",
   "execution_count": 21,
   "metadata": {},
   "outputs": [
    {
     "data": {
      "image/png": "[encoded data removed]",
      "text/plain": [
       "<Figure size 720x432 with 2 Axes>"
      ]
     },
     "metadata": {
      "needs_background": "light"
     },
     "output_type": "display_data"
    }
   ],
   "source": [
    "#did it again using a package but it looks a lot different\n",
    "import kaplanmeier as km\n",
    "time_event = data_km_pred['DX_LASTCONTACT_DEATH_MONTHS']\n",
    "censoring = data_km_pred['PUF_VITAL_STATUS']\n",
    "y = data_km_pred['tertile']\n",
    "\n",
    "results = km.fit(time_event, censoring, y)\n",
    "km.plot(results)"
   ]
  }
 ],
 "metadata": {
  "kernelspec": {
   "display_name": "Python 3",
   "language": "python",
   "name": "python3"
  },
  "language_info": {
   "codemirror_mode": {
    "name": "ipython",
    "version": 3
   },
   "file_extension": ".py",
   "mimetype": "text/x-python",
   "name": "python",
   "nbconvert_exporter": "python",
   "pygments_lexer": "ipython3",
   "version": "3.8.10"
  },
  "orig_nbformat": 4,
  "vscode": {
   "interpreter": {
    "hash": "916dbcbb3f70747c44a77c7bcd40155683ae19c65e1c03b4aa3499c5328201f1"
   }
  }
 },
 "nbformat": 4,
 "nbformat_minor": 2
}
