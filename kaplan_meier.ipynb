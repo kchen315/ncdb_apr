{
 "cells": [
  {
   "cell_type": "code",
   "execution_count": 12,
   "metadata": {},
   "outputs": [],
   "source": [
    "import pandas as pd\n",
    "import numpy as np\n",
    "import seaborn as sns\n",
    "import matplotlib.pyplot as plt\n",
    "\n",
    "from sklearn.metrics import roc_auc_score\n",
    "from sklearn.ensemble import RandomForestClassifier"
   ]
  },
  {
   "cell_type": "code",
   "execution_count": 7,
   "metadata": {},
   "outputs": [],
   "source": [
    "#read in the data and split into training and test sets\n",
    "data = pd.read_csv('data/data_os_clean_imputed.csv', index_col='PUF_CASE_ID')\n",
    "train = data[data['Year of Diagnosis'] <= 2014]\n",
    "test = data[data['Year of Diagnosis'] > 2014]\n",
    "\n",
    "X = train.drop(['3-yr Mortality'], axis=1)\n",
    "y = train['3-yr Mortality']\n",
    "X_test = test.drop(['3-yr Mortality'], axis=1)\n",
    "y_test = test['3-yr Mortality']"
   ]
  },
  {
   "cell_type": "code",
   "execution_count": 15,
   "metadata": {},
   "outputs": [
    {
     "data": {
      "text/plain": [
       "RandomForestClassifier(max_depth=20.0, min_samples_leaf=8, min_samples_split=6,\n",
       "                       n_estimators=1500)"
      ]
     },
     "execution_count": 15,
     "metadata": {},
     "output_type": "execute_result"
    }
   ],
   "source": [
    "#define the model and train it using the hyperparameters from the hyperparameter search\n",
    "models = ['rf']\n",
    "hp_dfs = {}\n",
    "for model in models:\n",
    "    hp_dfs[model] = pd.read_csv('hp_search/results_os/results_' + model + '.csv')\n",
    "\n",
    "rf_params = {'bootstrap': hp_dfs['rf']['param_bootstrap'].iloc[0],\n",
    "            'max_depth': hp_dfs['rf']['param_max_depth'].iloc[0],\n",
    "            'max_features': hp_dfs['rf']['param_max_features'].iloc[0],\n",
    "            'min_samples_leaf': hp_dfs['rf']['param_min_samples_leaf'].iloc[0],\n",
    "            'min_samples_split': hp_dfs['rf']['param_min_samples_split'].iloc[0],\n",
    "            'n_estimators': hp_dfs['rf']['param_n_estimators'].iloc[0]}\n",
    "#change nan to None\n",
    "rf_params = {k: None if pd.isna(v) else v for k, v in rf_params.items()}\n",
    "best_rf = RandomForestClassifier(**rf_params)\n",
    "best_rf.fit(X, y)"
   ]
  },
  {
   "cell_type": "code",
   "execution_count": 16,
   "metadata": {},
   "outputs": [
    {
     "name": "stdout",
     "output_type": "stream",
     "text": [
      "RF AUROC: 0.750\n"
     ]
    },
    {
     "name": "stderr",
     "output_type": "stream",
     "text": [
      "/tmp/ipykernel_409087/1683861348.py:2: SettingWithCopyWarning: \n",
      "A value is trying to be set on a copy of a slice from a DataFrame.\n",
      "Try using .loc[row_indexer,col_indexer] = value instead\n",
      "\n",
      "See the caveats in the documentation: https://pandas.pydata.org/pandas-docs/stable/user_guide/indexing.html#returning-a-view-versus-a-copy\n",
      "  test['pred_os'] = rf_preds\n"
     ]
    }
   ],
   "source": [
    "#get preds and area under the ROC curve score for the test set\n",
    "rf_preds = best_rf.predict_proba(X_test)[:, 1]\n",
    "test['pred_os'] = rf_preds\n",
    "auroc = roc_auc_score(y_test, rf_preds)\n",
    "print('RF AUROC: {:.3f}'.format(auroc))"
   ]
  },
  {
   "cell_type": "code",
   "execution_count": 17,
   "metadata": {},
   "outputs": [
    {
     "data": {
      "text/html": [
       "<div>\n",
       "<style scoped>\n",
       "    .dataframe tbody tr th:only-of-type {\n",
       "        vertical-align: middle;\n",
       "    }\n",
       "\n",
       "    .dataframe tbody tr th {\n",
       "        vertical-align: top;\n",
       "    }\n",
       "\n",
       "    .dataframe thead th {\n",
       "        text-align: right;\n",
       "    }\n",
       "</style>\n",
       "<table border=\"1\" class=\"dataframe\">\n",
       "  <thead>\n",
       "    <tr style=\"text-align: right;\">\n",
       "      <th></th>\n",
       "      <th>DX_LASTCONTACT_DEATH_MONTHS</th>\n",
       "      <th>PUF_VITAL_STATUS</th>\n",
       "    </tr>\n",
       "    <tr>\n",
       "      <th>PUF_CASE_ID</th>\n",
       "      <th></th>\n",
       "      <th></th>\n",
       "    </tr>\n",
       "  </thead>\n",
       "  <tbody>\n",
       "    <tr>\n",
       "      <th>D66f458f9-bdc0-4c95-94a3-a5f8c5bb74f9</th>\n",
       "      <td>48.82</td>\n",
       "      <td>1.0</td>\n",
       "    </tr>\n",
       "    <tr>\n",
       "      <th>Dfc68ea23-71aa-4b0d-87c0-587b4ce13d04</th>\n",
       "      <td>65.64</td>\n",
       "      <td>0.0</td>\n",
       "    </tr>\n",
       "    <tr>\n",
       "      <th>D54a1d0da-4328-4ca5-8481-87cd73b33dd4</th>\n",
       "      <td>67.48</td>\n",
       "      <td>1.0</td>\n",
       "    </tr>\n",
       "    <tr>\n",
       "      <th>D62170955-5fc5-434e-8e6a-6a9e139851c4</th>\n",
       "      <td>37.19</td>\n",
       "      <td>1.0</td>\n",
       "    </tr>\n",
       "    <tr>\n",
       "      <th>D2cfdabba-8277-463e-bf64-7c3139b45372</th>\n",
       "      <td>15.47</td>\n",
       "      <td>1.0</td>\n",
       "    </tr>\n",
       "  </tbody>\n",
       "</table>\n",
       "</div>"
      ],
      "text/plain": [
       "                                       DX_LASTCONTACT_DEATH_MONTHS  \\\n",
       "PUF_CASE_ID                                                          \n",
       "D66f458f9-bdc0-4c95-94a3-a5f8c5bb74f9                        48.82   \n",
       "Dfc68ea23-71aa-4b0d-87c0-587b4ce13d04                        65.64   \n",
       "D54a1d0da-4328-4ca5-8481-87cd73b33dd4                        67.48   \n",
       "D62170955-5fc5-434e-8e6a-6a9e139851c4                        37.19   \n",
       "D2cfdabba-8277-463e-bf64-7c3139b45372                        15.47   \n",
       "\n",
       "                                       PUF_VITAL_STATUS  \n",
       "PUF_CASE_ID                                              \n",
       "D66f458f9-bdc0-4c95-94a3-a5f8c5bb74f9               1.0  \n",
       "Dfc68ea23-71aa-4b0d-87c0-587b4ce13d04               0.0  \n",
       "D54a1d0da-4328-4ca5-8481-87cd73b33dd4               1.0  \n",
       "D62170955-5fc5-434e-8e6a-6a9e139851c4               1.0  \n",
       "D2cfdabba-8277-463e-bf64-7c3139b45372               1.0  "
      ]
     },
     "execution_count": 17,
     "metadata": {},
     "output_type": "execute_result"
    }
   ],
   "source": [
    "#read in the data with the survival times\n",
    "data_km = pd.read_csv('data/data_km.csv', index_col='PUF_CASE_ID')\n",
    "data_km.head()"
   ]
  },
  {
   "cell_type": "code",
   "execution_count": 18,
   "metadata": {},
   "outputs": [
    {
     "name": "stderr",
     "output_type": "stream",
     "text": [
      "/tmp/ipykernel_409087/954780867.py:1: SettingWithCopyWarning: \n",
      "A value is trying to be set on a copy of a slice from a DataFrame.\n",
      "Try using .loc[row_indexer,col_indexer] = value instead\n",
      "\n",
      "See the caveats in the documentation: https://pandas.pydata.org/pandas-docs/stable/user_guide/indexing.html#returning-a-view-versus-a-copy\n",
      "  test['DX_LASTCONTACT_DEATH_MONTHS'] = np.NaN\n",
      "/tmp/ipykernel_409087/954780867.py:2: SettingWithCopyWarning: \n",
      "A value is trying to be set on a copy of a slice from a DataFrame.\n",
      "Try using .loc[row_indexer,col_indexer] = value instead\n",
      "\n",
      "See the caveats in the documentation: https://pandas.pydata.org/pandas-docs/stable/user_guide/indexing.html#returning-a-view-versus-a-copy\n",
      "  test['PUF_VITAL_STATUS'] = np.NaN\n",
      "/home/kchen/.local/lib/python3.8/site-packages/pandas/core/frame.py:7511: SettingWithCopyWarning: \n",
      "A value is trying to be set on a copy of a slice from a DataFrame.\n",
      "Try using .loc[row_indexer,col_indexer] = value instead\n",
      "\n",
      "See the caveats in the documentation: https://pandas.pydata.org/pandas-docs/stable/user_guide/indexing.html#returning-a-view-versus-a-copy\n",
      "  self[col] = expressions.where(mask, this, that)\n"
     ]
    },
    {
     "data": {
      "text/html": [
       "<div>\n",
       "<style scoped>\n",
       "    .dataframe tbody tr th:only-of-type {\n",
       "        vertical-align: middle;\n",
       "    }\n",
       "\n",
       "    .dataframe tbody tr th {\n",
       "        vertical-align: top;\n",
       "    }\n",
       "\n",
       "    .dataframe thead th {\n",
       "        text-align: right;\n",
       "    }\n",
       "</style>\n",
       "<table border=\"1\" class=\"dataframe\">\n",
       "  <thead>\n",
       "    <tr style=\"text-align: right;\">\n",
       "      <th></th>\n",
       "      <th>Facility Type</th>\n",
       "      <th>Facility Location</th>\n",
       "      <th>Age</th>\n",
       "      <th>Sex</th>\n",
       "      <th>Race</th>\n",
       "      <th>Hispanic Ethnicity</th>\n",
       "      <th>Insurance Status</th>\n",
       "      <th>Urban/Rural</th>\n",
       "      <th>Distance from Hospital</th>\n",
       "      <th>Charlson-Deyo Score</th>\n",
       "      <th>...</th>\n",
       "      <th>M Stage</th>\n",
       "      <th>Pathologic Stage</th>\n",
       "      <th>Facility Volume Quartile</th>\n",
       "      <th>3-yr Mortality</th>\n",
       "      <th>Keratinizing</th>\n",
       "      <th>Basaloid</th>\n",
       "      <th>Cloacogenic</th>\n",
       "      <th>pred_os</th>\n",
       "      <th>DX_LASTCONTACT_DEATH_MONTHS</th>\n",
       "      <th>PUF_VITAL_STATUS</th>\n",
       "    </tr>\n",
       "    <tr>\n",
       "      <th>PUF_CASE_ID</th>\n",
       "      <th></th>\n",
       "      <th></th>\n",
       "      <th></th>\n",
       "      <th></th>\n",
       "      <th></th>\n",
       "      <th></th>\n",
       "      <th></th>\n",
       "      <th></th>\n",
       "      <th></th>\n",
       "      <th></th>\n",
       "      <th></th>\n",
       "      <th></th>\n",
       "      <th></th>\n",
       "      <th></th>\n",
       "      <th></th>\n",
       "      <th></th>\n",
       "      <th></th>\n",
       "      <th></th>\n",
       "      <th></th>\n",
       "      <th></th>\n",
       "      <th></th>\n",
       "    </tr>\n",
       "  </thead>\n",
       "  <tbody>\n",
       "    <tr>\n",
       "      <th>D66f458f9-bdc0-4c95-94a3-a5f8c5bb74f9</th>\n",
       "      <td>0</td>\n",
       "      <td>0</td>\n",
       "      <td>-0.707231</td>\n",
       "      <td>0</td>\n",
       "      <td>3</td>\n",
       "      <td>1</td>\n",
       "      <td>2</td>\n",
       "      <td>2</td>\n",
       "      <td>-0.678043</td>\n",
       "      <td>0</td>\n",
       "      <td>...</td>\n",
       "      <td>0</td>\n",
       "      <td>3</td>\n",
       "      <td>3.0</td>\n",
       "      <td>0</td>\n",
       "      <td>0</td>\n",
       "      <td>0</td>\n",
       "      <td>0</td>\n",
       "      <td>0.073868</td>\n",
       "      <td>48.82</td>\n",
       "      <td>1.0</td>\n",
       "    </tr>\n",
       "    <tr>\n",
       "      <th>D62170955-5fc5-434e-8e6a-6a9e139851c4</th>\n",
       "      <td>0</td>\n",
       "      <td>0</td>\n",
       "      <td>1.607898</td>\n",
       "      <td>0</td>\n",
       "      <td>3</td>\n",
       "      <td>1</td>\n",
       "      <td>1</td>\n",
       "      <td>2</td>\n",
       "      <td>-0.367283</td>\n",
       "      <td>0</td>\n",
       "      <td>...</td>\n",
       "      <td>0</td>\n",
       "      <td>3</td>\n",
       "      <td>3.0</td>\n",
       "      <td>0</td>\n",
       "      <td>0</td>\n",
       "      <td>0</td>\n",
       "      <td>0</td>\n",
       "      <td>0.141220</td>\n",
       "      <td>37.19</td>\n",
       "      <td>1.0</td>\n",
       "    </tr>\n",
       "    <tr>\n",
       "      <th>Dd3c2eac8-dbdf-464f-9066-a963c6752b09</th>\n",
       "      <td>2</td>\n",
       "      <td>2</td>\n",
       "      <td>0.284967</td>\n",
       "      <td>0</td>\n",
       "      <td>3</td>\n",
       "      <td>1</td>\n",
       "      <td>3</td>\n",
       "      <td>0</td>\n",
       "      <td>1.782135</td>\n",
       "      <td>0</td>\n",
       "      <td>...</td>\n",
       "      <td>0</td>\n",
       "      <td>3</td>\n",
       "      <td>4.0</td>\n",
       "      <td>0</td>\n",
       "      <td>0</td>\n",
       "      <td>0</td>\n",
       "      <td>0</td>\n",
       "      <td>0.077230</td>\n",
       "      <td>65.38</td>\n",
       "      <td>1.0</td>\n",
       "    </tr>\n",
       "    <tr>\n",
       "      <th>D57b642e3-2e44-4ef6-b4df-b91f6410c42e</th>\n",
       "      <td>0</td>\n",
       "      <td>1</td>\n",
       "      <td>-0.459182</td>\n",
       "      <td>1</td>\n",
       "      <td>1</td>\n",
       "      <td>1</td>\n",
       "      <td>3</td>\n",
       "      <td>2</td>\n",
       "      <td>-0.703939</td>\n",
       "      <td>0</td>\n",
       "      <td>...</td>\n",
       "      <td>0</td>\n",
       "      <td>3</td>\n",
       "      <td>2.0</td>\n",
       "      <td>1</td>\n",
       "      <td>0</td>\n",
       "      <td>0</td>\n",
       "      <td>0</td>\n",
       "      <td>0.142148</td>\n",
       "      <td>27.63</td>\n",
       "      <td>0.0</td>\n",
       "    </tr>\n",
       "    <tr>\n",
       "      <th>D7121b2ab-aab2-49ce-8449-dd1695d46b2e</th>\n",
       "      <td>0</td>\n",
       "      <td>2</td>\n",
       "      <td>-0.789914</td>\n",
       "      <td>1</td>\n",
       "      <td>1</td>\n",
       "      <td>1</td>\n",
       "      <td>3</td>\n",
       "      <td>2</td>\n",
       "      <td>-0.768681</td>\n",
       "      <td>0</td>\n",
       "      <td>...</td>\n",
       "      <td>0</td>\n",
       "      <td>3</td>\n",
       "      <td>3.0</td>\n",
       "      <td>0</td>\n",
       "      <td>0</td>\n",
       "      <td>0</td>\n",
       "      <td>0</td>\n",
       "      <td>0.193928</td>\n",
       "      <td>45.27</td>\n",
       "      <td>1.0</td>\n",
       "    </tr>\n",
       "  </tbody>\n",
       "</table>\n",
       "<p>5 rows × 38 columns</p>\n",
       "</div>"
      ],
      "text/plain": [
       "                                       Facility Type  Facility Location  \\\n",
       "PUF_CASE_ID                                                               \n",
       "D66f458f9-bdc0-4c95-94a3-a5f8c5bb74f9              0                  0   \n",
       "D62170955-5fc5-434e-8e6a-6a9e139851c4              0                  0   \n",
       "Dd3c2eac8-dbdf-464f-9066-a963c6752b09              2                  2   \n",
       "D57b642e3-2e44-4ef6-b4df-b91f6410c42e              0                  1   \n",
       "D7121b2ab-aab2-49ce-8449-dd1695d46b2e              0                  2   \n",
       "\n",
       "                                            Age  Sex  Race  \\\n",
       "PUF_CASE_ID                                                  \n",
       "D66f458f9-bdc0-4c95-94a3-a5f8c5bb74f9 -0.707231    0     3   \n",
       "D62170955-5fc5-434e-8e6a-6a9e139851c4  1.607898    0     3   \n",
       "Dd3c2eac8-dbdf-464f-9066-a963c6752b09  0.284967    0     3   \n",
       "D57b642e3-2e44-4ef6-b4df-b91f6410c42e -0.459182    1     1   \n",
       "D7121b2ab-aab2-49ce-8449-dd1695d46b2e -0.789914    1     1   \n",
       "\n",
       "                                       Hispanic Ethnicity  Insurance Status  \\\n",
       "PUF_CASE_ID                                                                   \n",
       "D66f458f9-bdc0-4c95-94a3-a5f8c5bb74f9                   1                 2   \n",
       "D62170955-5fc5-434e-8e6a-6a9e139851c4                   1                 1   \n",
       "Dd3c2eac8-dbdf-464f-9066-a963c6752b09                   1                 3   \n",
       "D57b642e3-2e44-4ef6-b4df-b91f6410c42e                   1                 3   \n",
       "D7121b2ab-aab2-49ce-8449-dd1695d46b2e                   1                 3   \n",
       "\n",
       "                                       Urban/Rural  Distance from Hospital  \\\n",
       "PUF_CASE_ID                                                                  \n",
       "D66f458f9-bdc0-4c95-94a3-a5f8c5bb74f9            2               -0.678043   \n",
       "D62170955-5fc5-434e-8e6a-6a9e139851c4            2               -0.367283   \n",
       "Dd3c2eac8-dbdf-464f-9066-a963c6752b09            0                1.782135   \n",
       "D57b642e3-2e44-4ef6-b4df-b91f6410c42e            2               -0.703939   \n",
       "D7121b2ab-aab2-49ce-8449-dd1695d46b2e            2               -0.768681   \n",
       "\n",
       "                                       Charlson-Deyo Score  ...  M Stage  \\\n",
       "PUF_CASE_ID                                                 ...            \n",
       "D66f458f9-bdc0-4c95-94a3-a5f8c5bb74f9                    0  ...        0   \n",
       "D62170955-5fc5-434e-8e6a-6a9e139851c4                    0  ...        0   \n",
       "Dd3c2eac8-dbdf-464f-9066-a963c6752b09                    0  ...        0   \n",
       "D57b642e3-2e44-4ef6-b4df-b91f6410c42e                    0  ...        0   \n",
       "D7121b2ab-aab2-49ce-8449-dd1695d46b2e                    0  ...        0   \n",
       "\n",
       "                                       Pathologic Stage  \\\n",
       "PUF_CASE_ID                                               \n",
       "D66f458f9-bdc0-4c95-94a3-a5f8c5bb74f9                 3   \n",
       "D62170955-5fc5-434e-8e6a-6a9e139851c4                 3   \n",
       "Dd3c2eac8-dbdf-464f-9066-a963c6752b09                 3   \n",
       "D57b642e3-2e44-4ef6-b4df-b91f6410c42e                 3   \n",
       "D7121b2ab-aab2-49ce-8449-dd1695d46b2e                 3   \n",
       "\n",
       "                                       Facility Volume Quartile  \\\n",
       "PUF_CASE_ID                                                       \n",
       "D66f458f9-bdc0-4c95-94a3-a5f8c5bb74f9                       3.0   \n",
       "D62170955-5fc5-434e-8e6a-6a9e139851c4                       3.0   \n",
       "Dd3c2eac8-dbdf-464f-9066-a963c6752b09                       4.0   \n",
       "D57b642e3-2e44-4ef6-b4df-b91f6410c42e                       2.0   \n",
       "D7121b2ab-aab2-49ce-8449-dd1695d46b2e                       3.0   \n",
       "\n",
       "                                       3-yr Mortality  Keratinizing  Basaloid  \\\n",
       "PUF_CASE_ID                                                                     \n",
       "D66f458f9-bdc0-4c95-94a3-a5f8c5bb74f9               0             0         0   \n",
       "D62170955-5fc5-434e-8e6a-6a9e139851c4               0             0         0   \n",
       "Dd3c2eac8-dbdf-464f-9066-a963c6752b09               0             0         0   \n",
       "D57b642e3-2e44-4ef6-b4df-b91f6410c42e               1             0         0   \n",
       "D7121b2ab-aab2-49ce-8449-dd1695d46b2e               0             0         0   \n",
       "\n",
       "                                       Cloacogenic   pred_os  \\\n",
       "PUF_CASE_ID                                                    \n",
       "D66f458f9-bdc0-4c95-94a3-a5f8c5bb74f9            0  0.073868   \n",
       "D62170955-5fc5-434e-8e6a-6a9e139851c4            0  0.141220   \n",
       "Dd3c2eac8-dbdf-464f-9066-a963c6752b09            0  0.077230   \n",
       "D57b642e3-2e44-4ef6-b4df-b91f6410c42e            0  0.142148   \n",
       "D7121b2ab-aab2-49ce-8449-dd1695d46b2e            0  0.193928   \n",
       "\n",
       "                                       DX_LASTCONTACT_DEATH_MONTHS  \\\n",
       "PUF_CASE_ID                                                          \n",
       "D66f458f9-bdc0-4c95-94a3-a5f8c5bb74f9                        48.82   \n",
       "D62170955-5fc5-434e-8e6a-6a9e139851c4                        37.19   \n",
       "Dd3c2eac8-dbdf-464f-9066-a963c6752b09                        65.38   \n",
       "D57b642e3-2e44-4ef6-b4df-b91f6410c42e                        27.63   \n",
       "D7121b2ab-aab2-49ce-8449-dd1695d46b2e                        45.27   \n",
       "\n",
       "                                       PUF_VITAL_STATUS  \n",
       "PUF_CASE_ID                                              \n",
       "D66f458f9-bdc0-4c95-94a3-a5f8c5bb74f9               1.0  \n",
       "D62170955-5fc5-434e-8e6a-6a9e139851c4               1.0  \n",
       "Dd3c2eac8-dbdf-464f-9066-a963c6752b09               1.0  \n",
       "D57b642e3-2e44-4ef6-b4df-b91f6410c42e               0.0  \n",
       "D7121b2ab-aab2-49ce-8449-dd1695d46b2e               1.0  \n",
       "\n",
       "[5 rows x 38 columns]"
      ]
     },
     "execution_count": 18,
     "metadata": {},
     "output_type": "execute_result"
    }
   ],
   "source": [
    "#add the survival times to the test set\n",
    "test['DX_LASTCONTACT_DEATH_MONTHS'] = np.NaN\n",
    "test['PUF_VITAL_STATUS'] = np.NaN\n",
    "test.update(data_km)\n",
    "test.head()"
   ]
  },
  {
   "cell_type": "code",
   "execution_count": null,
   "metadata": {},
   "outputs": [
    {
     "data": {
      "text/plain": [
       "count    33790.000000\n",
       "mean        70.066366\n",
       "std         45.868262\n",
       "min          0.000000\n",
       "25%         37.190000\n",
       "50%         61.930000\n",
       "75%         99.680000\n",
       "max        208.790000\n",
       "Name: DX_LASTCONTACT_DEATH_MONTHS, dtype: float64"
      ]
     },
     "execution_count": 95,
     "metadata": {},
     "output_type": "execute_result"
    }
   ],
   "source": [
    "test['DX_LASTCONTACT_DEATH_MONTHS'].describe()"
   ]
  },
  {
   "cell_type": "code",
   "execution_count": 109,
   "metadata": {},
   "outputs": [
    {
     "data": {
      "text/plain": [
       "(33790, 3)"
      ]
     },
     "execution_count": 109,
     "metadata": {},
     "output_type": "execute_result"
    }
   ],
   "source": [
    "#narrow the dataset to include only what's needed for the curves\n",
    "incl = ['pred_os', 'DX_LASTCONTACT_DEATH_MONTHS', 'PUF_VITAL_STATUS']\n",
    "data_km_pred = test[incl]\n",
    "data_km_pred.shape"
   ]
  },
  {
   "cell_type": "code",
   "execution_count": 110,
   "metadata": {},
   "outputs": [
    {
     "data": {
      "text/plain": [
       "count    33790.000000\n",
       "mean         0.237167\n",
       "std          0.168189\n",
       "min          0.005165\n",
       "25%          0.102735\n",
       "50%          0.194335\n",
       "75%          0.337232\n",
       "max          0.893010\n",
       "Name: pred_os, dtype: float64"
      ]
     },
     "execution_count": 110,
     "metadata": {},
     "output_type": "execute_result"
    }
   ],
   "source": [
    "data_km_pred['pred_os'].describe()"
   ]
  },
  {
   "cell_type": "code",
   "execution_count": 111,
   "metadata": {},
   "outputs": [
    {
     "name": "stdout",
     "output_type": "stream",
     "text": [
      "0.1297 0.2819\n"
     ]
    }
   ],
   "source": [
    "#split the data into 3 groups based on the predicted survival times (tertiles of risk)\n",
    "q_1 = round(data_km_pred['pred_os'].quantile(1 / 3), 4)\n",
    "q_2 = round(data_km_pred['pred_os'].quantile(2 / 3), 4)\n",
    "print(q_1, q_2)"
   ]
  },
  {
   "cell_type": "code",
   "execution_count": 112,
   "metadata": {},
   "outputs": [
    {
     "name": "stderr",
     "output_type": "stream",
     "text": [
      "/tmp/ipykernel_390608/2371797294.py:1: SettingWithCopyWarning: \n",
      "A value is trying to be set on a copy of a slice from a DataFrame.\n",
      "Try using .loc[row_indexer,col_indexer] = value instead\n",
      "\n",
      "See the caveats in the documentation: https://pandas.pydata.org/pandas-docs/stable/user_guide/indexing.html#returning-a-view-versus-a-copy\n",
      "  data_km_pred['tertile'] = np.NaN\n",
      "/home/kchen/.local/lib/python3.8/site-packages/pandas/core/indexing.py:1732: SettingWithCopyWarning: \n",
      "A value is trying to be set on a copy of a slice from a DataFrame\n",
      "\n",
      "See the caveats in the documentation: https://pandas.pydata.org/pandas-docs/stable/user_guide/indexing.html#returning-a-view-versus-a-copy\n",
      "  self._setitem_single_block(indexer, value, name)\n",
      "/home/kchen/.local/lib/python3.8/site-packages/pandas/core/indexing.py:723: SettingWithCopyWarning: \n",
      "A value is trying to be set on a copy of a slice from a DataFrame\n",
      "\n",
      "See the caveats in the documentation: https://pandas.pydata.org/pandas-docs/stable/user_guide/indexing.html#returning-a-view-versus-a-copy\n",
      "  iloc._setitem_with_indexer(indexer, value, self.name)\n"
     ]
    },
    {
     "data": {
      "text/plain": [
       "1.0    11264\n",
       "3.0    11264\n",
       "2.0    11262\n",
       "Name: tertile, dtype: int64"
      ]
     },
     "execution_count": 112,
     "metadata": {},
     "output_type": "execute_result"
    }
   ],
   "source": [
    "data_km_pred['tertile'] = np.NaN\n",
    "for i, row in data_km_pred.iterrows():\n",
    "    if row['pred_os'] <= q_1:\n",
    "        data_km_pred.loc[i, 'tertile'] = 1\n",
    "    elif row['pred_os'] <= q_2:\n",
    "        data_km_pred.loc[i, 'tertile'] = 2\n",
    "    else:\n",
    "        data_km_pred.loc[i, 'tertile'] = 3\n",
    "data_km_pred['tertile'].value_counts(dropna=False)"
   ]
  },
  {
   "cell_type": "code",
   "execution_count": null,
   "metadata": {},
   "outputs": [],
   "source": [
    "data_1 = data_km_pred[data_km_pred['tertile'] == 1]\n",
    "data_2 = data_km_pred[data_km_pred['tertile'] == 2]\n",
    "data_3 = data_km_pred[data_km_pred['tertile'] == 3]"
   ]
  },
  {
   "cell_type": "code",
   "execution_count": 115,
   "metadata": {},
   "outputs": [],
   "source": [
    "#get a list of time thresholds, 1-36 months\n",
    "time_thresh = [i for i in range(0, 37, 1)]\n",
    "#round the survival times to whole months\n",
    "data_km_pred['months'] = round(data_km_pred['DX_LASTCONTACT_DEATH_MONTHS'], 0)"
   ]
  },
  {
   "cell_type": "code",
   "execution_count": 131,
   "metadata": {},
   "outputs": [
    {
     "data": {
      "text/html": [
       "<div>\n",
       "<style scoped>\n",
       "    .dataframe tbody tr th:only-of-type {\n",
       "        vertical-align: middle;\n",
       "    }\n",
       "\n",
       "    .dataframe tbody tr th {\n",
       "        vertical-align: top;\n",
       "    }\n",
       "\n",
       "    .dataframe thead th {\n",
       "        text-align: right;\n",
       "    }\n",
       "</style>\n",
       "<table border=\"1\" class=\"dataframe\">\n",
       "  <thead>\n",
       "    <tr style=\"text-align: right;\">\n",
       "      <th></th>\n",
       "      <th>time</th>\n",
       "      <th>n_patients</th>\n",
       "      <th>n_died</th>\n",
       "      <th>prob_survival</th>\n",
       "    </tr>\n",
       "  </thead>\n",
       "  <tbody>\n",
       "    <tr>\n",
       "      <th>0</th>\n",
       "      <td>0.0</td>\n",
       "      <td>11264.0</td>\n",
       "      <td>0.0</td>\n",
       "      <td>1.000000</td>\n",
       "    </tr>\n",
       "    <tr>\n",
       "      <th>1</th>\n",
       "      <td>1.0</td>\n",
       "      <td>11264.0</td>\n",
       "      <td>0.0</td>\n",
       "      <td>1.000000</td>\n",
       "    </tr>\n",
       "    <tr>\n",
       "      <th>2</th>\n",
       "      <td>2.0</td>\n",
       "      <td>11264.0</td>\n",
       "      <td>1.0</td>\n",
       "      <td>0.999911</td>\n",
       "    </tr>\n",
       "    <tr>\n",
       "      <th>3</th>\n",
       "      <td>3.0</td>\n",
       "      <td>11263.0</td>\n",
       "      <td>3.0</td>\n",
       "      <td>0.999645</td>\n",
       "    </tr>\n",
       "    <tr>\n",
       "      <th>4</th>\n",
       "      <td>4.0</td>\n",
       "      <td>11260.0</td>\n",
       "      <td>0.0</td>\n",
       "      <td>0.999645</td>\n",
       "    </tr>\n",
       "  </tbody>\n",
       "</table>\n",
       "</div>"
      ],
      "text/plain": [
       "   time  n_patients  n_died  prob_survival\n",
       "0   0.0     11264.0     0.0       1.000000\n",
       "1   1.0     11264.0     0.0       1.000000\n",
       "2   2.0     11264.0     1.0       0.999911\n",
       "3   3.0     11263.0     3.0       0.999645\n",
       "4   4.0     11260.0     0.0       0.999645"
      ]
     },
     "execution_count": 131,
     "metadata": {},
     "output_type": "execute_result"
    }
   ],
   "source": [
    "#make an empty dataframe to hold the results\n",
    "km_1 = pd.DataFrame(columns=['time', 'n_patients', 'n_died', 'prob_survival'])\n",
    "#original number of patients\n",
    "n_patients = data_1.shape[0]\n",
    "#probability of survival\n",
    "prob_survival = 1\n",
    "\n",
    "#based on this explanation of kaplan-meier curves: https://towardsdatascience.com/kaplan-meier-curves-c5768e349479\n",
    "for t in time_thresh:\n",
    "    #censor patients who are alive, but lost to follow up\n",
    "    n_patients = n_patients - data_1[(data_1['months'] == t) & (data_1['PUF_VITAL_STATUS'] == 1)].shape[0]\n",
    "    #count the number of patients who died\n",
    "    n_died = data_1[(data_1['months'] == t) & (data_1['PUF_VITAL_STATUS'] == 0)].shape[0]\n",
    "    #calculate the percent of patients who died at time t, and subtract that from the probability of survival\n",
    "    perc_died = n_died / n_patients\n",
    "    prob_survival = prob_survival - perc_died\n",
    "    km_1 = km_1.append({'time': t, 'n_patients': n_patients, 'n_died': n_died, 'prob_survival': prob_survival}, ignore_index=True)\n",
    "    #update the number of patients by removing the number of patients who died\n",
    "    n_patients = n_patients - n_died\n",
    "km_1.head()"
   ]
  },
  {
   "cell_type": "code",
   "execution_count": 132,
   "metadata": {},
   "outputs": [
    {
     "data": {
      "text/html": [
       "<div>\n",
       "<style scoped>\n",
       "    .dataframe tbody tr th:only-of-type {\n",
       "        vertical-align: middle;\n",
       "    }\n",
       "\n",
       "    .dataframe tbody tr th {\n",
       "        vertical-align: top;\n",
       "    }\n",
       "\n",
       "    .dataframe thead th {\n",
       "        text-align: right;\n",
       "    }\n",
       "</style>\n",
       "<table border=\"1\" class=\"dataframe\">\n",
       "  <thead>\n",
       "    <tr style=\"text-align: right;\">\n",
       "      <th></th>\n",
       "      <th>time</th>\n",
       "      <th>n_patients</th>\n",
       "      <th>n_died</th>\n",
       "      <th>prob_survival</th>\n",
       "    </tr>\n",
       "  </thead>\n",
       "  <tbody>\n",
       "    <tr>\n",
       "      <th>0</th>\n",
       "      <td>0.0</td>\n",
       "      <td>11262.0</td>\n",
       "      <td>0.0</td>\n",
       "      <td>1.000000</td>\n",
       "    </tr>\n",
       "    <tr>\n",
       "      <th>1</th>\n",
       "      <td>1.0</td>\n",
       "      <td>11262.0</td>\n",
       "      <td>10.0</td>\n",
       "      <td>0.999112</td>\n",
       "    </tr>\n",
       "    <tr>\n",
       "      <th>2</th>\n",
       "      <td>2.0</td>\n",
       "      <td>11252.0</td>\n",
       "      <td>37.0</td>\n",
       "      <td>0.995824</td>\n",
       "    </tr>\n",
       "    <tr>\n",
       "      <th>3</th>\n",
       "      <td>3.0</td>\n",
       "      <td>11215.0</td>\n",
       "      <td>39.0</td>\n",
       "      <td>0.992346</td>\n",
       "    </tr>\n",
       "    <tr>\n",
       "      <th>4</th>\n",
       "      <td>4.0</td>\n",
       "      <td>11176.0</td>\n",
       "      <td>29.0</td>\n",
       "      <td>0.989751</td>\n",
       "    </tr>\n",
       "  </tbody>\n",
       "</table>\n",
       "</div>"
      ],
      "text/plain": [
       "   time  n_patients  n_died  prob_survival\n",
       "0   0.0     11262.0     0.0       1.000000\n",
       "1   1.0     11262.0    10.0       0.999112\n",
       "2   2.0     11252.0    37.0       0.995824\n",
       "3   3.0     11215.0    39.0       0.992346\n",
       "4   4.0     11176.0    29.0       0.989751"
      ]
     },
     "execution_count": 132,
     "metadata": {},
     "output_type": "execute_result"
    }
   ],
   "source": [
    "km_2 = pd.DataFrame(columns=['time', 'n_patients', 'n_died', 'prob_survival'])\n",
    "n_patients = data_2.shape[0]\n",
    "prob_survival = 1\n",
    "for t in time_thresh:\n",
    "    #censor patients who are alive, but lost to follow up\n",
    "    n_patients = n_patients - data_2[(data_2['months'] == t) & (data_2['PUF_VITAL_STATUS'] == 1)].shape[0]\n",
    "    #count the number of patients who died\n",
    "    n_died = data_2[(data_2['months'] == t) & (data_2['PUF_VITAL_STATUS'] == 0)].shape[0]\n",
    "    #calculate the percent of patients who died at time t, and subtract that from the probability of survival\n",
    "    perc_died = n_died / n_patients\n",
    "    prob_survival = prob_survival - perc_died\n",
    "    km_2 = km_2.append({'time': t, 'n_patients': n_patients, 'n_died': n_died, 'prob_survival': prob_survival}, ignore_index=True)\n",
    "    #update the number of patients by removing the number of patients who died\n",
    "    n_patients = n_patients - n_died\n",
    "km_2.head()"
   ]
  },
  {
   "cell_type": "code",
   "execution_count": 133,
   "metadata": {},
   "outputs": [
    {
     "data": {
      "text/html": [
       "<div>\n",
       "<style scoped>\n",
       "    .dataframe tbody tr th:only-of-type {\n",
       "        vertical-align: middle;\n",
       "    }\n",
       "\n",
       "    .dataframe tbody tr th {\n",
       "        vertical-align: top;\n",
       "    }\n",
       "\n",
       "    .dataframe thead th {\n",
       "        text-align: right;\n",
       "    }\n",
       "</style>\n",
       "<table border=\"1\" class=\"dataframe\">\n",
       "  <thead>\n",
       "    <tr style=\"text-align: right;\">\n",
       "      <th></th>\n",
       "      <th>time</th>\n",
       "      <th>n_patients</th>\n",
       "      <th>n_died</th>\n",
       "      <th>prob_survival</th>\n",
       "    </tr>\n",
       "  </thead>\n",
       "  <tbody>\n",
       "    <tr>\n",
       "      <th>0</th>\n",
       "      <td>0.0</td>\n",
       "      <td>11264.0</td>\n",
       "      <td>3.0</td>\n",
       "      <td>0.999734</td>\n",
       "    </tr>\n",
       "    <tr>\n",
       "      <th>1</th>\n",
       "      <td>1.0</td>\n",
       "      <td>11261.0</td>\n",
       "      <td>90.0</td>\n",
       "      <td>0.991741</td>\n",
       "    </tr>\n",
       "    <tr>\n",
       "      <th>2</th>\n",
       "      <td>2.0</td>\n",
       "      <td>11171.0</td>\n",
       "      <td>284.0</td>\n",
       "      <td>0.966319</td>\n",
       "    </tr>\n",
       "    <tr>\n",
       "      <th>3</th>\n",
       "      <td>3.0</td>\n",
       "      <td>10887.0</td>\n",
       "      <td>340.0</td>\n",
       "      <td>0.935089</td>\n",
       "    </tr>\n",
       "    <tr>\n",
       "      <th>4</th>\n",
       "      <td>4.0</td>\n",
       "      <td>10547.0</td>\n",
       "      <td>237.0</td>\n",
       "      <td>0.912618</td>\n",
       "    </tr>\n",
       "  </tbody>\n",
       "</table>\n",
       "</div>"
      ],
      "text/plain": [
       "   time  n_patients  n_died  prob_survival\n",
       "0   0.0     11264.0     3.0       0.999734\n",
       "1   1.0     11261.0    90.0       0.991741\n",
       "2   2.0     11171.0   284.0       0.966319\n",
       "3   3.0     10887.0   340.0       0.935089\n",
       "4   4.0     10547.0   237.0       0.912618"
      ]
     },
     "execution_count": 133,
     "metadata": {},
     "output_type": "execute_result"
    }
   ],
   "source": [
    "km_3 = pd.DataFrame(columns=['time', 'n_patients', 'n_died', 'prob_survival'])\n",
    "n_patients = data_3.shape[0]\n",
    "prob_survival = 1\n",
    "for t in time_thresh:\n",
    "    #censor patients who are alive, but lost to follow up\n",
    "    n_patients = n_patients - data_3[(data_3['months'] == t) & (data_3['PUF_VITAL_STATUS'] == 1)].shape[0]\n",
    "    #count the number of patients who died\n",
    "    n_died = data_3[(data_3['months'] == t) & (data_3['PUF_VITAL_STATUS'] == 0)].shape[0]\n",
    "    #calculate the percent of patients who died at time t, and subtract that from the probability of survival\n",
    "    perc_died = n_died / n_patients\n",
    "    prob_survival = prob_survival - perc_died\n",
    "    km_3 = km_3.append({'time': t, 'n_patients': n_patients, 'n_died': n_died, 'prob_survival': prob_survival}, ignore_index=True)\n",
    "    #update the number of patients by removing the number of patients who died\n",
    "    n_patients = n_patients - n_died\n",
    "km_3.head()"
   ]
  },
  {
   "cell_type": "code",
   "execution_count": 152,
   "metadata": {},
   "outputs": [
    {
     "data": {
      "image/png": "[encoded data removed]",
      "text/plain": [
       "<Figure size 720x720 with 1 Axes>"
      ]
     },
     "metadata": {
      "needs_background": "light"
     },
     "output_type": "display_data"
    }
   ],
   "source": [
    "#plot the survival curves for the three tertiles on the same plot\n",
    "# plt.plot(km_df['time'], km_df['prob_survival'], label='All Patients')\n",
    "plt.figure(figsize=(10,10))\n",
    "plt.plot(km_1['time'], km_1['prob_survival'], label='Low risk', color='blue')\n",
    "plt.plot(km_2['time'], km_2['prob_survival'], label='Moderate risk', color='purple')\n",
    "plt.plot(km_3['time'], km_3['prob_survival'], label='High risk', color='red')\n",
    "plt.xlabel('Time from diagnosis (months)')\n",
    "plt.ylabel('Survival (probability)')\n",
    "plt.legend()\n",
    "plt.rcParams.update({'font.size': 20})\n",
    "plt.savefig('results/os/km.png', dpi=300, bbox_inches='tight')"
   ]
  },
  {
   "cell_type": "code",
   "execution_count": 25,
   "metadata": {},
   "outputs": [
    {
     "data": {
      "image/png": "[encoded data removed]",
      "text/plain": [
       "<Figure size 720x432 with 2 Axes>"
      ]
     },
     "metadata": {
      "needs_background": "light"
     },
     "output_type": "display_data"
    }
   ],
   "source": [
    "#did it again using a package but it looks a lot different\n",
    "import kaplanmeier as km\n",
    "time_event = data_km_pred['DX_LASTCONTACT_DEATH_MONTHS']\n",
    "censoring = data_km_pred['PUF_VITAL_STATUS']\n",
    "y = data_km_pred['tertile']\n",
    "\n",
    "results = km.fit(time_event, censoring, y)\n",
    "km.plot(results)"
   ]
  }
 ],
 "metadata": {
  "kernelspec": {
   "display_name": "Python 3",
   "language": "python",
   "name": "python3"
  },
  "language_info": {
   "codemirror_mode": {
    "name": "ipython",
    "version": 3
   },
   "file_extension": ".py",
   "mimetype": "text/x-python",
   "name": "python",
   "nbconvert_exporter": "python",
   "pygments_lexer": "ipython3",
   "version": "3.8.10"
  },
  "orig_nbformat": 4,
  "vscode": {
   "interpreter": {
    "hash": "916dbcbb3f70747c44a77c7bcd40155683ae19c65e1c03b4aa3499c5328201f1"
   }
  }
 },
 "nbformat": 4,
 "nbformat_minor": 2
}
