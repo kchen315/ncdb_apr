{
 "cells": [
  {
   "cell_type": "code",
   "execution_count": 88,
   "metadata": {},
   "outputs": [],
   "source": [
    "import pandas as pd\n",
    "import numpy as np\n",
    "import seaborn as sns\n",
    "import matplotlib.pyplot as plt\n",
    "\n",
    "from sklearn.ensemble import RandomForestClassifier"
   ]
  },
  {
   "cell_type": "code",
   "execution_count": 89,
   "metadata": {},
   "outputs": [],
   "source": [
    "# incl = ['DX_LASTCONTACT_DEATH_MONTHS', 'PUF_VITAL_STATUS', 'PUF_CASE_ID']\n",
    "data = pd.read_csv('data/data_os_clean_imputed.csv', index_col='PUF_CASE_ID')\n",
    "y = data['3-yr Mortality']\n",
    "X = data.drop(['3-yr Mortality'], axis=1)"
   ]
  },
  {
   "cell_type": "code",
   "execution_count": 90,
   "metadata": {},
   "outputs": [
    {
     "data": {
      "text/plain": [
       "0    25802\n",
       "1     7988\n",
       "Name: 3-yr Mortality, dtype: int64"
      ]
     },
     "execution_count": 90,
     "metadata": {},
     "output_type": "execute_result"
    }
   ],
   "source": [
    "y.value_counts()"
   ]
  },
  {
   "cell_type": "code",
   "execution_count": 91,
   "metadata": {},
   "outputs": [
    {
     "data": {
      "text/plain": [
       "RandomForestClassifier(max_depth=120.0, min_samples_leaf=8, min_samples_split=3,\n",
       "                       n_estimators=750)"
      ]
     },
     "execution_count": 91,
     "metadata": {},
     "output_type": "execute_result"
    }
   ],
   "source": [
    "models = ['rf']\n",
    "hp_dfs = {}\n",
    "for model in models:\n",
    "    hp_dfs[model] = pd.read_csv('hp_search/results/results_' + model + '.csv')\n",
    "\n",
    "rf_params = {'bootstrap': hp_dfs['rf']['param_bootstrap'].iloc[0],\n",
    "            'max_depth': hp_dfs['rf']['param_max_depth'].iloc[0],\n",
    "            'max_features': hp_dfs['rf']['param_max_features'].iloc[0],\n",
    "            'min_samples_leaf': hp_dfs['rf']['param_min_samples_leaf'].iloc[0],\n",
    "            'min_samples_split': hp_dfs['rf']['param_min_samples_split'].iloc[0],\n",
    "            'n_estimators': hp_dfs['rf']['param_n_estimators'].iloc[0]}\n",
    "#change nan to None\n",
    "rf_params = {k: None if pd.isna(v) else v for k, v in rf_params.items()}\n",
    "best_rf = RandomForestClassifier(**rf_params)\n",
    "best_rf.fit(X, y)"
   ]
  },
  {
   "cell_type": "code",
   "execution_count": 92,
   "metadata": {},
   "outputs": [],
   "source": [
    "rf_preds = best_rf.predict_proba(X)[:, 1]\n",
    "data['pred_os'] = rf_preds"
   ]
  },
  {
   "cell_type": "code",
   "execution_count": 93,
   "metadata": {},
   "outputs": [
    {
     "data": {
      "text/html": [
       "<div>\n",
       "<style scoped>\n",
       "    .dataframe tbody tr th:only-of-type {\n",
       "        vertical-align: middle;\n",
       "    }\n",
       "\n",
       "    .dataframe tbody tr th {\n",
       "        vertical-align: top;\n",
       "    }\n",
       "\n",
       "    .dataframe thead th {\n",
       "        text-align: right;\n",
       "    }\n",
       "</style>\n",
       "<table border=\"1\" class=\"dataframe\">\n",
       "  <thead>\n",
       "    <tr style=\"text-align: right;\">\n",
       "      <th></th>\n",
       "      <th>DX_LASTCONTACT_DEATH_MONTHS</th>\n",
       "      <th>PUF_VITAL_STATUS</th>\n",
       "    </tr>\n",
       "    <tr>\n",
       "      <th>PUF_CASE_ID</th>\n",
       "      <th></th>\n",
       "      <th></th>\n",
       "    </tr>\n",
       "  </thead>\n",
       "  <tbody>\n",
       "    <tr>\n",
       "      <th>D66f458f9-bdc0-4c95-94a3-a5f8c5bb74f9</th>\n",
       "      <td>48.82</td>\n",
       "      <td>1.0</td>\n",
       "    </tr>\n",
       "    <tr>\n",
       "      <th>Dfc68ea23-71aa-4b0d-87c0-587b4ce13d04</th>\n",
       "      <td>65.64</td>\n",
       "      <td>0.0</td>\n",
       "    </tr>\n",
       "    <tr>\n",
       "      <th>D54a1d0da-4328-4ca5-8481-87cd73b33dd4</th>\n",
       "      <td>67.48</td>\n",
       "      <td>1.0</td>\n",
       "    </tr>\n",
       "    <tr>\n",
       "      <th>D62170955-5fc5-434e-8e6a-6a9e139851c4</th>\n",
       "      <td>37.19</td>\n",
       "      <td>1.0</td>\n",
       "    </tr>\n",
       "    <tr>\n",
       "      <th>D2cfdabba-8277-463e-bf64-7c3139b45372</th>\n",
       "      <td>15.47</td>\n",
       "      <td>1.0</td>\n",
       "    </tr>\n",
       "  </tbody>\n",
       "</table>\n",
       "</div>"
      ],
      "text/plain": [
       "                                       DX_LASTCONTACT_DEATH_MONTHS  \\\n",
       "PUF_CASE_ID                                                          \n",
       "D66f458f9-bdc0-4c95-94a3-a5f8c5bb74f9                        48.82   \n",
       "Dfc68ea23-71aa-4b0d-87c0-587b4ce13d04                        65.64   \n",
       "D54a1d0da-4328-4ca5-8481-87cd73b33dd4                        67.48   \n",
       "D62170955-5fc5-434e-8e6a-6a9e139851c4                        37.19   \n",
       "D2cfdabba-8277-463e-bf64-7c3139b45372                        15.47   \n",
       "\n",
       "                                       PUF_VITAL_STATUS  \n",
       "PUF_CASE_ID                                              \n",
       "D66f458f9-bdc0-4c95-94a3-a5f8c5bb74f9               1.0  \n",
       "Dfc68ea23-71aa-4b0d-87c0-587b4ce13d04               0.0  \n",
       "D54a1d0da-4328-4ca5-8481-87cd73b33dd4               1.0  \n",
       "D62170955-5fc5-434e-8e6a-6a9e139851c4               1.0  \n",
       "D2cfdabba-8277-463e-bf64-7c3139b45372               1.0  "
      ]
     },
     "execution_count": 93,
     "metadata": {},
     "output_type": "execute_result"
    }
   ],
   "source": [
    "data_km = pd.read_csv('data/data_km.csv', index_col='PUF_CASE_ID')\n",
    "data_km.head()"
   ]
  },
  {
   "cell_type": "code",
   "execution_count": 94,
   "metadata": {},
   "outputs": [],
   "source": [
    "data['DX_LASTCONTACT_DEATH_MONTHS'] = np.NaN\n",
    "data['PUF_VITAL_STATUS'] = np.NaN\n",
    "data.update(data_km)"
   ]
  },
  {
   "cell_type": "code",
   "execution_count": 95,
   "metadata": {},
   "outputs": [
    {
     "data": {
      "text/plain": [
       "count    33790.000000\n",
       "mean        70.066366\n",
       "std         45.868262\n",
       "min          0.000000\n",
       "25%         37.190000\n",
       "50%         61.930000\n",
       "75%         99.680000\n",
       "max        208.790000\n",
       "Name: DX_LASTCONTACT_DEATH_MONTHS, dtype: float64"
      ]
     },
     "execution_count": 95,
     "metadata": {},
     "output_type": "execute_result"
    }
   ],
   "source": [
    "data['DX_LASTCONTACT_DEATH_MONTHS'].describe()"
   ]
  },
  {
   "cell_type": "code",
   "execution_count": 109,
   "metadata": {},
   "outputs": [
    {
     "data": {
      "text/plain": [
       "(33790, 3)"
      ]
     },
     "execution_count": 109,
     "metadata": {},
     "output_type": "execute_result"
    }
   ],
   "source": [
    "incl = ['pred_os', 'DX_LASTCONTACT_DEATH_MONTHS', 'PUF_VITAL_STATUS']\n",
    "data_km_pred = data[incl]\n",
    "data_km_pred.shape"
   ]
  },
  {
   "cell_type": "code",
   "execution_count": 110,
   "metadata": {},
   "outputs": [
    {
     "data": {
      "text/plain": [
       "count    33790.000000\n",
       "mean         0.237167\n",
       "std          0.168189\n",
       "min          0.005165\n",
       "25%          0.102735\n",
       "50%          0.194335\n",
       "75%          0.337232\n",
       "max          0.893010\n",
       "Name: pred_os, dtype: float64"
      ]
     },
     "execution_count": 110,
     "metadata": {},
     "output_type": "execute_result"
    }
   ],
   "source": [
    "data_km_pred['pred_os'].describe()"
   ]
  },
  {
   "cell_type": "code",
   "execution_count": 111,
   "metadata": {},
   "outputs": [
    {
     "name": "stdout",
     "output_type": "stream",
     "text": [
      "0.1297 0.2819\n"
     ]
    }
   ],
   "source": [
    "#get the 33rd percentile\n",
    "q_1 = round(data_km_pred['pred_os'].quantile(1 / 3), 4)\n",
    "q_2 = round(data_km_pred['pred_os'].quantile(2 / 3), 4)\n",
    "print(q_1, q_2)"
   ]
  },
  {
   "cell_type": "code",
   "execution_count": 112,
   "metadata": {},
   "outputs": [
    {
     "name": "stderr",
     "output_type": "stream",
     "text": [
      "/tmp/ipykernel_390608/2371797294.py:1: SettingWithCopyWarning: \n",
      "A value is trying to be set on a copy of a slice from a DataFrame.\n",
      "Try using .loc[row_indexer,col_indexer] = value instead\n",
      "\n",
      "See the caveats in the documentation: https://pandas.pydata.org/pandas-docs/stable/user_guide/indexing.html#returning-a-view-versus-a-copy\n",
      "  data_km_pred['tertile'] = np.NaN\n",
      "/home/kchen/.local/lib/python3.8/site-packages/pandas/core/indexing.py:1732: SettingWithCopyWarning: \n",
      "A value is trying to be set on a copy of a slice from a DataFrame\n",
      "\n",
      "See the caveats in the documentation: https://pandas.pydata.org/pandas-docs/stable/user_guide/indexing.html#returning-a-view-versus-a-copy\n",
      "  self._setitem_single_block(indexer, value, name)\n",
      "/home/kchen/.local/lib/python3.8/site-packages/pandas/core/indexing.py:723: SettingWithCopyWarning: \n",
      "A value is trying to be set on a copy of a slice from a DataFrame\n",
      "\n",
      "See the caveats in the documentation: https://pandas.pydata.org/pandas-docs/stable/user_guide/indexing.html#returning-a-view-versus-a-copy\n",
      "  iloc._setitem_with_indexer(indexer, value, self.name)\n"
     ]
    },
    {
     "data": {
      "text/plain": [
       "1.0    11264\n",
       "3.0    11264\n",
       "2.0    11262\n",
       "Name: tertile, dtype: int64"
      ]
     },
     "execution_count": 112,
     "metadata": {},
     "output_type": "execute_result"
    }
   ],
   "source": [
    "data_km_pred['tertile'] = np.NaN\n",
    "for i, row in data_km_pred.iterrows():\n",
    "    if row['pred_os'] <= q_1:\n",
    "        data_km_pred.loc[i, 'tertile'] = 1\n",
    "    elif row['pred_os'] <= q_2:\n",
    "        data_km_pred.loc[i, 'tertile'] = 2\n",
    "    else:\n",
    "        data_km_pred.loc[i, 'tertile'] = 3\n",
    "data_km_pred['tertile'].value_counts(dropna=False)"
   ]
  },
  {
   "cell_type": "code",
   "execution_count": 115,
   "metadata": {},
   "outputs": [],
   "source": [
    "time_thresh = [i for i in range(0, 37, 1)]"
   ]
  },
  {
   "cell_type": "code",
   "execution_count": 126,
   "metadata": {},
   "outputs": [
    {
     "name": "stderr",
     "output_type": "stream",
     "text": [
      "/tmp/ipykernel_390608/1464967567.py:1: SettingWithCopyWarning: \n",
      "A value is trying to be set on a copy of a slice from a DataFrame.\n",
      "Try using .loc[row_indexer,col_indexer] = value instead\n",
      "\n",
      "See the caveats in the documentation: https://pandas.pydata.org/pandas-docs/stable/user_guide/indexing.html#returning-a-view-versus-a-copy\n",
      "  data_km_pred['months'] = round(data_km_pred['DX_LASTCONTACT_DEATH_MONTHS'], 0)\n"
     ]
    }
   ],
   "source": [
    "data_km_pred['months'] = round(data_km_pred['DX_LASTCONTACT_DEATH_MONTHS'], 0)"
   ]
  },
  {
   "cell_type": "code",
   "execution_count": 138,
   "metadata": {},
   "outputs": [
    {
     "data": {
      "text/html": [
       "<div>\n",
       "<style scoped>\n",
       "    .dataframe tbody tr th:only-of-type {\n",
       "        vertical-align: middle;\n",
       "    }\n",
       "\n",
       "    .dataframe tbody tr th {\n",
       "        vertical-align: top;\n",
       "    }\n",
       "\n",
       "    .dataframe thead th {\n",
       "        text-align: right;\n",
       "    }\n",
       "</style>\n",
       "<table border=\"1\" class=\"dataframe\">\n",
       "  <thead>\n",
       "    <tr style=\"text-align: right;\">\n",
       "      <th></th>\n",
       "      <th>time</th>\n",
       "      <th>n_patients</th>\n",
       "      <th>n_died</th>\n",
       "      <th>prob_survival</th>\n",
       "    </tr>\n",
       "  </thead>\n",
       "  <tbody>\n",
       "    <tr>\n",
       "      <th>0</th>\n",
       "      <td>0.0</td>\n",
       "      <td>33790.0</td>\n",
       "      <td>3.0</td>\n",
       "      <td>0.999911</td>\n",
       "    </tr>\n",
       "    <tr>\n",
       "      <th>1</th>\n",
       "      <td>1.0</td>\n",
       "      <td>33787.0</td>\n",
       "      <td>100.0</td>\n",
       "      <td>0.996951</td>\n",
       "    </tr>\n",
       "    <tr>\n",
       "      <th>2</th>\n",
       "      <td>2.0</td>\n",
       "      <td>33687.0</td>\n",
       "      <td>322.0</td>\n",
       "      <td>0.987393</td>\n",
       "    </tr>\n",
       "    <tr>\n",
       "      <th>3</th>\n",
       "      <td>3.0</td>\n",
       "      <td>33365.0</td>\n",
       "      <td>382.0</td>\n",
       "      <td>0.975944</td>\n",
       "    </tr>\n",
       "    <tr>\n",
       "      <th>4</th>\n",
       "      <td>4.0</td>\n",
       "      <td>32983.0</td>\n",
       "      <td>266.0</td>\n",
       "      <td>0.967879</td>\n",
       "    </tr>\n",
       "  </tbody>\n",
       "</table>\n",
       "</div>"
      ],
      "text/plain": [
       "   time  n_patients  n_died  prob_survival\n",
       "0   0.0     33790.0     3.0       0.999911\n",
       "1   1.0     33787.0   100.0       0.996951\n",
       "2   2.0     33687.0   322.0       0.987393\n",
       "3   3.0     33365.0   382.0       0.975944\n",
       "4   4.0     32983.0   266.0       0.967879"
      ]
     },
     "execution_count": 138,
     "metadata": {},
     "output_type": "execute_result"
    }
   ],
   "source": [
    "km_df = pd.DataFrame(columns=['time', 'n_patients', 'n_died', 'prob_survival'])\n",
    "n_patients = data_km_pred.shape[0]\n",
    "prob_survival = 1\n",
    "\n",
    "for t in time_thresh:\n",
    "    #censor patients who are alive, but lost to follow up\n",
    "    n_patients = n_patients - data_km_pred[(data_km_pred['months'] == t) & (data_km_pred['PUF_VITAL_STATUS'] == 1)].shape[0]\n",
    "    #count the number of patients who died\n",
    "    n_died = data_km_pred[(data_km_pred['months'] == t) & (data_km_pred['PUF_VITAL_STATUS'] == 0)].shape[0]\n",
    "    #calculate the percent of patients who died at time t, and subtract that from the probability of survival\n",
    "    perc_died = n_died / n_patients\n",
    "    prob_survival = prob_survival - perc_died\n",
    "    km_df = km_df.append({'time': t, 'n_patients': n_patients, 'n_died': n_died, 'prob_survival': prob_survival}, ignore_index=True)\n",
    "    #update the number of patients by removing the number of patients who died\n",
    "    n_patients = n_patients - n_died\n",
    "km_df.head()"
   ]
  },
  {
   "cell_type": "code",
   "execution_count": 120,
   "metadata": {},
   "outputs": [
    {
     "data": {
      "text/html": [
       "<div>\n",
       "<style scoped>\n",
       "    .dataframe tbody tr th:only-of-type {\n",
       "        vertical-align: middle;\n",
       "    }\n",
       "\n",
       "    .dataframe tbody tr th {\n",
       "        vertical-align: top;\n",
       "    }\n",
       "\n",
       "    .dataframe thead th {\n",
       "        text-align: right;\n",
       "    }\n",
       "</style>\n",
       "<table border=\"1\" class=\"dataframe\">\n",
       "  <thead>\n",
       "    <tr style=\"text-align: right;\">\n",
       "      <th></th>\n",
       "      <th>time</th>\n",
       "      <th>n_patients</th>\n",
       "      <th>n_died</th>\n",
       "      <th>prob_survival</th>\n",
       "    </tr>\n",
       "  </thead>\n",
       "  <tbody>\n",
       "    <tr>\n",
       "      <th>32</th>\n",
       "      <td>32.0</td>\n",
       "      <td>26448.0</td>\n",
       "      <td>145.0</td>\n",
       "      <td>0.750542</td>\n",
       "    </tr>\n",
       "    <tr>\n",
       "      <th>33</th>\n",
       "      <td>33.0</td>\n",
       "      <td>26303.0</td>\n",
       "      <td>160.0</td>\n",
       "      <td>0.744459</td>\n",
       "    </tr>\n",
       "    <tr>\n",
       "      <th>34</th>\n",
       "      <td>34.0</td>\n",
       "      <td>26143.0</td>\n",
       "      <td>141.0</td>\n",
       "      <td>0.739066</td>\n",
       "    </tr>\n",
       "    <tr>\n",
       "      <th>35</th>\n",
       "      <td>35.0</td>\n",
       "      <td>26002.0</td>\n",
       "      <td>144.0</td>\n",
       "      <td>0.733528</td>\n",
       "    </tr>\n",
       "    <tr>\n",
       "      <th>36</th>\n",
       "      <td>36.0</td>\n",
       "      <td>25722.0</td>\n",
       "      <td>126.0</td>\n",
       "      <td>0.728629</td>\n",
       "    </tr>\n",
       "  </tbody>\n",
       "</table>\n",
       "</div>"
      ],
      "text/plain": [
       "    time  n_patients  n_died  prob_survival\n",
       "32  32.0     26448.0   145.0       0.750542\n",
       "33  33.0     26303.0   160.0       0.744459\n",
       "34  34.0     26143.0   141.0       0.739066\n",
       "35  35.0     26002.0   144.0       0.733528\n",
       "36  36.0     25722.0   126.0       0.728629"
      ]
     },
     "execution_count": 120,
     "metadata": {},
     "output_type": "execute_result"
    }
   ],
   "source": [
    "km_df.tail()"
   ]
  },
  {
   "cell_type": "code",
   "execution_count": 121,
   "metadata": {},
   "outputs": [
    {
     "data": {
      "image/png": "[encoded data removed]",
      "text/plain": [
       "<Figure size 432x288 with 1 Axes>"
      ]
     },
     "metadata": {
      "needs_background": "light"
     },
     "output_type": "display_data"
    }
   ],
   "source": [
    "plt.plot(km_df['time'], km_df['prob_survival'])\n",
    "plt.show()"
   ]
  },
  {
   "cell_type": "code",
   "execution_count": 135,
   "metadata": {},
   "outputs": [
    {
     "data": {
      "text/plain": [
       "<Figure size 432x288 with 0 Axes>"
      ]
     },
     "metadata": {},
     "output_type": "display_data"
    }
   ],
   "source": [
    "plt.clf()"
   ]
  },
  {
   "cell_type": "code",
   "execution_count": 127,
   "metadata": {},
   "outputs": [],
   "source": [
    "data_1 = data_km_pred[data_km_pred['tertile'] == 1]\n",
    "data_2 = data_km_pred[data_km_pred['tertile'] == 2]\n",
    "data_3 = data_km_pred[data_km_pred['tertile'] == 3]"
   ]
  },
  {
   "cell_type": "code",
   "execution_count": 131,
   "metadata": {},
   "outputs": [
    {
     "data": {
      "text/html": [
       "<div>\n",
       "<style scoped>\n",
       "    .dataframe tbody tr th:only-of-type {\n",
       "        vertical-align: middle;\n",
       "    }\n",
       "\n",
       "    .dataframe tbody tr th {\n",
       "        vertical-align: top;\n",
       "    }\n",
       "\n",
       "    .dataframe thead th {\n",
       "        text-align: right;\n",
       "    }\n",
       "</style>\n",
       "<table border=\"1\" class=\"dataframe\">\n",
       "  <thead>\n",
       "    <tr style=\"text-align: right;\">\n",
       "      <th></th>\n",
       "      <th>time</th>\n",
       "      <th>n_patients</th>\n",
       "      <th>n_died</th>\n",
       "      <th>prob_survival</th>\n",
       "    </tr>\n",
       "  </thead>\n",
       "  <tbody>\n",
       "    <tr>\n",
       "      <th>0</th>\n",
       "      <td>0.0</td>\n",
       "      <td>11264.0</td>\n",
       "      <td>0.0</td>\n",
       "      <td>1.000000</td>\n",
       "    </tr>\n",
       "    <tr>\n",
       "      <th>1</th>\n",
       "      <td>1.0</td>\n",
       "      <td>11264.0</td>\n",
       "      <td>0.0</td>\n",
       "      <td>1.000000</td>\n",
       "    </tr>\n",
       "    <tr>\n",
       "      <th>2</th>\n",
       "      <td>2.0</td>\n",
       "      <td>11264.0</td>\n",
       "      <td>1.0</td>\n",
       "      <td>0.999911</td>\n",
       "    </tr>\n",
       "    <tr>\n",
       "      <th>3</th>\n",
       "      <td>3.0</td>\n",
       "      <td>11263.0</td>\n",
       "      <td>3.0</td>\n",
       "      <td>0.999645</td>\n",
       "    </tr>\n",
       "    <tr>\n",
       "      <th>4</th>\n",
       "      <td>4.0</td>\n",
       "      <td>11260.0</td>\n",
       "      <td>0.0</td>\n",
       "      <td>0.999645</td>\n",
       "    </tr>\n",
       "  </tbody>\n",
       "</table>\n",
       "</div>"
      ],
      "text/plain": [
       "   time  n_patients  n_died  prob_survival\n",
       "0   0.0     11264.0     0.0       1.000000\n",
       "1   1.0     11264.0     0.0       1.000000\n",
       "2   2.0     11264.0     1.0       0.999911\n",
       "3   3.0     11263.0     3.0       0.999645\n",
       "4   4.0     11260.0     0.0       0.999645"
      ]
     },
     "execution_count": 131,
     "metadata": {},
     "output_type": "execute_result"
    }
   ],
   "source": [
    "km_1 = pd.DataFrame(columns=['time', 'n_patients', 'n_died', 'prob_survival'])\n",
    "n_patients = data_1.shape[0]\n",
    "prob_survival = 1\n",
    "for t in time_thresh:\n",
    "    #censor patients who are alive, but lost to follow up\n",
    "    n_patients = n_patients - data_1[(data_1['months'] == t) & (data_1['PUF_VITAL_STATUS'] == 1)].shape[0]\n",
    "    #count the number of patients who died\n",
    "    n_died = data_1[(data_1['months'] == t) & (data_1['PUF_VITAL_STATUS'] == 0)].shape[0]\n",
    "    #calculate the percent of patients who died at time t, and subtract that from the probability of survival\n",
    "    perc_died = n_died / n_patients\n",
    "    prob_survival = prob_survival - perc_died\n",
    "    km_1 = km_1.append({'time': t, 'n_patients': n_patients, 'n_died': n_died, 'prob_survival': prob_survival}, ignore_index=True)\n",
    "    #update the number of patients by removing the number of patients who died\n",
    "    n_patients = n_patients - n_died\n",
    "km_1.head()"
   ]
  },
  {
   "cell_type": "code",
   "execution_count": 132,
   "metadata": {},
   "outputs": [
    {
     "data": {
      "text/html": [
       "<div>\n",
       "<style scoped>\n",
       "    .dataframe tbody tr th:only-of-type {\n",
       "        vertical-align: middle;\n",
       "    }\n",
       "\n",
       "    .dataframe tbody tr th {\n",
       "        vertical-align: top;\n",
       "    }\n",
       "\n",
       "    .dataframe thead th {\n",
       "        text-align: right;\n",
       "    }\n",
       "</style>\n",
       "<table border=\"1\" class=\"dataframe\">\n",
       "  <thead>\n",
       "    <tr style=\"text-align: right;\">\n",
       "      <th></th>\n",
       "      <th>time</th>\n",
       "      <th>n_patients</th>\n",
       "      <th>n_died</th>\n",
       "      <th>prob_survival</th>\n",
       "    </tr>\n",
       "  </thead>\n",
       "  <tbody>\n",
       "    <tr>\n",
       "      <th>0</th>\n",
       "      <td>0.0</td>\n",
       "      <td>11262.0</td>\n",
       "      <td>0.0</td>\n",
       "      <td>1.000000</td>\n",
       "    </tr>\n",
       "    <tr>\n",
       "      <th>1</th>\n",
       "      <td>1.0</td>\n",
       "      <td>11262.0</td>\n",
       "      <td>10.0</td>\n",
       "      <td>0.999112</td>\n",
       "    </tr>\n",
       "    <tr>\n",
       "      <th>2</th>\n",
       "      <td>2.0</td>\n",
       "      <td>11252.0</td>\n",
       "      <td>37.0</td>\n",
       "      <td>0.995824</td>\n",
       "    </tr>\n",
       "    <tr>\n",
       "      <th>3</th>\n",
       "      <td>3.0</td>\n",
       "      <td>11215.0</td>\n",
       "      <td>39.0</td>\n",
       "      <td>0.992346</td>\n",
       "    </tr>\n",
       "    <tr>\n",
       "      <th>4</th>\n",
       "      <td>4.0</td>\n",
       "      <td>11176.0</td>\n",
       "      <td>29.0</td>\n",
       "      <td>0.989751</td>\n",
       "    </tr>\n",
       "  </tbody>\n",
       "</table>\n",
       "</div>"
      ],
      "text/plain": [
       "   time  n_patients  n_died  prob_survival\n",
       "0   0.0     11262.0     0.0       1.000000\n",
       "1   1.0     11262.0    10.0       0.999112\n",
       "2   2.0     11252.0    37.0       0.995824\n",
       "3   3.0     11215.0    39.0       0.992346\n",
       "4   4.0     11176.0    29.0       0.989751"
      ]
     },
     "execution_count": 132,
     "metadata": {},
     "output_type": "execute_result"
    }
   ],
   "source": [
    "km_2 = pd.DataFrame(columns=['time', 'n_patients', 'n_died', 'prob_survival'])\n",
    "n_patients = data_2.shape[0]\n",
    "prob_survival = 1\n",
    "for t in time_thresh:\n",
    "    #censor patients who are alive, but lost to follow up\n",
    "    n_patients = n_patients - data_2[(data_2['months'] == t) & (data_2['PUF_VITAL_STATUS'] == 1)].shape[0]\n",
    "    #count the number of patients who died\n",
    "    n_died = data_2[(data_2['months'] == t) & (data_2['PUF_VITAL_STATUS'] == 0)].shape[0]\n",
    "    #calculate the percent of patients who died at time t, and subtract that from the probability of survival\n",
    "    perc_died = n_died / n_patients\n",
    "    prob_survival = prob_survival - perc_died\n",
    "    km_2 = km_2.append({'time': t, 'n_patients': n_patients, 'n_died': n_died, 'prob_survival': prob_survival}, ignore_index=True)\n",
    "    #update the number of patients by removing the number of patients who died\n",
    "    n_patients = n_patients - n_died\n",
    "km_2.head()"
   ]
  },
  {
   "cell_type": "code",
   "execution_count": 133,
   "metadata": {},
   "outputs": [
    {
     "data": {
      "text/html": [
       "<div>\n",
       "<style scoped>\n",
       "    .dataframe tbody tr th:only-of-type {\n",
       "        vertical-align: middle;\n",
       "    }\n",
       "\n",
       "    .dataframe tbody tr th {\n",
       "        vertical-align: top;\n",
       "    }\n",
       "\n",
       "    .dataframe thead th {\n",
       "        text-align: right;\n",
       "    }\n",
       "</style>\n",
       "<table border=\"1\" class=\"dataframe\">\n",
       "  <thead>\n",
       "    <tr style=\"text-align: right;\">\n",
       "      <th></th>\n",
       "      <th>time</th>\n",
       "      <th>n_patients</th>\n",
       "      <th>n_died</th>\n",
       "      <th>prob_survival</th>\n",
       "    </tr>\n",
       "  </thead>\n",
       "  <tbody>\n",
       "    <tr>\n",
       "      <th>0</th>\n",
       "      <td>0.0</td>\n",
       "      <td>11264.0</td>\n",
       "      <td>3.0</td>\n",
       "      <td>0.999734</td>\n",
       "    </tr>\n",
       "    <tr>\n",
       "      <th>1</th>\n",
       "      <td>1.0</td>\n",
       "      <td>11261.0</td>\n",
       "      <td>90.0</td>\n",
       "      <td>0.991741</td>\n",
       "    </tr>\n",
       "    <tr>\n",
       "      <th>2</th>\n",
       "      <td>2.0</td>\n",
       "      <td>11171.0</td>\n",
       "      <td>284.0</td>\n",
       "      <td>0.966319</td>\n",
       "    </tr>\n",
       "    <tr>\n",
       "      <th>3</th>\n",
       "      <td>3.0</td>\n",
       "      <td>10887.0</td>\n",
       "      <td>340.0</td>\n",
       "      <td>0.935089</td>\n",
       "    </tr>\n",
       "    <tr>\n",
       "      <th>4</th>\n",
       "      <td>4.0</td>\n",
       "      <td>10547.0</td>\n",
       "      <td>237.0</td>\n",
       "      <td>0.912618</td>\n",
       "    </tr>\n",
       "  </tbody>\n",
       "</table>\n",
       "</div>"
      ],
      "text/plain": [
       "   time  n_patients  n_died  prob_survival\n",
       "0   0.0     11264.0     3.0       0.999734\n",
       "1   1.0     11261.0    90.0       0.991741\n",
       "2   2.0     11171.0   284.0       0.966319\n",
       "3   3.0     10887.0   340.0       0.935089\n",
       "4   4.0     10547.0   237.0       0.912618"
      ]
     },
     "execution_count": 133,
     "metadata": {},
     "output_type": "execute_result"
    }
   ],
   "source": [
    "km_3 = pd.DataFrame(columns=['time', 'n_patients', 'n_died', 'prob_survival'])\n",
    "n_patients = data_3.shape[0]\n",
    "prob_survival = 1\n",
    "for t in time_thresh:\n",
    "    #censor patients who are alive, but lost to follow up\n",
    "    n_patients = n_patients - data_3[(data_3['months'] == t) & (data_3['PUF_VITAL_STATUS'] == 1)].shape[0]\n",
    "    #count the number of patients who died\n",
    "    n_died = data_3[(data_3['months'] == t) & (data_3['PUF_VITAL_STATUS'] == 0)].shape[0]\n",
    "    #calculate the percent of patients who died at time t, and subtract that from the probability of survival\n",
    "    perc_died = n_died / n_patients\n",
    "    prob_survival = prob_survival - perc_died\n",
    "    km_3 = km_3.append({'time': t, 'n_patients': n_patients, 'n_died': n_died, 'prob_survival': prob_survival}, ignore_index=True)\n",
    "    #update the number of patients by removing the number of patients who died\n",
    "    n_patients = n_patients - n_died\n",
    "km_3.head()"
   ]
  },
  {
   "cell_type": "code",
   "execution_count": 152,
   "metadata": {},
   "outputs": [
    {
     "data": {
      "image/png": "[encoded data removed]",
      "text/plain": [
       "<Figure size 720x720 with 1 Axes>"
      ]
     },
     "metadata": {
      "needs_background": "light"
     },
     "output_type": "display_data"
    }
   ],
   "source": [
    "#plot the survival curves for the three tertiles on the same plot\n",
    "# plt.plot(km_df['time'], km_df['prob_survival'], label='All Patients')\n",
    "plt.figure(figsize=(10,10))\n",
    "plt.plot(km_1['time'], km_1['prob_survival'], label='Low risk', color='blue')\n",
    "plt.plot(km_2['time'], km_2['prob_survival'], label='Moderate risk', color='purple')\n",
    "plt.plot(km_3['time'], km_3['prob_survival'], label='High risk', color='red')\n",
    "plt.xlabel('Time from diagnosis (months)')\n",
    "plt.ylabel('Survival (probability)')\n",
    "plt.legend()\n",
    "plt.rcParams.update({'font.size': 20})\n",
    "plt.savefig('results/os/km.png', dpi=300, bbox_inches='tight')"
   ]
  },
  {
   "cell_type": "code",
   "execution_count": 25,
   "metadata": {},
   "outputs": [
    {
     "data": {
      "image/png": "[encoded data removed]",
      "text/plain": [
       "<Figure size 720x432 with 2 Axes>"
      ]
     },
     "metadata": {
      "needs_background": "light"
     },
     "output_type": "display_data"
    }
   ],
   "source": [
    "import kaplanmeier as km\n",
    "time_event = data_km_pred['DX_LASTCONTACT_DEATH_MONTHS']\n",
    "censoring = data_km_pred['PUF_VITAL_STATUS']\n",
    "y = data_km_pred['tertile']\n",
    "\n",
    "results = km.fit(time_event, censoring, y)\n",
    "km.plot(results)"
   ]
  },
  {
   "cell_type": "code",
   "execution_count": 13,
   "metadata": {},
   "outputs": [],
   "source": [
    "times = np.arange(0, 37, 1)"
   ]
  },
  {
   "cell_type": "code",
   "execution_count": 14,
   "metadata": {},
   "outputs": [],
   "source": [
    "count_alive_1 = {}\n",
    "for t in times:\n",
    "    for i, row in data_1.iterrows():\n",
    "        if row['DX_LASTCONTACT_DEATH_MONTHS'] >= t:\n",
    "            if t in count_alive_1:\n",
    "                count_alive_1[t] += 1\n",
    "            else:\n",
    "                count_alive_1[t] = 1\n",
    "        else:\n",
    "            if t in count_alive_1:\n",
    "                count_alive_1[t] += 0\n",
    "            else:\n",
    "                count_alive_1[t] = 0\n",
    "#convert to a dataframe\n",
    "count_alive_1 = pd.DataFrame.from_dict(count_alive_1, orient='index')\n",
    "\n",
    "count_alive_1.columns = ['count_alive']\n"
   ]
  },
  {
   "cell_type": "code",
   "execution_count": 15,
   "metadata": {},
   "outputs": [],
   "source": [
    "\n",
    "count_alive_2 = {}\n",
    "for t in times:\n",
    "    for i, row in data_2.iterrows():\n",
    "        if row['DX_LASTCONTACT_DEATH_MONTHS'] >= t:\n",
    "            if t in count_alive_2:\n",
    "                count_alive_2[t] += 1\n",
    "            else:\n",
    "                count_alive_2[t] = 1\n",
    "        else:\n",
    "            if t in count_alive_2:\n",
    "                count_alive_2[t] += 0\n",
    "            else:\n",
    "                count_alive_2[t] = 0\n",
    "#convert to a dataframe\n",
    "count_alive_2 = pd.DataFrame.from_dict(count_alive_2, orient='index')\n",
    "count_alive_2.columns = ['count_alive']\n"
   ]
  },
  {
   "cell_type": "code",
   "execution_count": 16,
   "metadata": {},
   "outputs": [],
   "source": [
    "\n",
    "count_alive_3 = {}\n",
    "for t in times:\n",
    "    for i, row in data_3.iterrows():\n",
    "        if row['DX_LASTCONTACT_DEATH_MONTHS'] >= t:\n",
    "            if t in count_alive_3:\n",
    "                count_alive_3[t] += 1\n",
    "            else:\n",
    "                count_alive_3[t] = 1\n",
    "        else:\n",
    "            if t in count_alive_3:\n",
    "                count_alive_3[t] += 0\n",
    "            else:\n",
    "                count_alive_3[t] = 0\n",
    "#convert to a dataframe\n",
    "count_alive_3 = pd.DataFrame.from_dict(count_alive_3, orient='index')\n",
    "count_alive_3.columns = ['count_alive']"
   ]
  },
  {
   "cell_type": "code",
   "execution_count": 17,
   "metadata": {},
   "outputs": [],
   "source": [
    "count_alive_1['perc_alive'] = count_alive_1['count_alive'] / data_1.shape[0]\n",
    "count_alive_2['perc_alive'] = count_alive_2['count_alive'] / data_2.shape[0]\n",
    "count_alive_3['perc_alive'] = count_alive_3['count_alive'] / data_3.shape[0]"
   ]
  },
  {
   "cell_type": "code",
   "execution_count": 18,
   "metadata": {},
   "outputs": [
    {
     "data": {
      "image/png": "[encoded data removed]",
      "text/plain": [
       "<Figure size 432x288 with 1 Axes>"
      ]
     },
     "metadata": {
      "needs_background": "light"
     },
     "output_type": "display_data"
    }
   ],
   "source": [
    "#plot all three survival curves on the same plot\n",
    "plt.plot(count_alive_1.index, count_alive_1['perc_alive'], label='tertile 1')\n",
    "plt.plot(count_alive_2.index, count_alive_2['perc_alive'], label='tertile 2')\n",
    "plt.plot(count_alive_3.index, count_alive_3['perc_alive'], label='tertile 3')\n",
    "plt.xlabel('Time (months)')\n",
    "plt.ylabel('Count of alive patients')\n",
    "plt.title('Count of alive patients at each time point')\n",
    "plt.legend()\n",
    "plt.show()"
   ]
  },
  {
   "cell_type": "code",
   "execution_count": null,
   "metadata": {},
   "outputs": [],
   "source": []
  }
 ],
 "metadata": {
  "kernelspec": {
   "display_name": "Python 3",
   "language": "python",
   "name": "python3"
  },
  "language_info": {
   "codemirror_mode": {
    "name": "ipython",
    "version": 3
   },
   "file_extension": ".py",
   "mimetype": "text/x-python",
   "name": "python",
   "nbconvert_exporter": "python",
   "pygments_lexer": "ipython3",
   "version": "3.8.10"
  },
  "orig_nbformat": 4,
  "vscode": {
   "interpreter": {
    "hash": "916dbcbb3f70747c44a77c7bcd40155683ae19c65e1c03b4aa3499c5328201f1"
   }
  }
 },
 "nbformat": 4,
 "nbformat_minor": 2
}
