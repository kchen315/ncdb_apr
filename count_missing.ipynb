{
 "cells": [
  {
   "cell_type": "code",
   "execution_count": 6,
   "metadata": {},
   "outputs": [],
   "source": [
    "import pandas as pd"
   ]
  },
  {
   "cell_type": "code",
   "execution_count": 7,
   "metadata": {},
   "outputs": [
    {
     "data": {
      "text/html": [
       "<div>\n",
       "<style scoped>\n",
       "    .dataframe tbody tr th:only-of-type {\n",
       "        vertical-align: middle;\n",
       "    }\n",
       "\n",
       "    .dataframe tbody tr th {\n",
       "        vertical-align: top;\n",
       "    }\n",
       "\n",
       "    .dataframe thead th {\n",
       "        text-align: right;\n",
       "    }\n",
       "</style>\n",
       "<table border=\"1\" class=\"dataframe\">\n",
       "  <thead>\n",
       "    <tr style=\"text-align: right;\">\n",
       "      <th></th>\n",
       "      <th>Facility Type</th>\n",
       "      <th>Facility Location</th>\n",
       "      <th>Age</th>\n",
       "      <th>Sex</th>\n",
       "      <th>Race</th>\n",
       "      <th>Spanish Hispanic Origin</th>\n",
       "      <th>Primary Payor</th>\n",
       "      <th>Urban/Rural Classification</th>\n",
       "      <th>Distance From Facility</th>\n",
       "      <th>Charlson-Deyo Score</th>\n",
       "      <th>...</th>\n",
       "      <th>Medicaid Expansion</th>\n",
       "      <th>Radiation Dose, Rads</th>\n",
       "      <th>APR</th>\n",
       "      <th>Radiation Dose, &gt;30 Gy</th>\n",
       "      <th>Stage</th>\n",
       "      <th>T Stage</th>\n",
       "      <th>N Stage</th>\n",
       "      <th>Facility Volume, Quartile</th>\n",
       "      <th>Keratinizing</th>\n",
       "      <th>Basaloid</th>\n",
       "    </tr>\n",
       "  </thead>\n",
       "  <tbody>\n",
       "    <tr>\n",
       "      <th>0</th>\n",
       "      <td>Academic/Research Program</td>\n",
       "      <td>Midwest</td>\n",
       "      <td>52.0</td>\n",
       "      <td>Female</td>\n",
       "      <td>White</td>\n",
       "      <td>Non-Hispanic</td>\n",
       "      <td>Not Insured</td>\n",
       "      <td>Urban</td>\n",
       "      <td>3.6</td>\n",
       "      <td>0</td>\n",
       "      <td>...</td>\n",
       "      <td>Non-Expansion State</td>\n",
       "      <td>0.0</td>\n",
       "      <td>0.0</td>\n",
       "      <td>0.0</td>\n",
       "      <td>2A</td>\n",
       "      <td>2.0</td>\n",
       "      <td>0.0</td>\n",
       "      <td>1.0</td>\n",
       "      <td>0</td>\n",
       "      <td>0</td>\n",
       "    </tr>\n",
       "    <tr>\n",
       "      <th>1</th>\n",
       "      <td>Academic/Research Program</td>\n",
       "      <td>West</td>\n",
       "      <td>49.0</td>\n",
       "      <td>Female</td>\n",
       "      <td>White</td>\n",
       "      <td>Non-Hispanic</td>\n",
       "      <td>Private Insurance or Managed Care</td>\n",
       "      <td>Urban</td>\n",
       "      <td>11.4</td>\n",
       "      <td>0</td>\n",
       "      <td>...</td>\n",
       "      <td>Early Expansion (before 1/2014)</td>\n",
       "      <td>NaN</td>\n",
       "      <td>0.0</td>\n",
       "      <td>NaN</td>\n",
       "      <td>3A</td>\n",
       "      <td>2.0</td>\n",
       "      <td>1.0</td>\n",
       "      <td>1.0</td>\n",
       "      <td>0</td>\n",
       "      <td>1</td>\n",
       "    </tr>\n",
       "    <tr>\n",
       "      <th>2</th>\n",
       "      <td>Comprehensive Community Cancer Program</td>\n",
       "      <td>South</td>\n",
       "      <td>88.0</td>\n",
       "      <td>Female</td>\n",
       "      <td>White</td>\n",
       "      <td>Non-Hispanic</td>\n",
       "      <td>Medicare/Public</td>\n",
       "      <td>Suburban</td>\n",
       "      <td>32.0</td>\n",
       "      <td>0</td>\n",
       "      <td>...</td>\n",
       "      <td>Non-Expansion State</td>\n",
       "      <td>NaN</td>\n",
       "      <td>0.0</td>\n",
       "      <td>NaN</td>\n",
       "      <td>2B</td>\n",
       "      <td>3.0</td>\n",
       "      <td>0.0</td>\n",
       "      <td>3.0</td>\n",
       "      <td>0</td>\n",
       "      <td>0</td>\n",
       "    </tr>\n",
       "    <tr>\n",
       "      <th>3</th>\n",
       "      <td>Integrated Network Cancer Program</td>\n",
       "      <td>West</td>\n",
       "      <td>53.0</td>\n",
       "      <td>Female</td>\n",
       "      <td>White</td>\n",
       "      <td>Non-Hispanic</td>\n",
       "      <td>Medicare/Public</td>\n",
       "      <td>Suburban</td>\n",
       "      <td>NaN</td>\n",
       "      <td>3 or more</td>\n",
       "      <td>...</td>\n",
       "      <td>Early Expansion (before 1/2014)</td>\n",
       "      <td>NaN</td>\n",
       "      <td>0.0</td>\n",
       "      <td>NaN</td>\n",
       "      <td>2B</td>\n",
       "      <td>3.0</td>\n",
       "      <td>0.0</td>\n",
       "      <td>1.0</td>\n",
       "      <td>0</td>\n",
       "      <td>0</td>\n",
       "    </tr>\n",
       "    <tr>\n",
       "      <th>4</th>\n",
       "      <td>Community Cancer Program</td>\n",
       "      <td>South</td>\n",
       "      <td>53.0</td>\n",
       "      <td>Female</td>\n",
       "      <td>White</td>\n",
       "      <td>Non-Hispanic</td>\n",
       "      <td>Private Insurance or Managed Care</td>\n",
       "      <td>Urban</td>\n",
       "      <td>3.9</td>\n",
       "      <td>0</td>\n",
       "      <td>...</td>\n",
       "      <td>Late Expansion States (after 1/2014)</td>\n",
       "      <td>5400.0</td>\n",
       "      <td>0.0</td>\n",
       "      <td>1.0</td>\n",
       "      <td>3C</td>\n",
       "      <td>3.0</td>\n",
       "      <td>1.0</td>\n",
       "      <td>4.0</td>\n",
       "      <td>0</td>\n",
       "      <td>0</td>\n",
       "    </tr>\n",
       "  </tbody>\n",
       "</table>\n",
       "<p>5 rows × 29 columns</p>\n",
       "</div>"
      ],
      "text/plain": [
       "                            Facility Type Facility Location   Age     Sex  \\\n",
       "0               Academic/Research Program           Midwest  52.0  Female   \n",
       "1               Academic/Research Program              West  49.0  Female   \n",
       "2  Comprehensive Community Cancer Program             South  88.0  Female   \n",
       "3       Integrated Network Cancer Program              West  53.0  Female   \n",
       "4                Community Cancer Program             South  53.0  Female   \n",
       "\n",
       "    Race Spanish Hispanic Origin                      Primary Payor  \\\n",
       "0  White            Non-Hispanic                        Not Insured   \n",
       "1  White            Non-Hispanic  Private Insurance or Managed Care   \n",
       "2  White            Non-Hispanic                    Medicare/Public   \n",
       "3  White            Non-Hispanic                    Medicare/Public   \n",
       "4  White            Non-Hispanic  Private Insurance or Managed Care   \n",
       "\n",
       "  Urban/Rural Classification  Distance From Facility Charlson-Deyo Score  ...  \\\n",
       "0                      Urban                     3.6                   0  ...   \n",
       "1                      Urban                    11.4                   0  ...   \n",
       "2                   Suburban                    32.0                   0  ...   \n",
       "3                   Suburban                     NaN           3 or more  ...   \n",
       "4                      Urban                     3.9                   0  ...   \n",
       "\n",
       "                     Medicaid Expansion Radiation Dose, Rads  APR  \\\n",
       "0                   Non-Expansion State                  0.0  0.0   \n",
       "1       Early Expansion (before 1/2014)                  NaN  0.0   \n",
       "2                   Non-Expansion State                  NaN  0.0   \n",
       "3       Early Expansion (before 1/2014)                  NaN  0.0   \n",
       "4  Late Expansion States (after 1/2014)               5400.0  0.0   \n",
       "\n",
       "  Radiation Dose, >30 Gy  Stage  T Stage  N Stage Facility Volume, Quartile  \\\n",
       "0                    0.0     2A      2.0      0.0                       1.0   \n",
       "1                    NaN     3A      2.0      1.0                       1.0   \n",
       "2                    NaN     2B      3.0      0.0                       3.0   \n",
       "3                    NaN     2B      3.0      0.0                       1.0   \n",
       "4                    1.0     3C      3.0      1.0                       4.0   \n",
       "\n",
       "  Keratinizing Basaloid  \n",
       "0            0        0  \n",
       "1            0        1  \n",
       "2            0        0  \n",
       "3            0        0  \n",
       "4            0        0  \n",
       "\n",
       "[5 rows x 29 columns]"
      ]
     },
     "execution_count": 7,
     "metadata": {},
     "output_type": "execute_result"
    }
   ],
   "source": [
    "data = pd.read_csv('data/data_rename.csv')\n",
    "data.head()"
   ]
  },
  {
   "cell_type": "code",
   "execution_count": 8,
   "metadata": {},
   "outputs": [
    {
     "data": {
      "text/plain": [
       "0.0    17963\n",
       "1.0     1015\n",
       "Name: APR, dtype: int64"
      ]
     },
     "execution_count": 8,
     "metadata": {},
     "output_type": "execute_result"
    }
   ],
   "source": [
    "data['APR'].value_counts()"
   ]
  },
  {
   "cell_type": "code",
   "execution_count": 9,
   "metadata": {},
   "outputs": [
    {
     "data": {
      "text/plain": [
       "0.0    0.946517\n",
       "1.0    0.053483\n",
       "Name: APR, dtype: float64"
      ]
     },
     "execution_count": 9,
     "metadata": {},
     "output_type": "execute_result"
    }
   ],
   "source": [
    "data['APR'].value_counts(normalize=True)"
   ]
  },
  {
   "cell_type": "code",
   "execution_count": 10,
   "metadata": {},
   "outputs": [],
   "source": [
    "#for each variable, find the percentage of data that is missing in APR 0 vs APR 1\n",
    "missing_df = pd.DataFrame(columns=['variable', 'missing in APR 0', 'missing in APR 1'])\n",
    "for col in data.columns:\n",
    "    missing_df = missing_df.append({'variable': col,\n",
    "                                    'missing in APR 0': data[data['APR']==0][col].isnull().mean(),\n",
    "                                    'missing in APR 1': data[data['APR']==1][col].isnull().mean()},\n",
    "                                   ignore_index=True)"
   ]
  },
  {
   "cell_type": "code",
   "execution_count": 13,
   "metadata": {},
   "outputs": [
    {
     "data": {
      "text/html": [
       "<div>\n",
       "<style scoped>\n",
       "    .dataframe tbody tr th:only-of-type {\n",
       "        vertical-align: middle;\n",
       "    }\n",
       "\n",
       "    .dataframe tbody tr th {\n",
       "        vertical-align: top;\n",
       "    }\n",
       "\n",
       "    .dataframe thead th {\n",
       "        text-align: right;\n",
       "    }\n",
       "</style>\n",
       "<table border=\"1\" class=\"dataframe\">\n",
       "  <thead>\n",
       "    <tr style=\"text-align: right;\">\n",
       "      <th></th>\n",
       "      <th>variable</th>\n",
       "      <th>missing in APR 0</th>\n",
       "      <th>missing in APR 1</th>\n",
       "    </tr>\n",
       "  </thead>\n",
       "  <tbody>\n",
       "    <tr>\n",
       "      <th>0</th>\n",
       "      <td>Facility Type</td>\n",
       "      <td>0.023882</td>\n",
       "      <td>0.036453</td>\n",
       "    </tr>\n",
       "    <tr>\n",
       "      <th>1</th>\n",
       "      <td>Facility Location</td>\n",
       "      <td>0.023882</td>\n",
       "      <td>0.036453</td>\n",
       "    </tr>\n",
       "    <tr>\n",
       "      <th>2</th>\n",
       "      <td>Age</td>\n",
       "      <td>0.000000</td>\n",
       "      <td>0.000000</td>\n",
       "    </tr>\n",
       "    <tr>\n",
       "      <th>3</th>\n",
       "      <td>Sex</td>\n",
       "      <td>0.000000</td>\n",
       "      <td>0.000000</td>\n",
       "    </tr>\n",
       "    <tr>\n",
       "      <th>4</th>\n",
       "      <td>Race</td>\n",
       "      <td>0.007293</td>\n",
       "      <td>0.010837</td>\n",
       "    </tr>\n",
       "    <tr>\n",
       "      <th>5</th>\n",
       "      <td>Spanish Hispanic Origin</td>\n",
       "      <td>0.042532</td>\n",
       "      <td>0.037438</td>\n",
       "    </tr>\n",
       "    <tr>\n",
       "      <th>6</th>\n",
       "      <td>Primary Payor</td>\n",
       "      <td>0.014697</td>\n",
       "      <td>0.016749</td>\n",
       "    </tr>\n",
       "    <tr>\n",
       "      <th>7</th>\n",
       "      <td>Urban/Rural Classification</td>\n",
       "      <td>0.028280</td>\n",
       "      <td>0.021675</td>\n",
       "    </tr>\n",
       "    <tr>\n",
       "      <th>8</th>\n",
       "      <td>Distance From Facility</td>\n",
       "      <td>0.096754</td>\n",
       "      <td>0.094581</td>\n",
       "    </tr>\n",
       "    <tr>\n",
       "      <th>9</th>\n",
       "      <td>Charlson-Deyo Score</td>\n",
       "      <td>0.000000</td>\n",
       "      <td>0.000000</td>\n",
       "    </tr>\n",
       "    <tr>\n",
       "      <th>10</th>\n",
       "      <td>YEAR_OF_DIAGNOSIS</td>\n",
       "      <td>0.000000</td>\n",
       "      <td>0.000000</td>\n",
       "    </tr>\n",
       "    <tr>\n",
       "      <th>11</th>\n",
       "      <td>Grade</td>\n",
       "      <td>0.000223</td>\n",
       "      <td>0.002956</td>\n",
       "    </tr>\n",
       "    <tr>\n",
       "      <th>12</th>\n",
       "      <td>Tumor Size</td>\n",
       "      <td>0.265379</td>\n",
       "      <td>0.174384</td>\n",
       "    </tr>\n",
       "    <tr>\n",
       "      <th>13</th>\n",
       "      <td>Lymphovascular Invasion</td>\n",
       "      <td>0.870512</td>\n",
       "      <td>0.600985</td>\n",
       "    </tr>\n",
       "    <tr>\n",
       "      <th>14</th>\n",
       "      <td>Diagnosis/Radiation Interval, Days</td>\n",
       "      <td>0.012804</td>\n",
       "      <td>0.037438</td>\n",
       "    </tr>\n",
       "    <tr>\n",
       "      <th>15</th>\n",
       "      <td>Duration of Radiation, Days</td>\n",
       "      <td>0.228525</td>\n",
       "      <td>0.457143</td>\n",
       "    </tr>\n",
       "    <tr>\n",
       "      <th>16</th>\n",
       "      <td>RX_SUMM_CHEMO</td>\n",
       "      <td>0.000390</td>\n",
       "      <td>0.000000</td>\n",
       "    </tr>\n",
       "    <tr>\n",
       "      <th>17</th>\n",
       "      <td>No High School Degree (%)</td>\n",
       "      <td>0.106942</td>\n",
       "      <td>0.107389</td>\n",
       "    </tr>\n",
       "    <tr>\n",
       "      <th>18</th>\n",
       "      <td>Median Income Quartile</td>\n",
       "      <td>0.108501</td>\n",
       "      <td>0.109360</td>\n",
       "    </tr>\n",
       "    <tr>\n",
       "      <th>19</th>\n",
       "      <td>Medicaid Expansion</td>\n",
       "      <td>0.000000</td>\n",
       "      <td>0.000000</td>\n",
       "    </tr>\n",
       "    <tr>\n",
       "      <th>20</th>\n",
       "      <td>Radiation Dose, Rads</td>\n",
       "      <td>0.589657</td>\n",
       "      <td>0.569458</td>\n",
       "    </tr>\n",
       "    <tr>\n",
       "      <th>21</th>\n",
       "      <td>APR</td>\n",
       "      <td>0.000000</td>\n",
       "      <td>0.000000</td>\n",
       "    </tr>\n",
       "    <tr>\n",
       "      <th>22</th>\n",
       "      <td>Radiation Dose, &gt;30 Gy</td>\n",
       "      <td>0.589657</td>\n",
       "      <td>0.569458</td>\n",
       "    </tr>\n",
       "    <tr>\n",
       "      <th>23</th>\n",
       "      <td>Stage</td>\n",
       "      <td>0.000000</td>\n",
       "      <td>0.000000</td>\n",
       "    </tr>\n",
       "    <tr>\n",
       "      <th>24</th>\n",
       "      <td>T Stage</td>\n",
       "      <td>0.012192</td>\n",
       "      <td>0.013793</td>\n",
       "    </tr>\n",
       "    <tr>\n",
       "      <th>25</th>\n",
       "      <td>N Stage</td>\n",
       "      <td>0.019206</td>\n",
       "      <td>0.043350</td>\n",
       "    </tr>\n",
       "    <tr>\n",
       "      <th>26</th>\n",
       "      <td>Facility Volume, Quartile</td>\n",
       "      <td>0.000000</td>\n",
       "      <td>0.000000</td>\n",
       "    </tr>\n",
       "    <tr>\n",
       "      <th>27</th>\n",
       "      <td>Keratinizing</td>\n",
       "      <td>0.000000</td>\n",
       "      <td>0.000000</td>\n",
       "    </tr>\n",
       "    <tr>\n",
       "      <th>28</th>\n",
       "      <td>Basaloid</td>\n",
       "      <td>0.000000</td>\n",
       "      <td>0.000000</td>\n",
       "    </tr>\n",
       "  </tbody>\n",
       "</table>\n",
       "</div>"
      ],
      "text/plain": [
       "                              variable  missing in APR 0  missing in APR 1\n",
       "0                        Facility Type          0.023882          0.036453\n",
       "1                    Facility Location          0.023882          0.036453\n",
       "2                                  Age          0.000000          0.000000\n",
       "3                                  Sex          0.000000          0.000000\n",
       "4                                 Race          0.007293          0.010837\n",
       "5              Spanish Hispanic Origin          0.042532          0.037438\n",
       "6                        Primary Payor          0.014697          0.016749\n",
       "7           Urban/Rural Classification          0.028280          0.021675\n",
       "8               Distance From Facility          0.096754          0.094581\n",
       "9                  Charlson-Deyo Score          0.000000          0.000000\n",
       "10                   YEAR_OF_DIAGNOSIS          0.000000          0.000000\n",
       "11                               Grade          0.000223          0.002956\n",
       "12                          Tumor Size          0.265379          0.174384\n",
       "13             Lymphovascular Invasion          0.870512          0.600985\n",
       "14  Diagnosis/Radiation Interval, Days          0.012804          0.037438\n",
       "15         Duration of Radiation, Days          0.228525          0.457143\n",
       "16                       RX_SUMM_CHEMO          0.000390          0.000000\n",
       "17           No High School Degree (%)          0.106942          0.107389\n",
       "18              Median Income Quartile          0.108501          0.109360\n",
       "19                  Medicaid Expansion          0.000000          0.000000\n",
       "20                Radiation Dose, Rads          0.589657          0.569458\n",
       "21                                 APR          0.000000          0.000000\n",
       "22              Radiation Dose, >30 Gy          0.589657          0.569458\n",
       "23                               Stage          0.000000          0.000000\n",
       "24                             T Stage          0.012192          0.013793\n",
       "25                             N Stage          0.019206          0.043350\n",
       "26           Facility Volume, Quartile          0.000000          0.000000\n",
       "27                        Keratinizing          0.000000          0.000000\n",
       "28                            Basaloid          0.000000          0.000000"
      ]
     },
     "execution_count": 13,
     "metadata": {},
     "output_type": "execute_result"
    }
   ],
   "source": [
    "missing_df.head(100)"
   ]
  },
  {
   "cell_type": "code",
   "execution_count": 17,
   "metadata": {},
   "outputs": [
    {
     "name": "stdout",
     "output_type": "stream",
     "text": [
      "0.0    2326\n",
      "1.0     405\n",
      "Name: APR, dtype: int64\n"
     ]
    },
    {
     "data": {
      "text/plain": [
       "0.0    0.851703\n",
       "1.0    0.148297\n",
       "Name: APR, dtype: float64"
      ]
     },
     "execution_count": 17,
     "metadata": {},
     "output_type": "execute_result"
    }
   ],
   "source": [
    "data_lvi = data.dropna(subset=['Lymphovascular Invasion'])\n",
    "print(data_lvi['APR'].value_counts())\n",
    "data_lvi['APR'].value_counts(normalize=True)"
   ]
  },
  {
   "cell_type": "code",
   "execution_count": 18,
   "metadata": {},
   "outputs": [
    {
     "name": "stdout",
     "output_type": "stream",
     "text": [
      "0.0    1656\n",
      "1.0     341\n",
      "Name: APR, dtype: int64\n"
     ]
    },
    {
     "data": {
      "text/plain": [
       "0.0    0.829244\n",
       "1.0    0.170756\n",
       "Name: APR, dtype: float64"
      ]
     },
     "execution_count": 18,
     "metadata": {},
     "output_type": "execute_result"
    }
   ],
   "source": [
    "data_lvi = data.dropna(subset=['Lymphovascular Invasion', 'Tumor Size'])\n",
    "print(data_lvi['APR'].value_counts())\n",
    "data_lvi['APR'].value_counts(normalize=True)"
   ]
  },
  {
   "cell_type": "code",
   "execution_count": 27,
   "metadata": {},
   "outputs": [
    {
     "data": {
      "text/plain": [
       "0.0    17963\n",
       "1.0     1015\n",
       "Name: APR, dtype: int64"
      ]
     },
     "execution_count": 27,
     "metadata": {},
     "output_type": "execute_result"
    }
   ],
   "source": [
    "data['APR'].value_counts()"
   ]
  },
  {
   "cell_type": "code",
   "execution_count": 25,
   "metadata": {},
   "outputs": [
    {
     "data": {
      "text/plain": [
       "(1997, 29)"
      ]
     },
     "execution_count": 25,
     "metadata": {},
     "output_type": "execute_result"
    }
   ],
   "source": [
    "data_lvi.shape"
   ]
  },
  {
   "cell_type": "code",
   "execution_count": 23,
   "metadata": {},
   "outputs": [
    {
     "name": "stdout",
     "output_type": "stream",
     "text": [
      "0.0    17963\n",
      "1.0     1015\n",
      "Name: APR, dtype: int64\n"
     ]
    },
    {
     "data": {
      "text/plain": [
       "0.0    0.946517\n",
       "1.0    0.053483\n",
       "Name: APR, dtype: float64"
      ]
     },
     "execution_count": 23,
     "metadata": {},
     "output_type": "execute_result"
    }
   ],
   "source": [
    "print(data['APR'].value_counts())\n",
    "data['APR'].value_counts(normalize=True)"
   ]
  },
  {
   "cell_type": "code",
   "execution_count": 26,
   "metadata": {},
   "outputs": [
    {
     "data": {
      "text/plain": [
       "(18978, 29)"
      ]
     },
     "execution_count": 26,
     "metadata": {},
     "output_type": "execute_result"
    }
   ],
   "source": [
    "data.shape"
   ]
  },
  {
   "cell_type": "code",
   "execution_count": 24,
   "metadata": {},
   "outputs": [],
   "source": [
    "data_lvi.to_csv('data/data_lvi.csv', index=False)"
   ]
  },
  {
   "cell_type": "code",
   "execution_count": 31,
   "metadata": {},
   "outputs": [],
   "source": [
    "from tableone import TableOne\n",
    "cols = data_lvi.columns.to_list()\n",
    "num_cols = ['Age', 'Distance From Facility', 'Tumor Size', 'Diagnosis/Radiation Interval, Days', 'Duration of Radiation, Days', 'Radiation Dose, Rads']\n",
    "cat_cols = [x for x in cols if x not in num_cols]\n",
    "incl = data_lvi.columns.to_list()\n",
    "incl.remove('APR')\n",
    "cat_cols.remove('APR')\n"
   ]
  },
  {
   "cell_type": "code",
   "execution_count": 32,
   "metadata": {},
   "outputs": [
    {
     "name": "stderr",
     "output_type": "stream",
     "text": [
      "/home/kchen/.local/lib/python3.8/site-packages/tableone/tableone.py:991: FutureWarning: Using the level keyword in DataFrame and Series aggregations is deprecated and will be removed in a future version. Use groupby instead. df.sum(level=1) should use df.groupby(level=1).sum().\n",
      "  df['percent'] = df['freq'].div(df.freq.sum(level=0),\n",
      "/home/kchen/.local/lib/python3.8/site-packages/tableone/tableone.py:991: FutureWarning: Using the level keyword in DataFrame and Series aggregations is deprecated and will be removed in a future version. Use groupby instead. df.sum(level=1) should use df.groupby(level=1).sum().\n",
      "  df['percent'] = df['freq'].div(df.freq.sum(level=0),\n"
     ]
    }
   ],
   "source": [
    "tableone = TableOne(data_lvi, columns=incl, categorical=cat_cols, groupby='APR', pval=True)\n",
    "tableone.to_excel('results/table1_raw_lvi.xlsx')"
   ]
  },
  {
   "cell_type": "code",
   "execution_count": null,
   "metadata": {},
   "outputs": [],
   "source": []
  }
 ],
 "metadata": {
  "kernelspec": {
   "display_name": "Python 3",
   "language": "python",
   "name": "python3"
  },
  "language_info": {
   "codemirror_mode": {
    "name": "ipython",
    "version": 3
   },
   "file_extension": ".py",
   "mimetype": "text/x-python",
   "name": "python",
   "nbconvert_exporter": "python",
   "pygments_lexer": "ipython3",
   "version": "3.8.10"
  },
  "orig_nbformat": 4,
  "vscode": {
   "interpreter": {
    "hash": "916dbcbb3f70747c44a77c7bcd40155683ae19c65e1c03b4aa3499c5328201f1"
   }
  }
 },
 "nbformat": 4,
 "nbformat_minor": 2
}
