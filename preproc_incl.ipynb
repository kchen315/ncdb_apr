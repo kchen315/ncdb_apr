{
 "cells": [
  {
   "cell_type": "code",
   "execution_count": 223,
   "metadata": {},
   "outputs": [],
   "source": [
    "import pandas as pd\n",
    "import numpy as np\n",
    "import matplotlib.pyplot as plt"
   ]
  },
  {
   "cell_type": "code",
   "execution_count": 224,
   "metadata": {},
   "outputs": [],
   "source": [
    "id_cols = ['PUF_CASE_ID', 'YEAR_OF_DIAGNOSIS', 'CLASS_OF_CASE']\n",
    "\n",
    "fac_cols = [ 'PUF_FACILITY_ID', 'FACILITY_TYPE_CD', 'FACILITY_LOCATION_CD']\n",
    "\n",
    "dem_cols = ['AGE', 'SEX', 'RACE', 'SPANISH_HISPANIC_ORIGIN']\n",
    "\n",
    "ses_cols = ['INSURANCE_STATUS', 'UR_CD_13', 'CROWFLY', 'NO_HSD_QUAR_2016', 'MED_INC_QUAR_2016', 'PUF_MEDICAID_EXPN_CODE']\n",
    " \n",
    "medco_cols = ['CDCC_TOTAL_BEST']\n",
    "\n",
    "tumor_cols = ['HISTOLOGY', 'GRADE', 'GRADE_CLIN', 'TUMOR_SIZE', 'TUMOR_SIZE_SUMMARY_2016', 'TNM_CLIN_T', 'TNM_CLIN_N', 'TNM_CLIN_M', 'TNM_CLIN_STAGE_GROUP', 'TNM_PATH_T', 'TNM_PATH_N', 'TNM_PATH_M', 'TNM_PATH_STAGE_GROUP', 'AJCC_TNM_CLIN_T', 'AJCC_TNM_CLIN_N', 'AJCC_TNM_CLIN_M', 'AJCC_TNM_CLIN_STG_GRP', 'AJCC_TNM_PATH_T', 'AJCC_TNM_PATH_N', 'AJCC_TNM_PATH_M', 'AJCC_TNM_PATH_STG_GRP', 'AJCC_TNM_POST_PATH_T',  'AJCC_TNM_POST_PATH_N', 'AJCC_TNM_POST_PATH_M', 'AJCC_TNM_POST_PATH_STG_GRP', 'LYMPH_VASCULAR_INVASION',]\n",
    "\n",
    "rad_cols = ['RAD_LOCATION_OF_RX','DX_RAD_STARTED_DAYS', 'RAD_ELAPSED_RX_DAYS', 'REASON_FOR_NO_RADIATION', 'TOTAL_DOSE',]\n",
    "\n",
    "chemo_cols = ['RX_SUMM_CHEMO', 'DX_CHEMO_STARTED_DAYS', 'RX_SUMM_SYSTEMIC_SUR_SEQ']\n",
    "\n",
    "surg_cols = ['RX_SUMM_SURGRAD_SEQ', 'PALLIATIVE_CARE', 'DX_SURG_STARTED_DAYS', 'RX_SUMM_SURG_PRIM_SITE', 'RX_SUMM_SURGICAL_MARGINS','SURG_DISCHARGE_DAYS', 'READM_HOSP_30_DAYS', 'REASON_FOR_NO_SURGERY', ]\n",
    "\n",
    "os_cols = ['DX_LASTCONTACT_DEATH_MONTHS', 'PUF_VITAL_STATUS',]\n",
    " \n",
    "incl = id_cols + fac_cols + dem_cols + ses_cols + medco_cols + tumor_cols + rad_cols + chemo_cols + surg_cols + os_cols"
   ]
  },
  {
   "cell_type": "code",
   "execution_count": 225,
   "metadata": {},
   "outputs": [
    {
     "data": {
      "text/plain": [
       "(85027, 61)"
      ]
     },
     "execution_count": 225,
     "metadata": {},
     "output_type": "execute_result"
    }
   ],
   "source": [
    "data = pd.read_csv('data/ascc.csv', usecols=incl, na_values=[999, 99], low_memory=False)\n",
    "data.shape"
   ]
  },
  {
   "cell_type": "code",
   "execution_count": 226,
   "metadata": {},
   "outputs": [],
   "source": [
    "data = data[data['CLASS_OF_CASE'] != 0]\n",
    "data.drop('CLASS_OF_CASE', axis=1, inplace=True)"
   ]
  },
  {
   "cell_type": "code",
   "execution_count": 227,
   "metadata": {},
   "outputs": [],
   "source": [
    "#define a function that returns value counts and value percentages for a given column\n",
    "def table(df, col):\n",
    "    return pd.concat([df[col].value_counts(), df[col].value_counts(normalize=True)], axis=1, keys=('counts', 'percent'))\n",
    "def perc_APR(df):\n",
    "    return table(df, 'APR')['percent'][1]"
   ]
  },
  {
   "cell_type": "code",
   "execution_count": 228,
   "metadata": {},
   "outputs": [],
   "source": [
    "#create a dataframe with the counts and percentages of a variable by year\n",
    "def by_year(df, col):\n",
    "    cts = pd.crosstab(df['YEAR_OF_DIAGNOSIS'], df[col])\n",
    "    percs = pd.crosstab(df['YEAR_OF_DIAGNOSIS'], df[col], normalize='index')\n",
    "    percs = percs.round(2) * 100\n",
    "    percs = percs.astype(str)\n",
    "    cts = cts.astype(str)\n",
    "    comb = cts + ' (' + percs + '%)'\n",
    "    comb['total'] = df['YEAR_OF_DIAGNOSIS'].value_counts().sort_index()\n",
    "    return comb\n",
    "def by_stage(df, col):\n",
    "    cts = pd.crosstab(df['stage'], df[col])\n",
    "    percs = pd.crosstab(df['stage'], df[col], normalize='index')\n",
    "    percs = percs.round(2) * 100\n",
    "    percs = percs.astype(str)\n",
    "    cts = cts.astype(str)\n",
    "    comb = cts + ' (' + percs + '%)'\n",
    "    comb['total'] = df['stage'].value_counts().sort_index()\n",
    "    return comb"
   ]
  },
  {
   "cell_type": "markdown",
   "metadata": {},
   "source": [
    "<h1> First, define the primary outcome 'APR' <h1>\n",
    "<h3> APR 1 is codes 60-63, APR 0 requires 1 year of follow-up, no palliative care, surgery 'not planned' <h3>"
   ]
  },
  {
   "cell_type": "code",
   "execution_count": 229,
   "metadata": {},
   "outputs": [
    {
     "data": {
      "text/plain": [
       "0.0    74926\n",
       "1.0     5202\n",
       "Name: APR, dtype: int64"
      ]
     },
     "execution_count": 229,
     "metadata": {},
     "output_type": "execute_result"
    }
   ],
   "source": [
    "data['APR'] = np.NaN\n",
    "data.loc[data['RX_SUMM_SURG_PRIM_SITE'] == 60, 'APR'] = 1\n",
    "data.loc[data['RX_SUMM_SURG_PRIM_SITE'] == 61, 'APR'] = 1\n",
    "data.loc[data['RX_SUMM_SURG_PRIM_SITE'] == 62, 'APR'] = 1\n",
    "data.loc[data['RX_SUMM_SURG_PRIM_SITE'] == 63, 'APR'] = 1\n",
    "\n",
    "data.loc[data['APR'] != 1, 'APR'] = 0\n",
    "\n",
    "data['APR'].value_counts(dropna=False)"
   ]
  },
  {
   "cell_type": "code",
   "execution_count": 230,
   "metadata": {},
   "outputs": [
    {
     "data": {
      "text/html": [
       "<div>\n",
       "<style scoped>\n",
       "    .dataframe tbody tr th:only-of-type {\n",
       "        vertical-align: middle;\n",
       "    }\n",
       "\n",
       "    .dataframe tbody tr th {\n",
       "        vertical-align: top;\n",
       "    }\n",
       "\n",
       "    .dataframe thead th {\n",
       "        text-align: right;\n",
       "    }\n",
       "</style>\n",
       "<table border=\"1\" class=\"dataframe\">\n",
       "  <thead>\n",
       "    <tr style=\"text-align: right;\">\n",
       "      <th></th>\n",
       "      <th>counts</th>\n",
       "      <th>percent</th>\n",
       "    </tr>\n",
       "  </thead>\n",
       "  <tbody>\n",
       "    <tr>\n",
       "      <th>0.0</th>\n",
       "      <td>74926</td>\n",
       "      <td>0.935079</td>\n",
       "    </tr>\n",
       "    <tr>\n",
       "      <th>1.0</th>\n",
       "      <td>5202</td>\n",
       "      <td>0.064921</td>\n",
       "    </tr>\n",
       "  </tbody>\n",
       "</table>\n",
       "</div>"
      ],
      "text/plain": [
       "     counts   percent\n",
       "0.0   74926  0.935079\n",
       "1.0    5202  0.064921"
      ]
     },
     "execution_count": 230,
     "metadata": {},
     "output_type": "execute_result"
    }
   ],
   "source": [
    "table(data, 'APR')"
   ]
  },
  {
   "cell_type": "code",
   "execution_count": 231,
   "metadata": {},
   "outputs": [
    {
     "data": {
      "text/html": [
       "<div>\n",
       "<style scoped>\n",
       "    .dataframe tbody tr th:only-of-type {\n",
       "        vertical-align: middle;\n",
       "    }\n",
       "\n",
       "    .dataframe tbody tr th {\n",
       "        vertical-align: top;\n",
       "    }\n",
       "\n",
       "    .dataframe thead th {\n",
       "        text-align: right;\n",
       "    }\n",
       "</style>\n",
       "<table border=\"1\" class=\"dataframe\">\n",
       "  <thead>\n",
       "    <tr style=\"text-align: right;\">\n",
       "      <th>APR</th>\n",
       "      <th>0.0</th>\n",
       "      <th>1.0</th>\n",
       "      <th>All</th>\n",
       "    </tr>\n",
       "    <tr>\n",
       "      <th>HISTOLOGY</th>\n",
       "      <th></th>\n",
       "      <th></th>\n",
       "      <th></th>\n",
       "    </tr>\n",
       "  </thead>\n",
       "  <tbody>\n",
       "    <tr>\n",
       "      <th>All</th>\n",
       "      <td>74926</td>\n",
       "      <td>5202</td>\n",
       "      <td>80128</td>\n",
       "    </tr>\n",
       "    <tr>\n",
       "      <th>8070</th>\n",
       "      <td>51163</td>\n",
       "      <td>1905</td>\n",
       "      <td>53068</td>\n",
       "    </tr>\n",
       "    <tr>\n",
       "      <th>8140</th>\n",
       "      <td>3220</td>\n",
       "      <td>1587</td>\n",
       "      <td>4807</td>\n",
       "    </tr>\n",
       "    <tr>\n",
       "      <th>8480</th>\n",
       "      <td>470</td>\n",
       "      <td>389</td>\n",
       "      <td>859</td>\n",
       "    </tr>\n",
       "    <tr>\n",
       "      <th>8071</th>\n",
       "      <td>4734</td>\n",
       "      <td>296</td>\n",
       "      <td>5030</td>\n",
       "    </tr>\n",
       "    <tr>\n",
       "      <th>8720</th>\n",
       "      <td>741</td>\n",
       "      <td>230</td>\n",
       "      <td>971</td>\n",
       "    </tr>\n",
       "    <tr>\n",
       "      <th>8083</th>\n",
       "      <td>3753</td>\n",
       "      <td>123</td>\n",
       "      <td>3876</td>\n",
       "    </tr>\n",
       "    <tr>\n",
       "      <th>8263</th>\n",
       "      <td>308</td>\n",
       "      <td>57</td>\n",
       "      <td>365</td>\n",
       "    </tr>\n",
       "    <tr>\n",
       "      <th>8210</th>\n",
       "      <td>283</td>\n",
       "      <td>56</td>\n",
       "      <td>339</td>\n",
       "    </tr>\n",
       "    <tr>\n",
       "      <th>8072</th>\n",
       "      <td>1931</td>\n",
       "      <td>48</td>\n",
       "      <td>1979</td>\n",
       "    </tr>\n",
       "  </tbody>\n",
       "</table>\n",
       "</div>"
      ],
      "text/plain": [
       "APR          0.0   1.0    All\n",
       "HISTOLOGY                    \n",
       "All        74926  5202  80128\n",
       "8070       51163  1905  53068\n",
       "8140        3220  1587   4807\n",
       "8480         470   389    859\n",
       "8071        4734   296   5030\n",
       "8720         741   230    971\n",
       "8083        3753   123   3876\n",
       "8263         308    57    365\n",
       "8210         283    56    339\n",
       "8072        1931    48   1979"
      ]
     },
     "execution_count": 231,
     "metadata": {},
     "output_type": "execute_result"
    }
   ],
   "source": [
    "pd.crosstab(data['HISTOLOGY'], data['APR'], margins=True, dropna=False).sort_values(by=1, ascending=False).head(10)"
   ]
  },
  {
   "cell_type": "code",
   "execution_count": 232,
   "metadata": {},
   "outputs": [
    {
     "data": {
      "text/html": [
       "<div>\n",
       "<style scoped>\n",
       "    .dataframe tbody tr th:only-of-type {\n",
       "        vertical-align: middle;\n",
       "    }\n",
       "\n",
       "    .dataframe tbody tr th {\n",
       "        vertical-align: top;\n",
       "    }\n",
       "\n",
       "    .dataframe thead th {\n",
       "        text-align: right;\n",
       "    }\n",
       "</style>\n",
       "<table border=\"1\" class=\"dataframe\">\n",
       "  <thead>\n",
       "    <tr style=\"text-align: right;\">\n",
       "      <th>APR</th>\n",
       "      <th>0.0</th>\n",
       "      <th>1.0</th>\n",
       "      <th>All</th>\n",
       "    </tr>\n",
       "    <tr>\n",
       "      <th>HISTOLOGY</th>\n",
       "      <th></th>\n",
       "      <th></th>\n",
       "      <th></th>\n",
       "    </tr>\n",
       "  </thead>\n",
       "  <tbody>\n",
       "    <tr>\n",
       "      <th>8255</th>\n",
       "      <td>57</td>\n",
       "      <td>46</td>\n",
       "      <td>103</td>\n",
       "    </tr>\n",
       "    <tr>\n",
       "      <th>8490</th>\n",
       "      <td>104</td>\n",
       "      <td>46</td>\n",
       "      <td>150</td>\n",
       "    </tr>\n",
       "    <tr>\n",
       "      <th>8481</th>\n",
       "      <td>72</td>\n",
       "      <td>44</td>\n",
       "      <td>116</td>\n",
       "    </tr>\n",
       "    <tr>\n",
       "      <th>8246</th>\n",
       "      <td>242</td>\n",
       "      <td>35</td>\n",
       "      <td>277</td>\n",
       "    </tr>\n",
       "    <tr>\n",
       "      <th>8560</th>\n",
       "      <td>115</td>\n",
       "      <td>32</td>\n",
       "      <td>147</td>\n",
       "    </tr>\n",
       "    <tr>\n",
       "      <th>8051</th>\n",
       "      <td>373</td>\n",
       "      <td>28</td>\n",
       "      <td>401</td>\n",
       "    </tr>\n",
       "    <tr>\n",
       "      <th>8124</th>\n",
       "      <td>1268</td>\n",
       "      <td>26</td>\n",
       "      <td>1294</td>\n",
       "    </tr>\n",
       "    <tr>\n",
       "      <th>8261</th>\n",
       "      <td>130</td>\n",
       "      <td>25</td>\n",
       "      <td>155</td>\n",
       "    </tr>\n",
       "    <tr>\n",
       "      <th>8721</th>\n",
       "      <td>97</td>\n",
       "      <td>23</td>\n",
       "      <td>120</td>\n",
       "    </tr>\n",
       "    <tr>\n",
       "      <th>8215</th>\n",
       "      <td>32</td>\n",
       "      <td>22</td>\n",
       "      <td>54</td>\n",
       "    </tr>\n",
       "  </tbody>\n",
       "</table>\n",
       "</div>"
      ],
      "text/plain": [
       "APR         0.0  1.0   All\n",
       "HISTOLOGY                 \n",
       "8255         57   46   103\n",
       "8490        104   46   150\n",
       "8481         72   44   116\n",
       "8246        242   35   277\n",
       "8560        115   32   147\n",
       "8051        373   28   401\n",
       "8124       1268   26  1294\n",
       "8261        130   25   155\n",
       "8721         97   23   120\n",
       "8215         32   22    54"
      ]
     },
     "execution_count": 232,
     "metadata": {},
     "output_type": "execute_result"
    }
   ],
   "source": [
    "pd.crosstab(data['HISTOLOGY'], data['APR'], margins=True, dropna=False).sort_values(by=1, ascending=False).iloc[10:20]"
   ]
  },
  {
   "cell_type": "code",
   "execution_count": 233,
   "metadata": {},
   "outputs": [
    {
     "data": {
      "text/html": [
       "<div>\n",
       "<style scoped>\n",
       "    .dataframe tbody tr th:only-of-type {\n",
       "        vertical-align: middle;\n",
       "    }\n",
       "\n",
       "    .dataframe tbody tr th {\n",
       "        vertical-align: top;\n",
       "    }\n",
       "\n",
       "    .dataframe thead th {\n",
       "        text-align: right;\n",
       "    }\n",
       "</style>\n",
       "<table border=\"1\" class=\"dataframe\">\n",
       "  <thead>\n",
       "    <tr style=\"text-align: right;\">\n",
       "      <th>APR</th>\n",
       "      <th>0.0</th>\n",
       "      <th>1.0</th>\n",
       "      <th>All</th>\n",
       "    </tr>\n",
       "    <tr>\n",
       "      <th>HISTOLOGY</th>\n",
       "      <th></th>\n",
       "      <th></th>\n",
       "      <th></th>\n",
       "    </tr>\n",
       "  </thead>\n",
       "  <tbody>\n",
       "    <tr>\n",
       "      <th>8123</th>\n",
       "      <td>574</td>\n",
       "      <td>20</td>\n",
       "      <td>594</td>\n",
       "    </tr>\n",
       "    <tr>\n",
       "      <th>8542</th>\n",
       "      <td>177</td>\n",
       "      <td>17</td>\n",
       "      <td>194</td>\n",
       "    </tr>\n",
       "    <tr>\n",
       "      <th>8010</th>\n",
       "      <td>1399</td>\n",
       "      <td>16</td>\n",
       "      <td>1415</td>\n",
       "    </tr>\n",
       "    <tr>\n",
       "      <th>8041</th>\n",
       "      <td>294</td>\n",
       "      <td>15</td>\n",
       "      <td>309</td>\n",
       "    </tr>\n",
       "    <tr>\n",
       "      <th>8574</th>\n",
       "      <td>16</td>\n",
       "      <td>13</td>\n",
       "      <td>29</td>\n",
       "    </tr>\n",
       "    <tr>\n",
       "      <th>8746</th>\n",
       "      <td>41</td>\n",
       "      <td>7</td>\n",
       "      <td>48</td>\n",
       "    </tr>\n",
       "    <tr>\n",
       "      <th>8077</th>\n",
       "      <td>2284</td>\n",
       "      <td>6</td>\n",
       "      <td>2290</td>\n",
       "    </tr>\n",
       "    <tr>\n",
       "      <th>8244</th>\n",
       "      <td>9</td>\n",
       "      <td>6</td>\n",
       "      <td>15</td>\n",
       "    </tr>\n",
       "    <tr>\n",
       "      <th>8240</th>\n",
       "      <td>91</td>\n",
       "      <td>6</td>\n",
       "      <td>97</td>\n",
       "    </tr>\n",
       "    <tr>\n",
       "      <th>8730</th>\n",
       "      <td>7</td>\n",
       "      <td>6</td>\n",
       "      <td>13</td>\n",
       "    </tr>\n",
       "  </tbody>\n",
       "</table>\n",
       "</div>"
      ],
      "text/plain": [
       "APR         0.0  1.0   All\n",
       "HISTOLOGY                 \n",
       "8123        574   20   594\n",
       "8542        177   17   194\n",
       "8010       1399   16  1415\n",
       "8041        294   15   309\n",
       "8574         16   13    29\n",
       "8746         41    7    48\n",
       "8077       2284    6  2290\n",
       "8244          9    6    15\n",
       "8240         91    6    97\n",
       "8730          7    6    13"
      ]
     },
     "execution_count": 233,
     "metadata": {},
     "output_type": "execute_result"
    }
   ],
   "source": [
    "pd.crosstab(data['HISTOLOGY'], data['APR'], margins=True, dropna=False).sort_values(by=1, ascending=False).iloc[20:30]"
   ]
  },
  {
   "cell_type": "code",
   "execution_count": 234,
   "metadata": {},
   "outputs": [],
   "source": [
    "histo_tsikitis = [8000, 8010, 8083, 8120, 8124, 8560, 8070, 8071, 8072, 8076, 8083, 8481, 8051, 8123, 8480]\n"
   ]
  },
  {
   "cell_type": "code",
   "execution_count": 235,
   "metadata": {},
   "outputs": [
    {
     "name": "stdout",
     "output_type": "stream",
     "text": [
      "8051\n"
     ]
    }
   ],
   "source": [
    "for i in range(8051, 8052):\n",
    "    print(i)"
   ]
  },
  {
   "cell_type": "code",
   "execution_count": 236,
   "metadata": {},
   "outputs": [
    {
     "data": {
      "text/plain": [
       "[8051,\n",
       " 8052,\n",
       " 8053,\n",
       " 8054,\n",
       " 8055,\n",
       " 8056,\n",
       " 8057,\n",
       " 8058,\n",
       " 8059,\n",
       " 8060,\n",
       " 8061,\n",
       " 8062,\n",
       " 8063,\n",
       " 8064,\n",
       " 8065,\n",
       " 8066,\n",
       " 8067,\n",
       " 8068,\n",
       " 8069,\n",
       " 8070,\n",
       " 8071,\n",
       " 8072,\n",
       " 8073,\n",
       " 8074,\n",
       " 8075,\n",
       " 8076,\n",
       " 8077,\n",
       " 8078,\n",
       " 8079,\n",
       " 8080,\n",
       " 8081,\n",
       " 8082,\n",
       " 8083,\n",
       " 8084,\n",
       " 8120,\n",
       " 8121,\n",
       " 8122,\n",
       " 8123,\n",
       " 8124,\n",
       " 8125,\n",
       " 8126,\n",
       " 8127,\n",
       " 8128,\n",
       " 8129,\n",
       " 8130,\n",
       " 8131,\n",
       " 8000,\n",
       " 8010,\n",
       " 8560,\n",
       " 8481,\n",
       " 8480]"
      ]
     },
     "execution_count": 236,
     "metadata": {},
     "output_type": "execute_result"
    }
   ],
   "source": [
    "#create a list of numbers between 8070 and 8078\n",
    "histo_list = []\n",
    "for i in range(8051, 8085):\n",
    "    histo_list.append(i)\n",
    "for i in range(8120, 8132):\n",
    "    histo_list.append(i)\n",
    "#add the codes in histo_tiskitis to the list, unless they are already in the list\n",
    "for x in histo_tsikitis:\n",
    "    if x not in histo_list:\n",
    "        histo_list.append(x)\n",
    "\n",
    "histo_list"
   ]
  },
  {
   "cell_type": "code",
   "execution_count": 237,
   "metadata": {},
   "outputs": [
    {
     "data": {
      "text/html": [
       "<div>\n",
       "<style scoped>\n",
       "    .dataframe tbody tr th:only-of-type {\n",
       "        vertical-align: middle;\n",
       "    }\n",
       "\n",
       "    .dataframe tbody tr th {\n",
       "        vertical-align: top;\n",
       "    }\n",
       "\n",
       "    .dataframe thead th {\n",
       "        text-align: right;\n",
       "    }\n",
       "</style>\n",
       "<table border=\"1\" class=\"dataframe\">\n",
       "  <thead>\n",
       "    <tr style=\"text-align: right;\">\n",
       "      <th></th>\n",
       "      <th>criteria</th>\n",
       "      <th>before</th>\n",
       "      <th>after</th>\n",
       "      <th>drop</th>\n",
       "      <th>% APR</th>\n",
       "    </tr>\n",
       "  </thead>\n",
       "  <tbody>\n",
       "  </tbody>\n",
       "</table>\n",
       "</div>"
      ],
      "text/plain": [
       "Empty DataFrame\n",
       "Columns: [criteria, before, after, drop, % APR]\n",
       "Index: []"
      ]
     },
     "execution_count": 237,
     "metadata": {},
     "output_type": "execute_result"
    }
   ],
   "source": [
    "drop_counts = pd.DataFrame(columns=['criteria', 'before', 'after', 'drop', '% APR'])\n",
    "drop_counts.head()"
   ]
  },
  {
   "cell_type": "code",
   "execution_count": 238,
   "metadata": {},
   "outputs": [],
   "source": [
    "drop_counts = drop_counts.append({'criteria': 'total', 'before': 0, 'after': data.shape[0], 'drop': 0, '% APR': table(data, 'APR')['percent'][1]}, ignore_index=True)"
   ]
  },
  {
   "cell_type": "code",
   "execution_count": 239,
   "metadata": {},
   "outputs": [
    {
     "data": {
      "text/html": [
       "<div>\n",
       "<style scoped>\n",
       "    .dataframe tbody tr th:only-of-type {\n",
       "        vertical-align: middle;\n",
       "    }\n",
       "\n",
       "    .dataframe tbody tr th {\n",
       "        vertical-align: top;\n",
       "    }\n",
       "\n",
       "    .dataframe thead th {\n",
       "        text-align: right;\n",
       "    }\n",
       "</style>\n",
       "<table border=\"1\" class=\"dataframe\">\n",
       "  <thead>\n",
       "    <tr style=\"text-align: right;\">\n",
       "      <th></th>\n",
       "      <th>criteria</th>\n",
       "      <th>before</th>\n",
       "      <th>after</th>\n",
       "      <th>drop</th>\n",
       "      <th>% APR</th>\n",
       "    </tr>\n",
       "  </thead>\n",
       "  <tbody>\n",
       "    <tr>\n",
       "      <th>0</th>\n",
       "      <td>total</td>\n",
       "      <td>0</td>\n",
       "      <td>80128</td>\n",
       "      <td>0</td>\n",
       "      <td>0.064921</td>\n",
       "    </tr>\n",
       "    <tr>\n",
       "      <th>1</th>\n",
       "      <td>histology</td>\n",
       "      <td>80128</td>\n",
       "      <td>71606</td>\n",
       "      <td>8522</td>\n",
       "      <td>0.041156</td>\n",
       "    </tr>\n",
       "  </tbody>\n",
       "</table>\n",
       "</div>"
      ],
      "text/plain": [
       "    criteria before  after  drop     % APR\n",
       "0      total      0  80128     0  0.064921\n",
       "1  histology  80128  71606  8522  0.041156"
      ]
     },
     "execution_count": 239,
     "metadata": {},
     "output_type": "execute_result"
    }
   ],
   "source": [
    "#keep only histologies in the list\n",
    "before = data.shape[0]\n",
    "data = data[data['HISTOLOGY'].isin(histo_list)]\n",
    "after = data.shape[0]\n",
    "drop = before - after\n",
    "drop_counts = drop_counts.append({'criteria': 'histology', 'before': before, 'after': after, 'drop': drop, '% APR': table(data, 'APR')['percent'][1]}, ignore_index=True)\n",
    "drop_counts.head()"
   ]
  },
  {
   "cell_type": "code",
   "execution_count": 240,
   "metadata": {},
   "outputs": [
    {
     "data": {
      "text/html": [
       "<div>\n",
       "<style scoped>\n",
       "    .dataframe tbody tr th:only-of-type {\n",
       "        vertical-align: middle;\n",
       "    }\n",
       "\n",
       "    .dataframe tbody tr th {\n",
       "        vertical-align: top;\n",
       "    }\n",
       "\n",
       "    .dataframe thead th {\n",
       "        text-align: right;\n",
       "    }\n",
       "</style>\n",
       "<table border=\"1\" class=\"dataframe\">\n",
       "  <thead>\n",
       "    <tr style=\"text-align: right;\">\n",
       "      <th></th>\n",
       "      <th>counts</th>\n",
       "      <th>percent</th>\n",
       "    </tr>\n",
       "  </thead>\n",
       "  <tbody>\n",
       "    <tr>\n",
       "      <th>0.0</th>\n",
       "      <td>68659</td>\n",
       "      <td>0.958844</td>\n",
       "    </tr>\n",
       "    <tr>\n",
       "      <th>1.0</th>\n",
       "      <td>2947</td>\n",
       "      <td>0.041156</td>\n",
       "    </tr>\n",
       "  </tbody>\n",
       "</table>\n",
       "</div>"
      ],
      "text/plain": [
       "     counts   percent\n",
       "0.0   68659  0.958844\n",
       "1.0    2947  0.041156"
      ]
     },
     "execution_count": 240,
     "metadata": {},
     "output_type": "execute_result"
    }
   ],
   "source": [
    "table(data, 'APR')"
   ]
  },
  {
   "cell_type": "code",
   "execution_count": 163,
   "metadata": {},
   "outputs": [
    {
     "data": {
      "text/plain": [
       "0    52358\n",
       "1    15956\n",
       "9     1273\n",
       "7      806\n",
       "2      471\n",
       "8      277\n",
       "6      228\n",
       "5      100\n",
       "Name: REASON_FOR_NO_RADIATION, dtype: int64"
      ]
     },
     "execution_count": 163,
     "metadata": {},
     "output_type": "execute_result"
    }
   ],
   "source": [
    "data['REASON_FOR_NO_RADIATION'].value_counts(dropna=False)"
   ]
  },
  {
   "cell_type": "code",
   "execution_count": 164,
   "metadata": {},
   "outputs": [
    {
     "data": {
      "text/plain": [
       "3.0     42561\n",
       "0.0     16827\n",
       "2.0      5815\n",
       "1.0      2778\n",
       "87.0     1239\n",
       "82.0      939\n",
       "88.0      636\n",
       "86.0      211\n",
       "85.0      138\n",
       "Name: RX_SUMM_CHEMO, dtype: int64"
      ]
     },
     "execution_count": 164,
     "metadata": {},
     "output_type": "execute_result"
    }
   ],
   "source": [
    "data['RX_SUMM_CHEMO'].value_counts()"
   ]
  },
  {
   "cell_type": "code",
   "execution_count": 165,
   "metadata": {},
   "outputs": [
    {
     "data": {
      "text/plain": [
       "1.0    40915\n",
       "0.0    30554\n",
       "Name: CRT, dtype: int64"
      ]
     },
     "execution_count": 165,
     "metadata": {},
     "output_type": "execute_result"
    }
   ],
   "source": [
    "data['CRT'] = np.NaN\n",
    "data.loc[(data['REASON_FOR_NO_RADIATION'] == 0) & (data['RX_SUMM_CHEMO'] == 3), 'CRT'] = 1\n",
    "data.loc[data['CRT'] != 1, 'CRT'] = 0\n",
    "data['CRT'].value_counts()"
   ]
  },
  {
   "cell_type": "code",
   "execution_count": 166,
   "metadata": {},
   "outputs": [
    {
     "data": {
      "text/html": [
       "<div>\n",
       "<style scoped>\n",
       "    .dataframe tbody tr th:only-of-type {\n",
       "        vertical-align: middle;\n",
       "    }\n",
       "\n",
       "    .dataframe tbody tr th {\n",
       "        vertical-align: top;\n",
       "    }\n",
       "\n",
       "    .dataframe thead th {\n",
       "        text-align: right;\n",
       "    }\n",
       "</style>\n",
       "<table border=\"1\" class=\"dataframe\">\n",
       "  <thead>\n",
       "    <tr style=\"text-align: right;\">\n",
       "      <th>APR</th>\n",
       "      <th>0.0</th>\n",
       "      <th>1.0</th>\n",
       "      <th>All</th>\n",
       "    </tr>\n",
       "    <tr>\n",
       "      <th>CRT</th>\n",
       "      <th></th>\n",
       "      <th></th>\n",
       "      <th></th>\n",
       "    </tr>\n",
       "  </thead>\n",
       "  <tbody>\n",
       "    <tr>\n",
       "      <th>0.0</th>\n",
       "      <td>28662</td>\n",
       "      <td>1892</td>\n",
       "      <td>30554</td>\n",
       "    </tr>\n",
       "    <tr>\n",
       "      <th>1.0</th>\n",
       "      <td>39864</td>\n",
       "      <td>1051</td>\n",
       "      <td>40915</td>\n",
       "    </tr>\n",
       "    <tr>\n",
       "      <th>All</th>\n",
       "      <td>68526</td>\n",
       "      <td>2943</td>\n",
       "      <td>71469</td>\n",
       "    </tr>\n",
       "  </tbody>\n",
       "</table>\n",
       "</div>"
      ],
      "text/plain": [
       "APR    0.0   1.0    All\n",
       "CRT                    \n",
       "0.0  28662  1892  30554\n",
       "1.0  39864  1051  40915\n",
       "All  68526  2943  71469"
      ]
     },
     "execution_count": 166,
     "metadata": {},
     "output_type": "execute_result"
    }
   ],
   "source": [
    "pd.crosstab(data['CRT'], data['APR'], margins=True, dropna=False)"
   ]
  },
  {
   "cell_type": "code",
   "execution_count": 167,
   "metadata": {},
   "outputs": [
    {
     "data": {
      "text/html": [
       "<div>\n",
       "<style scoped>\n",
       "    .dataframe tbody tr th:only-of-type {\n",
       "        vertical-align: middle;\n",
       "    }\n",
       "\n",
       "    .dataframe tbody tr th {\n",
       "        vertical-align: top;\n",
       "    }\n",
       "\n",
       "    .dataframe thead th {\n",
       "        text-align: right;\n",
       "    }\n",
       "</style>\n",
       "<table border=\"1\" class=\"dataframe\">\n",
       "  <thead>\n",
       "    <tr style=\"text-align: right;\">\n",
       "      <th>APR</th>\n",
       "      <th>0.0</th>\n",
       "      <th>1.0</th>\n",
       "    </tr>\n",
       "    <tr>\n",
       "      <th>CRT</th>\n",
       "      <th></th>\n",
       "      <th></th>\n",
       "    </tr>\n",
       "  </thead>\n",
       "  <tbody>\n",
       "    <tr>\n",
       "      <th>0.0</th>\n",
       "      <td>0.938077</td>\n",
       "      <td>0.061923</td>\n",
       "    </tr>\n",
       "    <tr>\n",
       "      <th>1.0</th>\n",
       "      <td>0.974313</td>\n",
       "      <td>0.025687</td>\n",
       "    </tr>\n",
       "  </tbody>\n",
       "</table>\n",
       "</div>"
      ],
      "text/plain": [
       "APR       0.0       1.0\n",
       "CRT                    \n",
       "0.0  0.938077  0.061923\n",
       "1.0  0.974313  0.025687"
      ]
     },
     "execution_count": 167,
     "metadata": {},
     "output_type": "execute_result"
    }
   ],
   "source": [
    "pd.crosstab(data['CRT'], data['APR'], normalize='index', dropna=False)"
   ]
  },
  {
   "cell_type": "code",
   "execution_count": 168,
   "metadata": {},
   "outputs": [
    {
     "data": {
      "text/plain": [
       "count     31764.000000\n",
       "mean      24243.443112\n",
       "std      143174.712634\n",
       "min           0.000000\n",
       "25%           0.000000\n",
       "50%        4590.000000\n",
       "75%        5400.000000\n",
       "max      999999.000000\n",
       "Name: TOTAL_DOSE, dtype: float64"
      ]
     },
     "execution_count": 168,
     "metadata": {},
     "output_type": "execute_result"
    }
   ],
   "source": [
    "data['TOTAL_DOSE'].describe()"
   ]
  },
  {
   "cell_type": "code",
   "execution_count": 169,
   "metadata": {},
   "outputs": [
    {
     "data": {
      "text/plain": [
       "<AxesSubplot:>"
      ]
     },
     "execution_count": 169,
     "metadata": {},
     "output_type": "execute_result"
    },
    {
     "data": {
      "image/png": "[encoded data removed]",
      "text/plain": [
       "<Figure size 432x288 with 1 Axes>"
      ]
     },
     "metadata": {
      "needs_background": "light"
     },
     "output_type": "display_data"
    }
   ],
   "source": [
    "data.loc[data['TOTAL_DOSE'] > 20000, 'TOTAL_DOSE'] = np.NaN\n",
    "data.loc[data['TOTAL_DOSE'] > 10000, 'TOTAL_DOSE'] = 10000\n",
    "data['TOTAL_DOSE'].hist()"
   ]
  },
  {
   "cell_type": "code",
   "execution_count": 170,
   "metadata": {},
   "outputs": [
    {
     "data": {
      "text/plain": [
       "NaN    40467\n",
       "1.0    17052\n",
       "0.0    13950\n",
       "Name: Radiation Dose, >30 Gy, dtype: int64"
      ]
     },
     "execution_count": 170,
     "metadata": {},
     "output_type": "execute_result"
    }
   ],
   "source": [
    "data['Radiation Dose, >30 Gy'] = np.NaN\n",
    "data.loc[data['TOTAL_DOSE'] >= 3000, 'Radiation Dose, >30 Gy'] = 1\n",
    "data.loc[data['TOTAL_DOSE'] < 3000, 'Radiation Dose, >30 Gy'] = 0\n",
    "\n",
    "data['Radiation Dose, >30 Gy'].value_counts(dropna=False)\n"
   ]
  },
  {
   "cell_type": "code",
   "execution_count": 171,
   "metadata": {},
   "outputs": [
    {
     "data": {
      "text/html": [
       "<div>\n",
       "<style scoped>\n",
       "    .dataframe tbody tr th:only-of-type {\n",
       "        vertical-align: middle;\n",
       "    }\n",
       "\n",
       "    .dataframe tbody tr th {\n",
       "        vertical-align: top;\n",
       "    }\n",
       "\n",
       "    .dataframe thead th {\n",
       "        text-align: right;\n",
       "    }\n",
       "</style>\n",
       "<table border=\"1\" class=\"dataframe\">\n",
       "  <thead>\n",
       "    <tr style=\"text-align: right;\">\n",
       "      <th></th>\n",
       "      <th>counts</th>\n",
       "      <th>percent</th>\n",
       "    </tr>\n",
       "  </thead>\n",
       "  <tbody>\n",
       "    <tr>\n",
       "      <th>0.0</th>\n",
       "      <td>16634</td>\n",
       "      <td>0.975487</td>\n",
       "    </tr>\n",
       "    <tr>\n",
       "      <th>1.0</th>\n",
       "      <td>418</td>\n",
       "      <td>0.024513</td>\n",
       "    </tr>\n",
       "  </tbody>\n",
       "</table>\n",
       "</div>"
      ],
      "text/plain": [
       "     counts   percent\n",
       "0.0   16634  0.975487\n",
       "1.0     418  0.024513"
      ]
     },
     "execution_count": 171,
     "metadata": {},
     "output_type": "execute_result"
    }
   ],
   "source": [
    "data_rad = data[data['Radiation Dose, >30 Gy'] == 1]\n",
    "table(data_rad, 'APR')\n"
   ]
  },
  {
   "cell_type": "code",
   "execution_count": 172,
   "metadata": {},
   "outputs": [
    {
     "data": {
      "text/html": [
       "<div>\n",
       "<style scoped>\n",
       "    .dataframe tbody tr th:only-of-type {\n",
       "        vertical-align: middle;\n",
       "    }\n",
       "\n",
       "    .dataframe tbody tr th {\n",
       "        vertical-align: top;\n",
       "    }\n",
       "\n",
       "    .dataframe thead th {\n",
       "        text-align: right;\n",
       "    }\n",
       "</style>\n",
       "<table border=\"1\" class=\"dataframe\">\n",
       "  <thead>\n",
       "    <tr style=\"text-align: right;\">\n",
       "      <th>Radiation Dose, &gt;30 Gy</th>\n",
       "      <th>0.0</th>\n",
       "      <th>1.0</th>\n",
       "      <th>All</th>\n",
       "    </tr>\n",
       "    <tr>\n",
       "      <th>APR</th>\n",
       "      <th></th>\n",
       "      <th></th>\n",
       "      <th></th>\n",
       "    </tr>\n",
       "  </thead>\n",
       "  <tbody>\n",
       "    <tr>\n",
       "      <th>0.0</th>\n",
       "      <td>0.425973</td>\n",
       "      <td>0.536546</td>\n",
       "      <td>0.958821</td>\n",
       "    </tr>\n",
       "    <tr>\n",
       "      <th>1.0</th>\n",
       "      <td>0.023998</td>\n",
       "      <td>0.013483</td>\n",
       "      <td>0.041179</td>\n",
       "    </tr>\n",
       "    <tr>\n",
       "      <th>All</th>\n",
       "      <td>0.449971</td>\n",
       "      <td>0.550029</td>\n",
       "      <td>1.000000</td>\n",
       "    </tr>\n",
       "  </tbody>\n",
       "</table>\n",
       "</div>"
      ],
      "text/plain": [
       "Radiation Dose, >30 Gy       0.0       1.0       All\n",
       "APR                                                 \n",
       "0.0                     0.425973  0.536546  0.958821\n",
       "1.0                     0.023998  0.013483  0.041179\n",
       "All                     0.449971  0.550029  1.000000"
      ]
     },
     "execution_count": 172,
     "metadata": {},
     "output_type": "execute_result"
    }
   ],
   "source": [
    "pd.crosstab(data['APR'], data['Radiation Dose, >30 Gy'], margins=True, dropna=False, normalize=True)"
   ]
  },
  {
   "cell_type": "code",
   "execution_count": 173,
   "metadata": {},
   "outputs": [],
   "source": [
    "data['stage'] = np.NaN"
   ]
  },
  {
   "cell_type": "code",
   "execution_count": 174,
   "metadata": {},
   "outputs": [
    {
     "data": {
      "text/plain": [
       "('AJCC_TNM_CLIN_M',\n",
       " 'AJCC_TNM_CLIN_N',\n",
       " 'AJCC_TNM_CLIN_N_SFX',\n",
       " 'AJCC_TNM_CLIN_STG_GRP',\n",
       " 'AJCC_TNM_CLIN_T')"
      ]
     },
     "execution_count": 174,
     "metadata": {},
     "output_type": "execute_result"
    }
   ],
   "source": [
    "'TNM_CLIN_T', 'TNM_CLIN_N', 'TNM_CLIN_M',\n",
    "'TNM_CLIN_T', 'TNM_CLIN_N', 'TNM_CLIN_M', 'TNM_CLIN_STAGE_GROUP',\n",
    "'AJCC_TNM_CLIN_M', 'AJCC_TNM_CLIN_N', 'AJCC_TNM_CLIN_N_SFX', 'AJCC_TNM_CLIN_STG_GRP', 'AJCC_TNM_CLIN_T',"
   ]
  },
  {
   "cell_type": "code",
   "execution_count": 175,
   "metadata": {},
   "outputs": [
    {
     "data": {
      "text/html": [
       "<div>\n",
       "<style scoped>\n",
       "    .dataframe tbody tr th:only-of-type {\n",
       "        vertical-align: middle;\n",
       "    }\n",
       "\n",
       "    .dataframe tbody tr th {\n",
       "        vertical-align: top;\n",
       "    }\n",
       "\n",
       "    .dataframe thead th {\n",
       "        text-align: right;\n",
       "    }\n",
       "</style>\n",
       "<table border=\"1\" class=\"dataframe\">\n",
       "  <thead>\n",
       "    <tr style=\"text-align: right;\">\n",
       "      <th></th>\n",
       "      <th>stage</th>\n",
       "      <th>TNM_CLIN_STAGE_GROUP</th>\n",
       "    </tr>\n",
       "  </thead>\n",
       "  <tbody>\n",
       "  </tbody>\n",
       "</table>\n",
       "</div>"
      ],
      "text/plain": [
       "Empty DataFrame\n",
       "Columns: [stage, TNM_CLIN_STAGE_GROUP]\n",
       "Index: []"
      ]
     },
     "execution_count": 175,
     "metadata": {},
     "output_type": "execute_result"
    }
   ],
   "source": [
    "#if YEAR_OF_DIAGNOSIS is < 2018, stage is 'AJCC Clinical Stage Group'\n",
    "data['stage'] = data['AJCC_TNM_CLIN_STG_GRP']\n",
    "data.loc[data['YEAR_OF_DIAGNOSIS'] < 2018, 'stage'] = data.loc[data['YEAR_OF_DIAGNOSIS'] < 2018, 'TNM_CLIN_STAGE_GROUP']\n",
    "#if 'stage' is still NaN, then fill with 'AJCC Clinical Stage Group'\n",
    "data.loc[data['stage'].isnull(), 'stage'] = data.loc[data['stage'].isnull(), 'TNM_CLIN_STAGE_GROUP']\n",
    "#find rows where 'stage' does not equal 'TNM_CLIN_STAGE_GROUP' and show only those columns\n",
    "data.loc[(data['stage'] != data['TNM_CLIN_STAGE_GROUP']) & (data['stage'].notnull() & (data['TNM_CLIN_STAGE_GROUP'].notnull())), ['stage', 'TNM_CLIN_STAGE_GROUP']]\n",
    "#find rows where 'stage' does not equal 'TNM_CLIN_STAGE_GROUP' and show only those columns\n",
    "data.loc[(data['stage'] != data['TNM_CLIN_STAGE_GROUP']) & (data['stage'].notnull() & (data['TNM_CLIN_STAGE_GROUP'].notnull())), ['stage', 'TNM_CLIN_STAGE_GROUP']]"
   ]
  },
  {
   "cell_type": "code",
   "execution_count": 176,
   "metadata": {},
   "outputs": [
    {
     "data": {
      "text/plain": [
       "2     17310\n",
       "3B     9819\n",
       "1      9753\n",
       "3A     6855\n",
       "0      6520\n",
       "4      3640\n",
       "2A     2397\n",
       "3C     1712\n",
       "2B      741\n",
       "3       228\n",
       "88       52\n",
       "Name: stage, dtype: int64"
      ]
     },
     "execution_count": 176,
     "metadata": {},
     "output_type": "execute_result"
    }
   ],
   "source": [
    "data['stage'].value_counts()"
   ]
  },
  {
   "cell_type": "code",
   "execution_count": 177,
   "metadata": {},
   "outputs": [
    {
     "data": {
      "text/plain": [
       "0    67871\n",
       "1     3598\n",
       "Name: m_stage, dtype: int64"
      ]
     },
     "execution_count": 177,
     "metadata": {},
     "output_type": "execute_result"
    }
   ],
   "source": [
    "data['t_stage'] = data['TNM_CLIN_T']\n",
    "data['n_stage'] = data['TNM_CLIN_N']\n",
    "data['m_stage'] = data['TNM_CLIN_M']\n",
    "\n",
    "data['t_stage'].value_counts(dropna=False)\n",
    "#if YEAR_OF_DIAGNOSIS is >= 2018 and t_stage is null, T stage is 'AJCC_TNM_CLIN_T'\n",
    "data.loc[((data['YEAR_OF_DIAGNOSIS'] >= 2018) & (data['t_stage'].isnull())), 't_stage'] = data.loc[((data['YEAR_OF_DIAGNOSIS'] >= 2018) & (data['t_stage'].isnull())), 'AJCC_TNM_CLIN_T']\n",
    "\n",
    "#same for n and m stages\n",
    "data.loc[((data['YEAR_OF_DIAGNOSIS'] >= 2018) & (data['n_stage'].isnull())), 'n_stage'] = data.loc[((data['YEAR_OF_DIAGNOSIS'] >= 2018) & (data['n_stage'].isnull())), 'AJCC_TNM_CLIN_N']\n",
    "data.loc[((data['YEAR_OF_DIAGNOSIS'] >= 2018) & (data['m_stage'].isnull())), 'm_stage'] = data.loc[((data['YEAR_OF_DIAGNOSIS'] >= 2018) & (data['m_stage'].isnull())), 'AJCC_TNM_CLIN_M']\n",
    "data['t_stage'].value_counts(dropna=False)\n",
    "#if t_stage contains 'is' or 'x', t_stage is 0\n",
    "data.loc[data['t_stage'].str.contains('is', na=False), 't_stage'] = 0\n",
    "data.loc[data['t_stage'].str.contains('x', case=False, na=False), 't_stage'] = np.NaN\n",
    "data.loc[data['t_stage'].str.contains('1', case=False, na=False), 't_stage'] = 1\n",
    "data.loc[data['t_stage'].str.contains('2', case=False, na=False), 't_stage'] = 2\n",
    "data.loc[data['t_stage'].str.contains('3', case=False, na=False), 't_stage'] = 3\n",
    "data.loc[data['t_stage'].str.contains('4', case=False, na=False), 't_stage'] = 4\n",
    "data.loc[data['t_stage'].str.contains('is', case=False, na=False), 't_stage'] = 0\n",
    "data.loc[data['t_stage'].str.contains('0', case=False, na=False), 't_stage'] = 0\n",
    "# data['t_stage'].fillna(0, inplace=True)\n",
    "data['t_stage'].value_counts(dropna=False)\n",
    "data['n_stage'].value_counts(dropna=False)\n",
    "data.loc[data['n_stage'].str.contains('is', case=False, na=False), 'n_stage'] = 0\n",
    "data.loc[data['n_stage'].str.contains('0', case=False, na=False), 'n_stage'] = 0\n",
    "# data['n_stage'].fillna(0, inplace=True)\n",
    "data.loc[data['n_stage'].str.contains('1', case=False, na=False), 'n_stage'] = 1\n",
    "data.loc[data['n_stage'].str.contains('2', case=False, na=False), 'n_stage'] = 1\n",
    "data.loc[data['n_stage'].str.contains('3', case=False, na=False), 'n_stage'] = 1\n",
    "data.loc[data['n_stage'].str.contains('4', case=False, na=False), 'n_stage'] = 1\n",
    "data.loc[data['n_stage'].str.contains('X', case=False, na=False), 'n_stage'] = np.NaN\n",
    "data['n_stage'].value_counts(dropna=False)\n",
    "data['m_stage'].value_counts(dropna=False)\n",
    "data['m_stage'].fillna(0, inplace=True)\n",
    "data.loc[data['m_stage'].str.contains('is', case=False, na=False), 'm_stage'] = 0\n",
    "data.loc[data['m_stage'].str.contains('0', case=False, na=False), 'm_stage'] = 0\n",
    "data.loc[data['m_stage'].str.contains('1', case=False, na=False), 'm_stage'] = 1\n",
    "data.loc[data['m_stage'].str.contains('88', case=False, na=False), 'm_stage'] = 0\n",
    "data.loc[data['m_stage'].str.contains('x', case=False, na=False), 'm_stage'] = 0\n",
    "data['m_stage'].value_counts(dropna=False)\n"
   ]
  },
  {
   "cell_type": "code",
   "execution_count": 178,
   "metadata": {},
   "outputs": [
    {
     "data": {
      "text/html": [
       "<div>\n",
       "<style scoped>\n",
       "    .dataframe tbody tr th:only-of-type {\n",
       "        vertical-align: middle;\n",
       "    }\n",
       "\n",
       "    .dataframe tbody tr th {\n",
       "        vertical-align: top;\n",
       "    }\n",
       "\n",
       "    .dataframe thead th {\n",
       "        text-align: right;\n",
       "    }\n",
       "</style>\n",
       "<table border=\"1\" class=\"dataframe\">\n",
       "  <thead>\n",
       "    <tr style=\"text-align: right;\">\n",
       "      <th></th>\n",
       "      <th>criteria</th>\n",
       "      <th>before</th>\n",
       "      <th>after</th>\n",
       "      <th>drop</th>\n",
       "      <th>% APR</th>\n",
       "    </tr>\n",
       "  </thead>\n",
       "  <tbody>\n",
       "    <tr>\n",
       "      <th>0</th>\n",
       "      <td>total</td>\n",
       "      <td>0</td>\n",
       "      <td>80128</td>\n",
       "      <td>0</td>\n",
       "      <td>0.064921</td>\n",
       "    </tr>\n",
       "    <tr>\n",
       "      <th>1</th>\n",
       "      <td>histology</td>\n",
       "      <td>80128</td>\n",
       "      <td>71469</td>\n",
       "      <td>8659</td>\n",
       "      <td>0.041179</td>\n",
       "    </tr>\n",
       "    <tr>\n",
       "      <th>2</th>\n",
       "      <td>stage IV</td>\n",
       "      <td>71469</td>\n",
       "      <td>67760</td>\n",
       "      <td>3709</td>\n",
       "      <td>0.042031</td>\n",
       "    </tr>\n",
       "  </tbody>\n",
       "</table>\n",
       "</div>"
      ],
      "text/plain": [
       "    criteria before  after  drop     % APR\n",
       "0      total      0  80128     0  0.064921\n",
       "1  histology  80128  71469  8659  0.041179\n",
       "2   stage IV  71469  67760  3709  0.042031"
      ]
     },
     "execution_count": 178,
     "metadata": {},
     "output_type": "execute_result"
    }
   ],
   "source": [
    "before = data.shape[0]\n",
    "data.loc[data['m_stage'] == 1, 'stage'] = 4\n",
    "data = data.loc[data['m_stage'] == 0]\n",
    "data = data.loc[data['stage'] != 4]\n",
    "data = data.loc[data['stage'] != '4']\n",
    "after = data.shape[0]\n",
    "drop = before - after\n",
    "\n",
    "drop_counts = drop_counts.append({'criteria': 'stage IV', 'before': before, 'after': after, 'drop': drop, '% APR': perc_APR(data)}, ignore_index=True)\n",
    "drop_counts.head()"
   ]
  },
  {
   "cell_type": "code",
   "execution_count": 179,
   "metadata": {},
   "outputs": [
    {
     "data": {
      "text/html": [
       "<div>\n",
       "<style scoped>\n",
       "    .dataframe tbody tr th:only-of-type {\n",
       "        vertical-align: middle;\n",
       "    }\n",
       "\n",
       "    .dataframe tbody tr th {\n",
       "        vertical-align: top;\n",
       "    }\n",
       "\n",
       "    .dataframe thead th {\n",
       "        text-align: right;\n",
       "    }\n",
       "</style>\n",
       "<table border=\"1\" class=\"dataframe\">\n",
       "  <thead>\n",
       "    <tr style=\"text-align: right;\">\n",
       "      <th></th>\n",
       "      <th>counts</th>\n",
       "      <th>percent</th>\n",
       "    </tr>\n",
       "  </thead>\n",
       "  <tbody>\n",
       "    <tr>\n",
       "      <th>0.0</th>\n",
       "      <td>64912</td>\n",
       "      <td>0.957969</td>\n",
       "    </tr>\n",
       "    <tr>\n",
       "      <th>1.0</th>\n",
       "      <td>2848</td>\n",
       "      <td>0.042031</td>\n",
       "    </tr>\n",
       "  </tbody>\n",
       "</table>\n",
       "</div>"
      ],
      "text/plain": [
       "     counts   percent\n",
       "0.0   64912  0.957969\n",
       "1.0    2848  0.042031"
      ]
     },
     "execution_count": 179,
     "metadata": {},
     "output_type": "execute_result"
    }
   ],
   "source": [
    "table(data, 'APR')"
   ]
  },
  {
   "cell_type": "code",
   "execution_count": 180,
   "metadata": {},
   "outputs": [],
   "source": [
    "data.loc[data['AJCC_TNM_CLIN_N'].str.contains('cN1', case=False, na=False), 'stage'] = '3'\n",
    "data.loc[data['TNM_CLIN_N'].str.contains('cN1', case=False, na=False), 'stage'] = '3'"
   ]
  },
  {
   "cell_type": "code",
   "execution_count": 181,
   "metadata": {},
   "outputs": [
    {
     "data": {
      "text/plain": [
       "(1030, 67)"
      ]
     },
     "execution_count": 181,
     "metadata": {},
     "output_type": "execute_result"
    }
   ],
   "source": [
    "#create a dataframe including only rows where 'stage' is null\n",
    "data_stage_null = data.loc[data['stage'].isna()]\n",
    "data_stage_null = data_stage_null.loc[data['APR'] == 1]\n",
    "data_stage_null.shape"
   ]
  },
  {
   "cell_type": "code",
   "execution_count": 182,
   "metadata": {},
   "outputs": [],
   "source": [
    "tnm_cols = [col for col in data.columns if 'TNM' in col]\n",
    "data.drop(tnm_cols, axis=1, inplace=True)"
   ]
  },
  {
   "cell_type": "code",
   "execution_count": 183,
   "metadata": {},
   "outputs": [
    {
     "data": {
      "text/plain": [
       "2      17304\n",
       "NaN    12278\n",
       "3B      9763\n",
       "1       9741\n",
       "0       6516\n",
       "3A      5179\n",
       "3       3806\n",
       "2A      2382\n",
       "2B       730\n",
       "88        52\n",
       "3C         9\n",
       "Name: stage, dtype: int64"
      ]
     },
     "execution_count": 183,
     "metadata": {},
     "output_type": "execute_result"
    }
   ],
   "source": [
    "data.loc[data['stage'] == 3, 'stage'] = '3'\n",
    "data['stage'].value_counts(dropna=False)"
   ]
  },
  {
   "cell_type": "code",
   "execution_count": 184,
   "metadata": {},
   "outputs": [
    {
     "data": {
      "text/plain": [
       "2A     16188\n",
       "NaN    11646\n",
       "1       9489\n",
       "3A      8281\n",
       "3C      8126\n",
       "0       6457\n",
       "2B      5145\n",
       "3B      2352\n",
       "88        52\n",
       "2         17\n",
       "3          7\n",
       "Name: stage, dtype: int64"
      ]
     },
     "execution_count": 184,
     "metadata": {},
     "output_type": "execute_result"
    }
   ],
   "source": [
    "#if the stage is 2 and t_stage is null, t_stage is 2\n",
    "data.loc[(data['stage'] == '2') & (data['t_stage'].isna()), 't_stage'] = 2\n",
    "\n",
    "#if the stage is 3 and t_stage is null, t_stage is 1\n",
    "data.loc[(data['stage'] == '3') & (data['t_stage'].isna()), 't_stage'] = 1\n",
    "#if the stage is 3 and n_stage is null, n_stage is 1\n",
    "data.loc[(data['stage'] == '3') & (data['n_stage'].isna()) & (data['t_stage'] != 4), 'n_stage'] = 1\n",
    "\n",
    "\n",
    "data.loc[(data['t_stage'] == 1) & (data['n_stage'] == 0), 'stage'] = '1'\n",
    "data.loc[(data['t_stage'] == 2) & (data['n_stage'] == 0), 'stage'] = '2A'\n",
    "data.loc[(data['t_stage'] == 2) & (data['n_stage'].isna()), 'stage'] = '2A'\n",
    "\n",
    "data.loc[(data['t_stage'] == 3) & (data['n_stage'] == 0), 'stage'] = '2B'\n",
    "data.loc[(data['t_stage'] == 3) & (data['n_stage'].isna()), 'stage'] = '2B'\n",
    "data.loc[(data['t_stage'] == 0) & (data['n_stage'] == 1), 'stage'] = '3A'\n",
    "data.loc[(data['t_stage'] == 1) & (data['n_stage'] == 1), 'stage'] = '3A'\n",
    "data.loc[(data['t_stage'] == 2) & (data['n_stage'] == 1), 'stage'] = '3A'\n",
    "data.loc[(data['t_stage'] == 4) & (data['n_stage'] == 0), 'stage'] = '3B'\n",
    "data.loc[(data['t_stage'] == 3) & (data['n_stage'] == 1), 'stage'] = '3C'\n",
    "data.loc[(data['t_stage'] == 4) & (data['n_stage'] == 1), 'stage'] = '3C'\n",
    "\n",
    "\n",
    "data['stage'].value_counts(dropna=False)"
   ]
  },
  {
   "cell_type": "code",
   "execution_count": 185,
   "metadata": {},
   "outputs": [],
   "source": [
    "data.loc[(data['stage'] == '2') & (data['n_stage'] == 0) & (data['t_stage'] == 0), 'stage'] = '2A'\n",
    "data.loc[data['stage'] == 2, 'stage'] = '2A'\n",
    "data.loc[(data['stage'] == '3') & (data['n_stage'] == 0) & (data['t_stage'] == 0), 'stage'] = '3A'\n",
    "data.loc[data['stage'] == 3, 'stage'] = '3A'"
   ]
  },
  {
   "cell_type": "code",
   "execution_count": 186,
   "metadata": {},
   "outputs": [
    {
     "data": {
      "text/plain": [
       "2A     16200\n",
       "NaN    11646\n",
       "1       9489\n",
       "3A      8281\n",
       "3C      8126\n",
       "0       6457\n",
       "2B      5145\n",
       "3B      2352\n",
       "88        52\n",
       "3          7\n",
       "2          5\n",
       "Name: stage, dtype: int64"
      ]
     },
     "execution_count": 186,
     "metadata": {},
     "output_type": "execute_result"
    }
   ],
   "source": [
    "data['stage'].value_counts(dropna=False)"
   ]
  },
  {
   "cell_type": "code",
   "execution_count": 187,
   "metadata": {},
   "outputs": [
    {
     "data": {
      "text/plain": [
       "2A     20315\n",
       "1       9644\n",
       "3A      8496\n",
       "3C      8126\n",
       "NaN     7064\n",
       "0       6493\n",
       "2B      5145\n",
       "3B      2413\n",
       "88        52\n",
       "3          7\n",
       "2          5\n",
       "Name: stage, dtype: int64"
      ]
     },
     "execution_count": 187,
     "metadata": {},
     "output_type": "execute_result"
    }
   ],
   "source": [
    "data.loc[(data['stage'].isna()) & (data['t_stage'] == 4), 'stage'] = '3B'\n",
    "data.loc[(data['stage'].isna()) & (data['n_stage'] == 1), 'stage'] = '3A'\n",
    "data.loc[(data['stage'].isna()) & (data['n_stage'] == 0), 'stage'] = '2A'\n",
    "data.loc[(data['stage'].isna()) & (data['t_stage'] == 0), 'stage'] = '0'\n",
    "data.loc[(data['stage'].isna()) & (data['t_stage'] == 1), 'stage'] = '1'\n",
    "data['stage'].value_counts(dropna=False)"
   ]
  },
  {
   "cell_type": "code",
   "execution_count": 188,
   "metadata": {},
   "outputs": [
    {
     "data": {
      "text/plain": [
       "1    4\n",
       "4    1\n",
       "Name: t_stage, dtype: int64"
      ]
     },
     "execution_count": 188,
     "metadata": {},
     "output_type": "execute_result"
    }
   ],
   "source": [
    "data_2 = data.loc[data['stage'] == '2']\n",
    "data_2['t_stage'].value_counts(dropna=False)"
   ]
  },
  {
   "cell_type": "code",
   "execution_count": 189,
   "metadata": {},
   "outputs": [
    {
     "data": {
      "text/plain": [
       "NaN    5\n",
       "Name: n_stage, dtype: int64"
      ]
     },
     "execution_count": 189,
     "metadata": {},
     "output_type": "execute_result"
    }
   ],
   "source": [
    "data_2['n_stage'].value_counts(dropna=False)"
   ]
  },
  {
   "cell_type": "code",
   "execution_count": 190,
   "metadata": {},
   "outputs": [],
   "source": [
    "data.loc[(data['stage'] == '2') & (data['t_stage'] == 4), 'stage'] = '3B'\n",
    "data.loc[(data['stage'] == '2') & (data['t_stage'] == 1), 'stage'] = '1'"
   ]
  },
  {
   "cell_type": "code",
   "execution_count": 191,
   "metadata": {},
   "outputs": [
    {
     "data": {
      "text/plain": [
       "4    7\n",
       "Name: t_stage, dtype: int64"
      ]
     },
     "execution_count": 191,
     "metadata": {},
     "output_type": "execute_result"
    }
   ],
   "source": [
    "data_3 = data.loc[data['stage'] == '3']\n",
    "data_3['t_stage'].value_counts(dropna=False)"
   ]
  },
  {
   "cell_type": "code",
   "execution_count": 192,
   "metadata": {},
   "outputs": [],
   "source": [
    "data.loc[(data['stage'] == '3') & (data['t_stage'] == 4), 'stage'] = '3B'"
   ]
  },
  {
   "cell_type": "code",
   "execution_count": 193,
   "metadata": {},
   "outputs": [
    {
     "data": {
      "text/plain": [
       "NaN    7064\n",
       "Name: t_stage, dtype: int64"
      ]
     },
     "execution_count": 193,
     "metadata": {},
     "output_type": "execute_result"
    }
   ],
   "source": [
    "data_stage_null = data.loc[data['stage'].isna()]\n",
    "data_stage_null['t_stage'].value_counts(dropna=False)"
   ]
  },
  {
   "cell_type": "code",
   "execution_count": 194,
   "metadata": {},
   "outputs": [
    {
     "data": {
      "text/plain": [
       "NaN    7064\n",
       "Name: n_stage, dtype: int64"
      ]
     },
     "execution_count": 194,
     "metadata": {},
     "output_type": "execute_result"
    }
   ],
   "source": [
    "data_stage_null['n_stage'].value_counts(dropna=False)"
   ]
  },
  {
   "cell_type": "code",
   "execution_count": 195,
   "metadata": {},
   "outputs": [
    {
     "data": {
      "text/plain": [
       "0.0    6414\n",
       "1.0     650\n",
       "Name: APR, dtype: int64"
      ]
     },
     "execution_count": 195,
     "metadata": {},
     "output_type": "execute_result"
    }
   ],
   "source": [
    "data_stage_null['APR'].value_counts(dropna=False)"
   ]
  },
  {
   "cell_type": "code",
   "execution_count": 196,
   "metadata": {},
   "outputs": [],
   "source": [
    "# pd.crosstab(data_stage_null['t_stage'], data_stage_null['n_stage'])"
   ]
  },
  {
   "cell_type": "code",
   "execution_count": 197,
   "metadata": {},
   "outputs": [],
   "source": [
    "# data_stage_null.loc[(data_stage_null['t_stage'] == 0) & (data_stage_null['n_stage'] == 0), 'stage'] = '0'\n",
    "# data['stage'].update(data_stage_null['stage'])\n",
    "# data['stage'].value_counts(dropna=False)"
   ]
  },
  {
   "cell_type": "code",
   "execution_count": 198,
   "metadata": {},
   "outputs": [
    {
     "data": {
      "text/html": [
       "<div>\n",
       "<style scoped>\n",
       "    .dataframe tbody tr th:only-of-type {\n",
       "        vertical-align: middle;\n",
       "    }\n",
       "\n",
       "    .dataframe tbody tr th {\n",
       "        vertical-align: top;\n",
       "    }\n",
       "\n",
       "    .dataframe thead th {\n",
       "        text-align: right;\n",
       "    }\n",
       "</style>\n",
       "<table border=\"1\" class=\"dataframe\">\n",
       "  <thead>\n",
       "    <tr style=\"text-align: right;\">\n",
       "      <th></th>\n",
       "      <th>criteria</th>\n",
       "      <th>before</th>\n",
       "      <th>after</th>\n",
       "      <th>drop</th>\n",
       "      <th>% APR</th>\n",
       "    </tr>\n",
       "  </thead>\n",
       "  <tbody>\n",
       "    <tr>\n",
       "      <th>0</th>\n",
       "      <td>total</td>\n",
       "      <td>0</td>\n",
       "      <td>80128</td>\n",
       "      <td>0</td>\n",
       "      <td>0.064921</td>\n",
       "    </tr>\n",
       "    <tr>\n",
       "      <th>1</th>\n",
       "      <td>histology</td>\n",
       "      <td>80128</td>\n",
       "      <td>71469</td>\n",
       "      <td>8659</td>\n",
       "      <td>0.041179</td>\n",
       "    </tr>\n",
       "    <tr>\n",
       "      <th>2</th>\n",
       "      <td>stage IV</td>\n",
       "      <td>71469</td>\n",
       "      <td>67760</td>\n",
       "      <td>3709</td>\n",
       "      <td>0.042031</td>\n",
       "    </tr>\n",
       "    <tr>\n",
       "      <th>3</th>\n",
       "      <td>stage 0</td>\n",
       "      <td>67760</td>\n",
       "      <td>61267</td>\n",
       "      <td>6493</td>\n",
       "      <td>0.045620</td>\n",
       "    </tr>\n",
       "  </tbody>\n",
       "</table>\n",
       "</div>"
      ],
      "text/plain": [
       "    criteria before  after  drop     % APR\n",
       "0      total      0  80128     0  0.064921\n",
       "1  histology  80128  71469  8659  0.041179\n",
       "2   stage IV  71469  67760  3709  0.042031\n",
       "3    stage 0  67760  61267  6493  0.045620"
      ]
     },
     "execution_count": 198,
     "metadata": {},
     "output_type": "execute_result"
    }
   ],
   "source": [
    "# data.loc[data['stage'] == '<NA>', 'stage'] = np.NaN\n",
    "before = data.shape[0]\n",
    "data = data[data['stage'] != '0']\n",
    "after = data.shape[0]\n",
    "drop = before - after\n",
    "\n",
    "drop_counts = drop_counts.append({'criteria': 'stage 0', 'before': before, 'after': after, 'drop': drop, '% APR': perc_APR(data)}, ignore_index=True)\n",
    "drop_counts.head()"
   ]
  },
  {
   "cell_type": "code",
   "execution_count": 199,
   "metadata": {},
   "outputs": [
    {
     "data": {
      "text/html": [
       "<div>\n",
       "<style scoped>\n",
       "    .dataframe tbody tr th:only-of-type {\n",
       "        vertical-align: middle;\n",
       "    }\n",
       "\n",
       "    .dataframe tbody tr th {\n",
       "        vertical-align: top;\n",
       "    }\n",
       "\n",
       "    .dataframe thead th {\n",
       "        text-align: right;\n",
       "    }\n",
       "</style>\n",
       "<table border=\"1\" class=\"dataframe\">\n",
       "  <thead>\n",
       "    <tr style=\"text-align: right;\">\n",
       "      <th></th>\n",
       "      <th>criteria</th>\n",
       "      <th>before</th>\n",
       "      <th>after</th>\n",
       "      <th>drop</th>\n",
       "      <th>% APR</th>\n",
       "    </tr>\n",
       "  </thead>\n",
       "  <tbody>\n",
       "    <tr>\n",
       "      <th>0</th>\n",
       "      <td>total</td>\n",
       "      <td>0</td>\n",
       "      <td>80128</td>\n",
       "      <td>0</td>\n",
       "      <td>0.064921</td>\n",
       "    </tr>\n",
       "    <tr>\n",
       "      <th>1</th>\n",
       "      <td>histology</td>\n",
       "      <td>80128</td>\n",
       "      <td>71469</td>\n",
       "      <td>8659</td>\n",
       "      <td>0.041179</td>\n",
       "    </tr>\n",
       "    <tr>\n",
       "      <th>2</th>\n",
       "      <td>stage IV</td>\n",
       "      <td>71469</td>\n",
       "      <td>67760</td>\n",
       "      <td>3709</td>\n",
       "      <td>0.042031</td>\n",
       "    </tr>\n",
       "    <tr>\n",
       "      <th>3</th>\n",
       "      <td>stage 0</td>\n",
       "      <td>67760</td>\n",
       "      <td>61267</td>\n",
       "      <td>6493</td>\n",
       "      <td>0.045620</td>\n",
       "    </tr>\n",
       "    <tr>\n",
       "      <th>4</th>\n",
       "      <td>stage missing</td>\n",
       "      <td>61267</td>\n",
       "      <td>54151</td>\n",
       "      <td>7116</td>\n",
       "      <td>0.039538</td>\n",
       "    </tr>\n",
       "  </tbody>\n",
       "</table>\n",
       "</div>"
      ],
      "text/plain": [
       "        criteria before  after  drop     % APR\n",
       "0          total      0  80128     0  0.064921\n",
       "1      histology  80128  71469  8659  0.041179\n",
       "2       stage IV  71469  67760  3709  0.042031\n",
       "3        stage 0  67760  61267  6493  0.045620\n",
       "4  stage missing  61267  54151  7116  0.039538"
      ]
     },
     "execution_count": 199,
     "metadata": {},
     "output_type": "execute_result"
    }
   ],
   "source": [
    "data.loc[data['stage'] == '<NA>', 'stage'] = np.NaN\n",
    "before = data.shape[0]\n",
    "data.loc[data['stage'] == '88', 'stage'] = np.NaN\n",
    "data = data.dropna(subset=['stage'])\n",
    "\n",
    "after = data.shape[0]\n",
    "drop = before - after\n",
    "\n",
    "drop_counts = drop_counts.append({'criteria': 'stage missing', 'before': before, 'after': after, 'drop': drop, '% APR': perc_APR(data)}, ignore_index=True)\n",
    "drop_counts.head()\n"
   ]
  },
  {
   "cell_type": "code",
   "execution_count": 200,
   "metadata": {},
   "outputs": [
    {
     "data": {
      "text/html": [
       "<div>\n",
       "<style scoped>\n",
       "    .dataframe tbody tr th:only-of-type {\n",
       "        vertical-align: middle;\n",
       "    }\n",
       "\n",
       "    .dataframe tbody tr th {\n",
       "        vertical-align: top;\n",
       "    }\n",
       "\n",
       "    .dataframe thead th {\n",
       "        text-align: right;\n",
       "    }\n",
       "</style>\n",
       "<table border=\"1\" class=\"dataframe\">\n",
       "  <thead>\n",
       "    <tr style=\"text-align: right;\">\n",
       "      <th>APR</th>\n",
       "      <th>0.0</th>\n",
       "      <th>1.0</th>\n",
       "      <th>total</th>\n",
       "    </tr>\n",
       "    <tr>\n",
       "      <th>stage</th>\n",
       "      <th></th>\n",
       "      <th></th>\n",
       "      <th></th>\n",
       "    </tr>\n",
       "  </thead>\n",
       "  <tbody>\n",
       "    <tr>\n",
       "      <th>1</th>\n",
       "      <td>9446 (98.0%)</td>\n",
       "      <td>202 (2.0%)</td>\n",
       "      <td>9648</td>\n",
       "    </tr>\n",
       "    <tr>\n",
       "      <th>2A</th>\n",
       "      <td>19477 (96.0%)</td>\n",
       "      <td>838 (4.0%)</td>\n",
       "      <td>20315</td>\n",
       "    </tr>\n",
       "    <tr>\n",
       "      <th>2B</th>\n",
       "      <td>4813 (94.0%)</td>\n",
       "      <td>332 (6.0%)</td>\n",
       "      <td>5145</td>\n",
       "    </tr>\n",
       "    <tr>\n",
       "      <th>3A</th>\n",
       "      <td>8284 (98.0%)</td>\n",
       "      <td>212 (2.0%)</td>\n",
       "      <td>8496</td>\n",
       "    </tr>\n",
       "    <tr>\n",
       "      <th>3B</th>\n",
       "      <td>2249 (93.0%)</td>\n",
       "      <td>172 (7.000000000000001%)</td>\n",
       "      <td>2421</td>\n",
       "    </tr>\n",
       "    <tr>\n",
       "      <th>3C</th>\n",
       "      <td>7741 (95.0%)</td>\n",
       "      <td>385 (5.0%)</td>\n",
       "      <td>8126</td>\n",
       "    </tr>\n",
       "  </tbody>\n",
       "</table>\n",
       "</div>"
      ],
      "text/plain": [
       "APR              0.0                       1.0  total\n",
       "stage                                                \n",
       "1       9446 (98.0%)                202 (2.0%)   9648\n",
       "2A     19477 (96.0%)                838 (4.0%)  20315\n",
       "2B      4813 (94.0%)                332 (6.0%)   5145\n",
       "3A      8284 (98.0%)                212 (2.0%)   8496\n",
       "3B      2249 (93.0%)  172 (7.000000000000001%)   2421\n",
       "3C      7741 (95.0%)                385 (5.0%)   8126"
      ]
     },
     "execution_count": 200,
     "metadata": {},
     "output_type": "execute_result"
    }
   ],
   "source": [
    "by_stage(data, 'APR')"
   ]
  },
  {
   "cell_type": "code",
   "execution_count": 201,
   "metadata": {},
   "outputs": [],
   "source": [
    "#require 36mo of f/u for non-op patients\n",
    "data.loc[(\n",
    "            (data['APR'] == 0) &\n",
    "            (\n",
    "                (data['REASON_FOR_NO_SURGERY'] != 1) | \n",
    "                (data['REASON_FOR_NO_SURGERY'].isna()) |\n",
    "                (data['RX_SUMM_SURG_PRIM_SITE'] != 0) | \n",
    "                (data['RX_SUMM_SURG_PRIM_SITE'].isna()) |\n",
    "                (data['PALLIATIVE_CARE'] != 0) |\n",
    "                (data['PALLIATIVE_CARE'].isna()) |\n",
    "                (data['DX_LASTCONTACT_DEATH_MONTHS'] < 36) |\n",
    "                (data['DX_LASTCONTACT_DEATH_MONTHS'].isna()) |\n",
    "                (data['RX_SUMM_SURGRAD_SEQ'] != 0)) |\n",
    "                (data['RX_SUMM_SURGRAD_SEQ'].isna())\n",
    "            ), 'APR'] = np.NaN"
   ]
  },
  {
   "cell_type": "code",
   "execution_count": 202,
   "metadata": {},
   "outputs": [
    {
     "data": {
      "text/plain": [
       "NaN    32977\n",
       "0.0    19033\n",
       "1.0     2141\n",
       "Name: APR, dtype: int64"
      ]
     },
     "execution_count": 202,
     "metadata": {},
     "output_type": "execute_result"
    }
   ],
   "source": [
    "data['APR'].value_counts(dropna=False)"
   ]
  },
  {
   "cell_type": "code",
   "execution_count": 203,
   "metadata": {},
   "outputs": [
    {
     "data": {
      "text/html": [
       "<div>\n",
       "<style scoped>\n",
       "    .dataframe tbody tr th:only-of-type {\n",
       "        vertical-align: middle;\n",
       "    }\n",
       "\n",
       "    .dataframe tbody tr th {\n",
       "        vertical-align: top;\n",
       "    }\n",
       "\n",
       "    .dataframe thead th {\n",
       "        text-align: right;\n",
       "    }\n",
       "</style>\n",
       "<table border=\"1\" class=\"dataframe\">\n",
       "  <thead>\n",
       "    <tr style=\"text-align: right;\">\n",
       "      <th></th>\n",
       "      <th>counts</th>\n",
       "      <th>percent</th>\n",
       "    </tr>\n",
       "  </thead>\n",
       "  <tbody>\n",
       "    <tr>\n",
       "      <th>0.0</th>\n",
       "      <td>19033</td>\n",
       "      <td>0.898885</td>\n",
       "    </tr>\n",
       "    <tr>\n",
       "      <th>1.0</th>\n",
       "      <td>2141</td>\n",
       "      <td>0.101115</td>\n",
       "    </tr>\n",
       "  </tbody>\n",
       "</table>\n",
       "</div>"
      ],
      "text/plain": [
       "     counts   percent\n",
       "0.0   19033  0.898885\n",
       "1.0    2141  0.101115"
      ]
     },
     "execution_count": 203,
     "metadata": {},
     "output_type": "execute_result"
    }
   ],
   "source": [
    "table(data, 'APR')"
   ]
  },
  {
   "cell_type": "code",
   "execution_count": 204,
   "metadata": {},
   "outputs": [
    {
     "data": {
      "text/html": [
       "<div>\n",
       "<style scoped>\n",
       "    .dataframe tbody tr th:only-of-type {\n",
       "        vertical-align: middle;\n",
       "    }\n",
       "\n",
       "    .dataframe tbody tr th {\n",
       "        vertical-align: top;\n",
       "    }\n",
       "\n",
       "    .dataframe thead th {\n",
       "        text-align: right;\n",
       "    }\n",
       "</style>\n",
       "<table border=\"1\" class=\"dataframe\">\n",
       "  <thead>\n",
       "    <tr style=\"text-align: right;\">\n",
       "      <th></th>\n",
       "      <th>criteria</th>\n",
       "      <th>before</th>\n",
       "      <th>after</th>\n",
       "      <th>drop</th>\n",
       "      <th>% APR</th>\n",
       "    </tr>\n",
       "  </thead>\n",
       "  <tbody>\n",
       "    <tr>\n",
       "      <th>0</th>\n",
       "      <td>total</td>\n",
       "      <td>0</td>\n",
       "      <td>80128</td>\n",
       "      <td>0</td>\n",
       "      <td>0.064921</td>\n",
       "    </tr>\n",
       "    <tr>\n",
       "      <th>1</th>\n",
       "      <td>histology</td>\n",
       "      <td>80128</td>\n",
       "      <td>71469</td>\n",
       "      <td>8659</td>\n",
       "      <td>0.041179</td>\n",
       "    </tr>\n",
       "    <tr>\n",
       "      <th>2</th>\n",
       "      <td>stage IV</td>\n",
       "      <td>71469</td>\n",
       "      <td>67760</td>\n",
       "      <td>3709</td>\n",
       "      <td>0.042031</td>\n",
       "    </tr>\n",
       "    <tr>\n",
       "      <th>3</th>\n",
       "      <td>stage 0</td>\n",
       "      <td>67760</td>\n",
       "      <td>61267</td>\n",
       "      <td>6493</td>\n",
       "      <td>0.045620</td>\n",
       "    </tr>\n",
       "    <tr>\n",
       "      <th>4</th>\n",
       "      <td>stage missing</td>\n",
       "      <td>61267</td>\n",
       "      <td>54151</td>\n",
       "      <td>7116</td>\n",
       "      <td>0.039538</td>\n",
       "    </tr>\n",
       "    <tr>\n",
       "      <th>5</th>\n",
       "      <td>f/u missing</td>\n",
       "      <td>54151</td>\n",
       "      <td>21174</td>\n",
       "      <td>32977</td>\n",
       "      <td>0.101115</td>\n",
       "    </tr>\n",
       "  </tbody>\n",
       "</table>\n",
       "</div>"
      ],
      "text/plain": [
       "        criteria before  after   drop     % APR\n",
       "0          total      0  80128      0  0.064921\n",
       "1      histology  80128  71469   8659  0.041179\n",
       "2       stage IV  71469  67760   3709  0.042031\n",
       "3        stage 0  67760  61267   6493  0.045620\n",
       "4  stage missing  61267  54151   7116  0.039538\n",
       "5    f/u missing  54151  21174  32977  0.101115"
      ]
     },
     "execution_count": 204,
     "metadata": {},
     "output_type": "execute_result"
    }
   ],
   "source": [
    "before = data.shape[0]\n",
    "data = data.dropna(subset=['APR'])\n",
    "after = data.shape[0]\n",
    "drop = before - after\n",
    "drop_counts = drop_counts.append({'criteria': 'f/u missing', 'before': before, 'after': after, 'drop': drop, '% APR': perc_APR(data)}, ignore_index=True)\n",
    "drop_counts.head(10)"
   ]
  },
  {
   "cell_type": "code",
   "execution_count": 205,
   "metadata": {},
   "outputs": [
    {
     "data": {
      "text/html": [
       "<div>\n",
       "<style scoped>\n",
       "    .dataframe tbody tr th:only-of-type {\n",
       "        vertical-align: middle;\n",
       "    }\n",
       "\n",
       "    .dataframe tbody tr th {\n",
       "        vertical-align: top;\n",
       "    }\n",
       "\n",
       "    .dataframe thead th {\n",
       "        text-align: right;\n",
       "    }\n",
       "</style>\n",
       "<table border=\"1\" class=\"dataframe\">\n",
       "  <thead>\n",
       "    <tr style=\"text-align: right;\">\n",
       "      <th>APR</th>\n",
       "      <th>0.0</th>\n",
       "      <th>1.0</th>\n",
       "      <th>total</th>\n",
       "    </tr>\n",
       "    <tr>\n",
       "      <th>YEAR_OF_DIAGNOSIS</th>\n",
       "      <th></th>\n",
       "      <th></th>\n",
       "      <th></th>\n",
       "    </tr>\n",
       "  </thead>\n",
       "  <tbody>\n",
       "    <tr>\n",
       "      <th>2004</th>\n",
       "      <td>780 (90.0%)</td>\n",
       "      <td>84 (10.0%)</td>\n",
       "      <td>864</td>\n",
       "    </tr>\n",
       "    <tr>\n",
       "      <th>2005</th>\n",
       "      <td>829 (92.0%)</td>\n",
       "      <td>68 (8.0%)</td>\n",
       "      <td>897</td>\n",
       "    </tr>\n",
       "    <tr>\n",
       "      <th>2006</th>\n",
       "      <td>935 (92.0%)</td>\n",
       "      <td>77 (8.0%)</td>\n",
       "      <td>1012</td>\n",
       "    </tr>\n",
       "    <tr>\n",
       "      <th>2007</th>\n",
       "      <td>1007 (91.0%)</td>\n",
       "      <td>101 (9.0%)</td>\n",
       "      <td>1108</td>\n",
       "    </tr>\n",
       "    <tr>\n",
       "      <th>2008</th>\n",
       "      <td>1169 (90.0%)</td>\n",
       "      <td>124 (10.0%)</td>\n",
       "      <td>1293</td>\n",
       "    </tr>\n",
       "    <tr>\n",
       "      <th>2009</th>\n",
       "      <td>1266 (89.0%)</td>\n",
       "      <td>154 (11.0%)</td>\n",
       "      <td>1420</td>\n",
       "    </tr>\n",
       "    <tr>\n",
       "      <th>2010</th>\n",
       "      <td>1265 (90.0%)</td>\n",
       "      <td>148 (10.0%)</td>\n",
       "      <td>1413</td>\n",
       "    </tr>\n",
       "    <tr>\n",
       "      <th>2011</th>\n",
       "      <td>1426 (92.0%)</td>\n",
       "      <td>121 (8.0%)</td>\n",
       "      <td>1547</td>\n",
       "    </tr>\n",
       "    <tr>\n",
       "      <th>2012</th>\n",
       "      <td>1554 (91.0%)</td>\n",
       "      <td>152 (9.0%)</td>\n",
       "      <td>1706</td>\n",
       "    </tr>\n",
       "    <tr>\n",
       "      <th>2013</th>\n",
       "      <td>1664 (91.0%)</td>\n",
       "      <td>158 (9.0%)</td>\n",
       "      <td>1822</td>\n",
       "    </tr>\n",
       "    <tr>\n",
       "      <th>2014</th>\n",
       "      <td>1825 (92.0%)</td>\n",
       "      <td>155 (8.0%)</td>\n",
       "      <td>1980</td>\n",
       "    </tr>\n",
       "    <tr>\n",
       "      <th>2015</th>\n",
       "      <td>1785 (91.0%)</td>\n",
       "      <td>169 (9.0%)</td>\n",
       "      <td>1954</td>\n",
       "    </tr>\n",
       "    <tr>\n",
       "      <th>2016</th>\n",
       "      <td>1937 (93.0%)</td>\n",
       "      <td>152 (7.000000000000001%)</td>\n",
       "      <td>2089</td>\n",
       "    </tr>\n",
       "    <tr>\n",
       "      <th>2017</th>\n",
       "      <td>1400 (90.0%)</td>\n",
       "      <td>153 (10.0%)</td>\n",
       "      <td>1553</td>\n",
       "    </tr>\n",
       "    <tr>\n",
       "      <th>2018</th>\n",
       "      <td>191 (52.0%)</td>\n",
       "      <td>177 (48.0%)</td>\n",
       "      <td>368</td>\n",
       "    </tr>\n",
       "    <tr>\n",
       "      <th>2019</th>\n",
       "      <td>0 (0.0%)</td>\n",
       "      <td>148 (100.0%)</td>\n",
       "      <td>148</td>\n",
       "    </tr>\n",
       "  </tbody>\n",
       "</table>\n",
       "</div>"
      ],
      "text/plain": [
       "APR                         0.0                       1.0  total\n",
       "YEAR_OF_DIAGNOSIS                                               \n",
       "2004                780 (90.0%)                84 (10.0%)    864\n",
       "2005                829 (92.0%)                 68 (8.0%)    897\n",
       "2006                935 (92.0%)                 77 (8.0%)   1012\n",
       "2007               1007 (91.0%)                101 (9.0%)   1108\n",
       "2008               1169 (90.0%)               124 (10.0%)   1293\n",
       "2009               1266 (89.0%)               154 (11.0%)   1420\n",
       "2010               1265 (90.0%)               148 (10.0%)   1413\n",
       "2011               1426 (92.0%)                121 (8.0%)   1547\n",
       "2012               1554 (91.0%)                152 (9.0%)   1706\n",
       "2013               1664 (91.0%)                158 (9.0%)   1822\n",
       "2014               1825 (92.0%)                155 (8.0%)   1980\n",
       "2015               1785 (91.0%)                169 (9.0%)   1954\n",
       "2016               1937 (93.0%)  152 (7.000000000000001%)   2089\n",
       "2017               1400 (90.0%)               153 (10.0%)   1553\n",
       "2018                191 (52.0%)               177 (48.0%)    368\n",
       "2019                   0 (0.0%)              148 (100.0%)    148"
      ]
     },
     "execution_count": 205,
     "metadata": {},
     "output_type": "execute_result"
    }
   ],
   "source": [
    "by_year(data, 'APR')"
   ]
  },
  {
   "cell_type": "code",
   "execution_count": 46,
   "metadata": {},
   "outputs": [],
   "source": [
    "drop_counts.to_csv('results/drop_counts.csv', index=False)"
   ]
  },
  {
   "cell_type": "code",
   "execution_count": 47,
   "metadata": {},
   "outputs": [
    {
     "data": {
      "text/html": [
       "<div>\n",
       "<style scoped>\n",
       "    .dataframe tbody tr th:only-of-type {\n",
       "        vertical-align: middle;\n",
       "    }\n",
       "\n",
       "    .dataframe tbody tr th {\n",
       "        vertical-align: top;\n",
       "    }\n",
       "\n",
       "    .dataframe thead th {\n",
       "        text-align: right;\n",
       "    }\n",
       "</style>\n",
       "<table border=\"1\" class=\"dataframe\">\n",
       "  <thead>\n",
       "    <tr style=\"text-align: right;\">\n",
       "      <th>APR</th>\n",
       "      <th>0.0</th>\n",
       "      <th>1.0</th>\n",
       "      <th>total</th>\n",
       "    </tr>\n",
       "    <tr>\n",
       "      <th>stage</th>\n",
       "      <th></th>\n",
       "      <th></th>\n",
       "      <th></th>\n",
       "    </tr>\n",
       "  </thead>\n",
       "  <tbody>\n",
       "    <tr>\n",
       "      <th>1</th>\n",
       "      <td>2042 (98.0%)</td>\n",
       "      <td>38 (2.0%)</td>\n",
       "      <td>2080</td>\n",
       "    </tr>\n",
       "    <tr>\n",
       "      <th>2</th>\n",
       "      <td>3 (100.0%)</td>\n",
       "      <td>0 (0.0%)</td>\n",
       "      <td>3</td>\n",
       "    </tr>\n",
       "    <tr>\n",
       "      <th>2A</th>\n",
       "      <td>5714 (97.0%)</td>\n",
       "      <td>171 (3.0%)</td>\n",
       "      <td>5885</td>\n",
       "    </tr>\n",
       "    <tr>\n",
       "      <th>2B</th>\n",
       "      <td>1607 (93.0%)</td>\n",
       "      <td>119 (7.000000000000001%)</td>\n",
       "      <td>1726</td>\n",
       "    </tr>\n",
       "    <tr>\n",
       "      <th>3</th>\n",
       "      <td>1 (100.0%)</td>\n",
       "      <td>0 (0.0%)</td>\n",
       "      <td>1</td>\n",
       "    </tr>\n",
       "    <tr>\n",
       "      <th>3A</th>\n",
       "      <td>2976 (96.0%)</td>\n",
       "      <td>115 (4.0%)</td>\n",
       "      <td>3091</td>\n",
       "    </tr>\n",
       "    <tr>\n",
       "      <th>3B</th>\n",
       "      <td>672 (91.0%)</td>\n",
       "      <td>67 (9.0%)</td>\n",
       "      <td>739</td>\n",
       "    </tr>\n",
       "    <tr>\n",
       "      <th>3C</th>\n",
       "      <td>2482 (91.0%)</td>\n",
       "      <td>243 (9.0%)</td>\n",
       "      <td>2725</td>\n",
       "    </tr>\n",
       "  </tbody>\n",
       "</table>\n",
       "</div>"
      ],
      "text/plain": [
       "APR             0.0                       1.0  total\n",
       "stage                                               \n",
       "1      2042 (98.0%)                 38 (2.0%)   2080\n",
       "2        3 (100.0%)                  0 (0.0%)      3\n",
       "2A     5714 (97.0%)                171 (3.0%)   5885\n",
       "2B     1607 (93.0%)  119 (7.000000000000001%)   1726\n",
       "3        1 (100.0%)                  0 (0.0%)      1\n",
       "3A     2976 (96.0%)                115 (4.0%)   3091\n",
       "3B      672 (91.0%)                 67 (9.0%)    739\n",
       "3C     2482 (91.0%)                243 (9.0%)   2725"
      ]
     },
     "execution_count": 47,
     "metadata": {},
     "output_type": "execute_result"
    }
   ],
   "source": [
    "by_stage(data, 'APR')"
   ]
  },
  {
   "cell_type": "code",
   "execution_count": 48,
   "metadata": {},
   "outputs": [
    {
     "data": {
      "text/plain": [
       "<AxesSubplot:>"
      ]
     },
     "execution_count": 48,
     "metadata": {},
     "output_type": "execute_result"
    },
    {
     "data": {
      "image/png": "[encoded data removed]",
      "text/plain": [
       "<Figure size 432x288 with 1 Axes>"
      ]
     },
     "metadata": {
      "needs_background": "light"
     },
     "output_type": "display_data"
    }
   ],
   "source": [
    "data['TUMOR_SIZE'].hist()"
   ]
  },
  {
   "cell_type": "code",
   "execution_count": 49,
   "metadata": {},
   "outputs": [
    {
     "data": {
      "text/html": [
       "<div>\n",
       "<style scoped>\n",
       "    .dataframe tbody tr th:only-of-type {\n",
       "        vertical-align: middle;\n",
       "    }\n",
       "\n",
       "    .dataframe tbody tr th {\n",
       "        vertical-align: top;\n",
       "    }\n",
       "\n",
       "    .dataframe thead th {\n",
       "        text-align: right;\n",
       "    }\n",
       "</style>\n",
       "<table border=\"1\" class=\"dataframe\">\n",
       "  <thead>\n",
       "    <tr style=\"text-align: right;\">\n",
       "      <th></th>\n",
       "      <th>counts</th>\n",
       "      <th>percent</th>\n",
       "    </tr>\n",
       "  </thead>\n",
       "  <tbody>\n",
       "    <tr>\n",
       "      <th>0.0</th>\n",
       "      <td>15497</td>\n",
       "      <td>0.953662</td>\n",
       "    </tr>\n",
       "    <tr>\n",
       "      <th>1.0</th>\n",
       "      <td>753</td>\n",
       "      <td>0.046338</td>\n",
       "    </tr>\n",
       "  </tbody>\n",
       "</table>\n",
       "</div>"
      ],
      "text/plain": [
       "     counts   percent\n",
       "0.0   15497  0.953662\n",
       "1.0     753  0.046338"
      ]
     },
     "execution_count": 49,
     "metadata": {},
     "output_type": "execute_result"
    }
   ],
   "source": [
    "table(data, 'APR')"
   ]
  },
  {
   "cell_type": "code",
   "execution_count": 50,
   "metadata": {},
   "outputs": [
    {
     "data": {
      "text/plain": [
       "<AxesSubplot:>"
      ]
     },
     "execution_count": 50,
     "metadata": {},
     "output_type": "execute_result"
    },
    {
     "data": {
      "image/png": "[encoded data removed]",
      "text/plain": [
       "<Figure size 432x288 with 1 Axes>"
      ]
     },
     "metadata": {
      "needs_background": "light"
     },
     "output_type": "display_data"
    }
   ],
   "source": [
    "#if TUMOR_SIZE is missing, fill with TUMOR_SIZE_SUMMARY_2016\n",
    "data.loc[data['TUMOR_SIZE'].isnull(), 'TUMOR_SIZE'] = data.loc[data['TUMOR_SIZE'].isnull(), 'TUMOR_SIZE_SUMMARY_2016']\n",
    "data['TUMOR_SIZE'].hist()\n"
   ]
  },
  {
   "cell_type": "code",
   "execution_count": 51,
   "metadata": {},
   "outputs": [
    {
     "data": {
      "text/plain": [
       "<AxesSubplot:>"
      ]
     },
     "execution_count": 51,
     "metadata": {},
     "output_type": "execute_result"
    },
    {
     "data": {
      "image/png": "[encoded data removed]",
      "text/plain": [
       "<Figure size 432x288 with 1 Axes>"
      ]
     },
     "metadata": {
      "needs_background": "light"
     },
     "output_type": "display_data"
    }
   ],
   "source": [
    "data.loc[data['TUMOR_SIZE'] > 800, 'TUMOR_SIZE'] = np.NaN\n",
    "data['TUMOR_SIZE'].hist()\n"
   ]
  },
  {
   "cell_type": "code",
   "execution_count": 52,
   "metadata": {},
   "outputs": [
    {
     "data": {
      "text/plain": [
       "<AxesSubplot:>"
      ]
     },
     "execution_count": 52,
     "metadata": {},
     "output_type": "execute_result"
    },
    {
     "data": {
      "image/png": "[encoded data removed]",
      "text/plain": [
       "<Figure size 432x288 with 1 Axes>"
      ]
     },
     "metadata": {
      "needs_background": "light"
     },
     "output_type": "display_data"
    }
   ],
   "source": [
    "data.loc[data['TUMOR_SIZE'] > 200, 'TUMOR_SIZE'] = 200\n",
    "data['TUMOR_SIZE'].hist()"
   ]
  },
  {
   "cell_type": "code",
   "execution_count": 53,
   "metadata": {},
   "outputs": [],
   "source": [
    "data.drop('TUMOR_SIZE_SUMMARY_2016', axis=1, inplace=True)"
   ]
  },
  {
   "cell_type": "code",
   "execution_count": 54,
   "metadata": {},
   "outputs": [
    {
     "data": {
      "text/html": [
       "<div>\n",
       "<style scoped>\n",
       "    .dataframe tbody tr th:only-of-type {\n",
       "        vertical-align: middle;\n",
       "    }\n",
       "\n",
       "    .dataframe tbody tr th {\n",
       "        vertical-align: top;\n",
       "    }\n",
       "\n",
       "    .dataframe thead th {\n",
       "        text-align: right;\n",
       "    }\n",
       "</style>\n",
       "<table border=\"1\" class=\"dataframe\">\n",
       "  <thead>\n",
       "    <tr style=\"text-align: right;\">\n",
       "      <th></th>\n",
       "      <th>counts</th>\n",
       "      <th>percent</th>\n",
       "    </tr>\n",
       "  </thead>\n",
       "  <tbody>\n",
       "    <tr>\n",
       "      <th>0.0</th>\n",
       "      <td>15497</td>\n",
       "      <td>0.953662</td>\n",
       "    </tr>\n",
       "    <tr>\n",
       "      <th>1.0</th>\n",
       "      <td>753</td>\n",
       "      <td>0.046338</td>\n",
       "    </tr>\n",
       "  </tbody>\n",
       "</table>\n",
       "</div>"
      ],
      "text/plain": [
       "     counts   percent\n",
       "0.0   15497  0.953662\n",
       "1.0     753  0.046338"
      ]
     },
     "execution_count": 54,
     "metadata": {},
     "output_type": "execute_result"
    }
   ],
   "source": [
    "table(data, 'APR')"
   ]
  },
  {
   "cell_type": "code",
   "execution_count": 55,
   "metadata": {},
   "outputs": [
    {
     "data": {
      "text/html": [
       "<div>\n",
       "<style scoped>\n",
       "    .dataframe tbody tr th:only-of-type {\n",
       "        vertical-align: middle;\n",
       "    }\n",
       "\n",
       "    .dataframe tbody tr th {\n",
       "        vertical-align: top;\n",
       "    }\n",
       "\n",
       "    .dataframe thead th {\n",
       "        text-align: right;\n",
       "    }\n",
       "</style>\n",
       "<table border=\"1\" class=\"dataframe\">\n",
       "  <thead>\n",
       "    <tr style=\"text-align: right;\">\n",
       "      <th></th>\n",
       "      <th>counts</th>\n",
       "      <th>percent</th>\n",
       "    </tr>\n",
       "  </thead>\n",
       "  <tbody>\n",
       "    <tr>\n",
       "      <th>0.0</th>\n",
       "      <td>11482</td>\n",
       "      <td>0.948769</td>\n",
       "    </tr>\n",
       "    <tr>\n",
       "      <th>1.0</th>\n",
       "      <td>620</td>\n",
       "      <td>0.051231</td>\n",
       "    </tr>\n",
       "  </tbody>\n",
       "</table>\n",
       "</div>"
      ],
      "text/plain": [
       "     counts   percent\n",
       "0.0   11482  0.948769\n",
       "1.0     620  0.051231"
      ]
     },
     "execution_count": 55,
     "metadata": {},
     "output_type": "execute_result"
    }
   ],
   "source": [
    "data_tumor_size = data[data['TUMOR_SIZE'].notnull()]\n",
    "table(data_tumor_size, 'APR')"
   ]
  },
  {
   "cell_type": "code",
   "execution_count": 56,
   "metadata": {},
   "outputs": [
    {
     "data": {
      "text/plain": [
       "(16250, 43)"
      ]
     },
     "execution_count": 56,
     "metadata": {},
     "output_type": "execute_result"
    }
   ],
   "source": [
    "data.shape"
   ]
  },
  {
   "cell_type": "code",
   "execution_count": 57,
   "metadata": {},
   "outputs": [
    {
     "data": {
      "text/plain": [
       "<AxesSubplot:>"
      ]
     },
     "execution_count": 57,
     "metadata": {},
     "output_type": "execute_result"
    },
    {
     "data": {
      "image/png": "[encoded data removed]",
      "text/plain": [
       "<Figure size 432x288 with 1 Axes>"
      ]
     },
     "metadata": {
      "needs_background": "light"
     },
     "output_type": "display_data"
    }
   ],
   "source": [
    "#find the distribution of days between diagnosis and surgery\n",
    "data['DX_SURG_STARTED_DAYS'].hist(bins=50)"
   ]
  },
  {
   "cell_type": "code",
   "execution_count": 58,
   "metadata": {},
   "outputs": [
    {
     "data": {
      "text/plain": [
       "330.1"
      ]
     },
     "execution_count": 58,
     "metadata": {},
     "output_type": "execute_result"
    }
   ],
   "source": [
    "data['DX_SURG_STARTED_DAYS'].quantile(0.9)"
   ]
  },
  {
   "cell_type": "code",
   "execution_count": 59,
   "metadata": {},
   "outputs": [
    {
     "data": {
      "text/plain": [
       "<AxesSubplot:>"
      ]
     },
     "execution_count": 59,
     "metadata": {},
     "output_type": "execute_result"
    },
    {
     "data": {
      "image/png": "[encoded data removed]",
      "text/plain": [
       "<Figure size 432x288 with 1 Axes>"
      ]
     },
     "metadata": {
      "needs_background": "light"
     },
     "output_type": "display_data"
    }
   ],
   "source": [
    "data.loc[data['DX_SURG_STARTED_DAYS'] <30, 'DX_SURG_STARTED_DAYS'] = np.NaN\n",
    "data.loc[data['DX_SURG_STARTED_DAYS'] > 600, 'DX_SURG_STARTED_DAYS'] = 600\n",
    "\n",
    "data['DX_SURG_STARTED_DAYS'].hist(bins=50)"
   ]
  },
  {
   "cell_type": "code",
   "execution_count": 60,
   "metadata": {},
   "outputs": [],
   "source": [
    "data['rad_end'] = data['RAD_ELAPSED_RX_DAYS'] + data['DX_RAD_STARTED_DAYS']"
   ]
  },
  {
   "cell_type": "code",
   "execution_count": 61,
   "metadata": {},
   "outputs": [
    {
     "data": {
      "text/plain": [
       "<AxesSubplot:>"
      ]
     },
     "execution_count": 61,
     "metadata": {},
     "output_type": "execute_result"
    },
    {
     "data": {
      "image/png": "[encoded data removed]",
      "text/plain": [
       "<Figure size 432x288 with 1 Axes>"
      ]
     },
     "metadata": {
      "needs_background": "light"
     },
     "output_type": "display_data"
    }
   ],
   "source": [
    "data.loc[data['rad_end'] > 300, 'rad_end'] = 300\n",
    "data['rad_end'].hist(bins=50)"
   ]
  },
  {
   "cell_type": "code",
   "execution_count": 62,
   "metadata": {},
   "outputs": [
    {
     "data": {
      "text/plain": [
       "<AxesSubplot:>"
      ]
     },
     "execution_count": 62,
     "metadata": {},
     "output_type": "execute_result"
    },
    {
     "data": {
      "image/png": "[encoded data removed]",
      "text/plain": [
       "<Figure size 432x288 with 1 Axes>"
      ]
     },
     "metadata": {
      "needs_background": "light"
     },
     "output_type": "display_data"
    }
   ],
   "source": [
    "data['surg_rad_days'] = data['DX_SURG_STARTED_DAYS'] - data['rad_end']\n",
    "data['surg_rad_days'].hist(bins=50)"
   ]
  },
  {
   "cell_type": "code",
   "execution_count": 63,
   "metadata": {},
   "outputs": [
    {
     "data": {
      "image/png": "[encoded data removed]",
      "text/plain": [
       "<Figure size 432x288 with 1 Axes>"
      ]
     },
     "metadata": {
      "needs_background": "light"
     },
     "output_type": "display_data"
    }
   ],
   "source": [
    "data_apr = data[data['APR'] == 1]\n",
    "data_apr['surg_rad_days'].hist(bins=50)\n",
    "#save the figure\n",
    "plt.savefig('results/surg_rad_days.png', bbox_inches='tight')"
   ]
  },
  {
   "cell_type": "code",
   "execution_count": 64,
   "metadata": {},
   "outputs": [],
   "source": [
    "data.drop(columns=['surg_rad_days', 'rad_end'], inplace=True)"
   ]
  },
  {
   "cell_type": "code",
   "execution_count": null,
   "metadata": {},
   "outputs": [],
   "source": []
  },
  {
   "cell_type": "code",
   "execution_count": 65,
   "metadata": {},
   "outputs": [
    {
     "data": {
      "text/plain": [
       "<AxesSubplot:>"
      ]
     },
     "execution_count": 65,
     "metadata": {},
     "output_type": "execute_result"
    },
    {
     "data": {
      "image/png": "[encoded data removed]",
      "text/plain": [
       "<Figure size 432x288 with 1 Axes>"
      ]
     },
     "metadata": {
      "needs_background": "light"
     },
     "output_type": "display_data"
    }
   ],
   "source": [
    "data.loc[data['DX_RAD_STARTED_DAYS'] > 700, 'DX_RAD_STARTED_DAYS'] = np.NaN\n",
    "data.loc[data['DX_RAD_STARTED_DAYS'] > 125, 'DX_RAD_STARTED_DAYS'] = 125\n",
    "data['DX_RAD_STARTED_DAYS'].hist(bins=50)"
   ]
  },
  {
   "cell_type": "code",
   "execution_count": 66,
   "metadata": {},
   "outputs": [
    {
     "data": {
      "text/plain": [
       "<AxesSubplot:>"
      ]
     },
     "execution_count": 66,
     "metadata": {},
     "output_type": "execute_result"
    },
    {
     "data": {
      "image/png": "[encoded data removed]",
      "text/plain": [
       "<Figure size 432x288 with 1 Axes>"
      ]
     },
     "metadata": {
      "needs_background": "light"
     },
     "output_type": "display_data"
    }
   ],
   "source": [
    "data['RAD_ELAPSED_RX_DAYS'].hist(bins=50)"
   ]
  },
  {
   "cell_type": "code",
   "execution_count": 67,
   "metadata": {},
   "outputs": [
    {
     "data": {
      "text/plain": [
       "<AxesSubplot:>"
      ]
     },
     "execution_count": 67,
     "metadata": {},
     "output_type": "execute_result"
    },
    {
     "data": {
      "image/png": "[encoded data removed]",
      "text/plain": [
       "<Figure size 432x288 with 1 Axes>"
      ]
     },
     "metadata": {
      "needs_background": "light"
     },
     "output_type": "display_data"
    }
   ],
   "source": [
    "data.loc[data['RAD_ELAPSED_RX_DAYS'] > 700, 'RAD_ELAPSED_RX_DAYS'] = np.NaN\n",
    "data.loc[data['RAD_ELAPSED_RX_DAYS'] > 100, 'RAD_ELAPSED_RX_DAYS'] = 100\n",
    "data['RAD_ELAPSED_RX_DAYS'].hist(bins=50)"
   ]
  },
  {
   "cell_type": "code",
   "execution_count": 68,
   "metadata": {},
   "outputs": [],
   "source": [
    "rad_cols = ['RAD_LOCATION_OF_RX', 'REASON_FOR_NO_RADIATION', 'RX_SUMM_SURGRAD_SEQ']\n",
    "\n",
    "chemo_cols = ['DX_CHEMO_STARTED_DAYS', 'RX_SUMM_SYSTEMIC_SUR_SEQ']\n",
    "\n",
    "surg_cols = ['PALLIATIVE_CARE', 'DX_SURG_STARTED_DAYS', 'RX_SUMM_SURG_PRIM_SITE', 'RX_SUMM_SURGICAL_MARGINS', 'SURG_DISCHARGE_DAYS', 'READM_HOSP_30_DAYS', 'REASON_FOR_NO_SURGERY']"
   ]
  },
  {
   "cell_type": "code",
   "execution_count": 69,
   "metadata": {},
   "outputs": [],
   "source": [
    "#drop all columns related to the treatment\n",
    "for x in rad_cols:\n",
    "    try:\n",
    "        data.drop(x, axis=1, inplace=True)\n",
    "    except KeyError:\n",
    "        pass\n",
    "for x in surg_cols:\n",
    "    try:\n",
    "        data.drop(x, axis=1, inplace=True)\n",
    "    except KeyError:\n",
    "        pass\n",
    "for x in os_cols:\n",
    "    try:\n",
    "        data.drop(x, axis=1, inplace=True)\n",
    "    except KeyError:\n",
    "        pass\n",
    "for x in chemo_cols:\n",
    "    try:\n",
    "        data.drop(x, axis=1, inplace=True)\n",
    "    except KeyError:\n",
    "        pass"
   ]
  },
  {
   "cell_type": "code",
   "execution_count": 70,
   "metadata": {},
   "outputs": [
    {
     "data": {
      "text/html": [
       "<div>\n",
       "<style scoped>\n",
       "    .dataframe tbody tr th:only-of-type {\n",
       "        vertical-align: middle;\n",
       "    }\n",
       "\n",
       "    .dataframe tbody tr th {\n",
       "        vertical-align: top;\n",
       "    }\n",
       "\n",
       "    .dataframe thead th {\n",
       "        text-align: right;\n",
       "    }\n",
       "</style>\n",
       "<table border=\"1\" class=\"dataframe\">\n",
       "  <thead>\n",
       "    <tr style=\"text-align: right;\">\n",
       "      <th></th>\n",
       "      <th>0</th>\n",
       "    </tr>\n",
       "  </thead>\n",
       "  <tbody>\n",
       "    <tr>\n",
       "      <th>GRADE_CLIN</th>\n",
       "      <td>15943</td>\n",
       "    </tr>\n",
       "    <tr>\n",
       "      <th>Radiation Dose, &gt;30 Gy</th>\n",
       "      <td>9405</td>\n",
       "    </tr>\n",
       "    <tr>\n",
       "      <th>TOTAL_DOSE</th>\n",
       "      <td>9405</td>\n",
       "    </tr>\n",
       "    <tr>\n",
       "      <th>LYMPH_VASCULAR_INVASION</th>\n",
       "      <td>4712</td>\n",
       "    </tr>\n",
       "    <tr>\n",
       "      <th>TUMOR_SIZE</th>\n",
       "      <td>4148</td>\n",
       "    </tr>\n",
       "    <tr>\n",
       "      <th>RAD_ELAPSED_RX_DAYS</th>\n",
       "      <td>3683</td>\n",
       "    </tr>\n",
       "    <tr>\n",
       "      <th>MED_INC_QUAR_2016</th>\n",
       "      <td>1832</td>\n",
       "    </tr>\n",
       "    <tr>\n",
       "      <th>NO_HSD_QUAR_2016</th>\n",
       "      <td>1807</td>\n",
       "    </tr>\n",
       "    <tr>\n",
       "      <th>CROWFLY</th>\n",
       "      <td>1640</td>\n",
       "    </tr>\n",
       "    <tr>\n",
       "      <th>UR_CD_13</th>\n",
       "      <td>458</td>\n",
       "    </tr>\n",
       "    <tr>\n",
       "      <th>FACILITY_LOCATION_CD</th>\n",
       "      <td>395</td>\n",
       "    </tr>\n",
       "    <tr>\n",
       "      <th>FACILITY_TYPE_CD</th>\n",
       "      <td>395</td>\n",
       "    </tr>\n",
       "    <tr>\n",
       "      <th>GRADE</th>\n",
       "      <td>307</td>\n",
       "    </tr>\n",
       "    <tr>\n",
       "      <th>n_stage</th>\n",
       "      <td>305</td>\n",
       "    </tr>\n",
       "    <tr>\n",
       "      <th>t_stage</th>\n",
       "      <td>189</td>\n",
       "    </tr>\n",
       "    <tr>\n",
       "      <th>DX_RAD_STARTED_DAYS</th>\n",
       "      <td>178</td>\n",
       "    </tr>\n",
       "    <tr>\n",
       "      <th>RACE</th>\n",
       "      <td>105</td>\n",
       "    </tr>\n",
       "    <tr>\n",
       "      <th>stage</th>\n",
       "      <td>0</td>\n",
       "    </tr>\n",
       "    <tr>\n",
       "      <th>APR</th>\n",
       "      <td>0</td>\n",
       "    </tr>\n",
       "    <tr>\n",
       "      <th>PUF_MEDICAID_EXPN_CODE</th>\n",
       "      <td>0</td>\n",
       "    </tr>\n",
       "  </tbody>\n",
       "</table>\n",
       "</div>"
      ],
      "text/plain": [
       "                             0\n",
       "GRADE_CLIN               15943\n",
       "Radiation Dose, >30 Gy    9405\n",
       "TOTAL_DOSE                9405\n",
       "LYMPH_VASCULAR_INVASION   4712\n",
       "TUMOR_SIZE                4148\n",
       "RAD_ELAPSED_RX_DAYS       3683\n",
       "MED_INC_QUAR_2016         1832\n",
       "NO_HSD_QUAR_2016          1807\n",
       "CROWFLY                   1640\n",
       "UR_CD_13                   458\n",
       "FACILITY_LOCATION_CD       395\n",
       "FACILITY_TYPE_CD           395\n",
       "GRADE                      307\n",
       "n_stage                    305\n",
       "t_stage                    189\n",
       "DX_RAD_STARTED_DAYS        178\n",
       "RACE                       105\n",
       "stage                        0\n",
       "APR                          0\n",
       "PUF_MEDICAID_EXPN_CODE       0"
      ]
     },
     "execution_count": 70,
     "metadata": {},
     "output_type": "execute_result"
    }
   ],
   "source": [
    "#find the columns with the greatest proportion of missing values\n",
    "missing_values = data.isnull().sum()\n",
    "pd.DataFrame(missing_values.sort_values(ascending=False)).head(20)\n"
   ]
  },
  {
   "cell_type": "code",
   "execution_count": 71,
   "metadata": {},
   "outputs": [
    {
     "data": {
      "text/plain": [
       "2.0    5396\n",
       "9.0    4937\n",
       "3.0    4519\n",
       "1.0     996\n",
       "NaN     307\n",
       "4.0      95\n",
       "Name: GRADE, dtype: int64"
      ]
     },
     "execution_count": 71,
     "metadata": {},
     "output_type": "execute_result"
    }
   ],
   "source": [
    "data['GRADE'].value_counts(dropna=False)"
   ]
  },
  {
   "cell_type": "code",
   "execution_count": 72,
   "metadata": {},
   "outputs": [
    {
     "data": {
      "text/plain": [
       "2.0    5506\n",
       "9.0    4937\n",
       "3.0    4583\n",
       "1.0    1020\n",
       "9       103\n",
       "4.0      95\n",
       "H         6\n",
       "Name: GRADE, dtype: int64"
      ]
     },
     "execution_count": 72,
     "metadata": {},
     "output_type": "execute_result"
    }
   ],
   "source": [
    "data['GRADE'] = data['GRADE'].astype(str)\n",
    "data['GRADE_CLIN'] = data['GRADE_CLIN'].astype(str)\n",
    "data.loc[data['GRADE'] == 'nan', 'GRADE'] = data.loc[data['GRADE'] == 'nan', 'GRADE_CLIN']\n",
    "data.loc[data['GRADE'].str.contains('1'), 'GRADE'] = '1.0'\n",
    "data.loc[data['GRADE'].str.contains('2'), 'GRADE'] = '2.0'\n",
    "data.loc[data['GRADE'].str.contains('3'), 'GRADE'] = '3.0'\n",
    "data.loc[data['GRADE'].str.contains('4'), 'GRADE'] = '4.0'\n",
    "data['GRADE'].value_counts(dropna=False)\n"
   ]
  },
  {
   "cell_type": "code",
   "execution_count": 73,
   "metadata": {},
   "outputs": [],
   "source": [
    "drop = ['GRADE_CLIN']\n",
    "data.drop(drop, axis=1, inplace=True)"
   ]
  },
  {
   "cell_type": "code",
   "execution_count": 74,
   "metadata": {},
   "outputs": [
    {
     "data": {
      "text/plain": [
       "16"
      ]
     },
     "execution_count": 74,
     "metadata": {},
     "output_type": "execute_result"
    }
   ],
   "source": [
    "len(data['YEAR_OF_DIAGNOSIS'].unique())"
   ]
  },
  {
   "cell_type": "code",
   "execution_count": 75,
   "metadata": {},
   "outputs": [],
   "source": [
    "facility_by_year = pd.DataFrame(pd.crosstab(data['PUF_FACILITY_ID'], data['YEAR_OF_DIAGNOSIS'], margins=True))\n",
    "facility_counts = pd.DataFrame(facility_by_year['All'])\n",
    "#drop the last row, which is the total\n",
    "facility_counts.drop(facility_counts.tail(1).index, inplace=True)"
   ]
  },
  {
   "cell_type": "code",
   "execution_count": 76,
   "metadata": {},
   "outputs": [],
   "source": [
    "facility_by_year = pd.DataFrame(pd.crosstab(data['PUF_FACILITY_ID'], data['YEAR_OF_DIAGNOSIS']))\n",
    "facility_by_year['num_zero'] = 1000\n",
    "for i,row in facility_by_year.iterrows():\n",
    "    try:\n",
    "        row['num_zero'] = pd.DataFrame(facility_by_year.loc[i].value_counts()).loc[0][0]\n",
    "    except KeyError:\n",
    "        row['num_zero'] = 0"
   ]
  },
  {
   "cell_type": "code",
   "execution_count": 77,
   "metadata": {},
   "outputs": [
    {
     "data": {
      "text/html": [
       "<div>\n",
       "<style scoped>\n",
       "    .dataframe tbody tr th:only-of-type {\n",
       "        vertical-align: middle;\n",
       "    }\n",
       "\n",
       "    .dataframe tbody tr th {\n",
       "        vertical-align: top;\n",
       "    }\n",
       "\n",
       "    .dataframe thead th {\n",
       "        text-align: right;\n",
       "    }\n",
       "</style>\n",
       "<table border=\"1\" class=\"dataframe\">\n",
       "  <thead>\n",
       "    <tr style=\"text-align: right;\">\n",
       "      <th>YEAR_OF_DIAGNOSIS</th>\n",
       "      <th>2004</th>\n",
       "      <th>2005</th>\n",
       "      <th>2006</th>\n",
       "      <th>2007</th>\n",
       "      <th>2008</th>\n",
       "      <th>2009</th>\n",
       "      <th>2010</th>\n",
       "      <th>2011</th>\n",
       "      <th>2012</th>\n",
       "      <th>2013</th>\n",
       "      <th>2014</th>\n",
       "      <th>2015</th>\n",
       "      <th>2016</th>\n",
       "      <th>2017</th>\n",
       "      <th>2018</th>\n",
       "      <th>2019</th>\n",
       "      <th>num_zero</th>\n",
       "    </tr>\n",
       "    <tr>\n",
       "      <th>PUF_FACILITY_ID</th>\n",
       "      <th></th>\n",
       "      <th></th>\n",
       "      <th></th>\n",
       "      <th></th>\n",
       "      <th></th>\n",
       "      <th></th>\n",
       "      <th></th>\n",
       "      <th></th>\n",
       "      <th></th>\n",
       "      <th></th>\n",
       "      <th></th>\n",
       "      <th></th>\n",
       "      <th></th>\n",
       "      <th></th>\n",
       "      <th></th>\n",
       "      <th></th>\n",
       "      <th></th>\n",
       "    </tr>\n",
       "  </thead>\n",
       "  <tbody>\n",
       "    <tr>\n",
       "      <th>ABZFZYJZCA</th>\n",
       "      <td>0</td>\n",
       "      <td>0</td>\n",
       "      <td>0</td>\n",
       "      <td>0</td>\n",
       "      <td>0</td>\n",
       "      <td>1</td>\n",
       "      <td>0</td>\n",
       "      <td>0</td>\n",
       "      <td>0</td>\n",
       "      <td>0</td>\n",
       "      <td>0</td>\n",
       "      <td>0</td>\n",
       "      <td>0</td>\n",
       "      <td>1</td>\n",
       "      <td>0</td>\n",
       "      <td>0</td>\n",
       "      <td>2</td>\n",
       "    </tr>\n",
       "    <tr>\n",
       "      <th>ADSHBUUWZC</th>\n",
       "      <td>0</td>\n",
       "      <td>0</td>\n",
       "      <td>1</td>\n",
       "      <td>0</td>\n",
       "      <td>1</td>\n",
       "      <td>1</td>\n",
       "      <td>2</td>\n",
       "      <td>2</td>\n",
       "      <td>1</td>\n",
       "      <td>2</td>\n",
       "      <td>0</td>\n",
       "      <td>0</td>\n",
       "      <td>1</td>\n",
       "      <td>0</td>\n",
       "      <td>0</td>\n",
       "      <td>0</td>\n",
       "      <td>8</td>\n",
       "    </tr>\n",
       "    <tr>\n",
       "      <th>ADXGCKXJNR</th>\n",
       "      <td>0</td>\n",
       "      <td>0</td>\n",
       "      <td>0</td>\n",
       "      <td>0</td>\n",
       "      <td>0</td>\n",
       "      <td>0</td>\n",
       "      <td>0</td>\n",
       "      <td>4</td>\n",
       "      <td>2</td>\n",
       "      <td>5</td>\n",
       "      <td>3</td>\n",
       "      <td>2</td>\n",
       "      <td>1</td>\n",
       "      <td>4</td>\n",
       "      <td>0</td>\n",
       "      <td>0</td>\n",
       "      <td>7</td>\n",
       "    </tr>\n",
       "    <tr>\n",
       "      <th>ADXQMZWWTZ</th>\n",
       "      <td>0</td>\n",
       "      <td>1</td>\n",
       "      <td>1</td>\n",
       "      <td>1</td>\n",
       "      <td>1</td>\n",
       "      <td>1</td>\n",
       "      <td>2</td>\n",
       "      <td>0</td>\n",
       "      <td>0</td>\n",
       "      <td>3</td>\n",
       "      <td>1</td>\n",
       "      <td>0</td>\n",
       "      <td>0</td>\n",
       "      <td>0</td>\n",
       "      <td>1</td>\n",
       "      <td>0</td>\n",
       "      <td>9</td>\n",
       "    </tr>\n",
       "    <tr>\n",
       "      <th>AEFZNJSMJI</th>\n",
       "      <td>1</td>\n",
       "      <td>0</td>\n",
       "      <td>0</td>\n",
       "      <td>0</td>\n",
       "      <td>0</td>\n",
       "      <td>1</td>\n",
       "      <td>0</td>\n",
       "      <td>2</td>\n",
       "      <td>0</td>\n",
       "      <td>0</td>\n",
       "      <td>0</td>\n",
       "      <td>0</td>\n",
       "      <td>0</td>\n",
       "      <td>0</td>\n",
       "      <td>0</td>\n",
       "      <td>0</td>\n",
       "      <td>3</td>\n",
       "    </tr>\n",
       "  </tbody>\n",
       "</table>\n",
       "</div>"
      ],
      "text/plain": [
       "YEAR_OF_DIAGNOSIS  2004  2005  2006  2007  2008  2009  2010  2011  2012  2013  \\\n",
       "PUF_FACILITY_ID                                                                 \n",
       "ABZFZYJZCA            0     0     0     0     0     1     0     0     0     0   \n",
       "ADSHBUUWZC            0     0     1     0     1     1     2     2     1     2   \n",
       "ADXGCKXJNR            0     0     0     0     0     0     0     4     2     5   \n",
       "ADXQMZWWTZ            0     1     1     1     1     1     2     0     0     3   \n",
       "AEFZNJSMJI            1     0     0     0     0     1     0     2     0     0   \n",
       "\n",
       "YEAR_OF_DIAGNOSIS  2014  2015  2016  2017  2018  2019  num_zero  \n",
       "PUF_FACILITY_ID                                                  \n",
       "ABZFZYJZCA            0     0     0     1     0     0         2  \n",
       "ADSHBUUWZC            0     0     1     0     0     0         8  \n",
       "ADXGCKXJNR            3     2     1     4     0     0         7  \n",
       "ADXQMZWWTZ            1     0     0     0     1     0         9  \n",
       "AEFZNJSMJI            0     0     0     0     0     0         3  "
      ]
     },
     "execution_count": 77,
     "metadata": {},
     "output_type": "execute_result"
    }
   ],
   "source": [
    "facility_by_year['num_zero'] = 16 - facility_by_year['num_zero']\n",
    "\n",
    "facility_by_year.head()"
   ]
  },
  {
   "cell_type": "code",
   "execution_count": 78,
   "metadata": {},
   "outputs": [
    {
     "data": {
      "text/html": [
       "<div>\n",
       "<style scoped>\n",
       "    .dataframe tbody tr th:only-of-type {\n",
       "        vertical-align: middle;\n",
       "    }\n",
       "\n",
       "    .dataframe tbody tr th {\n",
       "        vertical-align: top;\n",
       "    }\n",
       "\n",
       "    .dataframe thead th {\n",
       "        text-align: right;\n",
       "    }\n",
       "</style>\n",
       "<table border=\"1\" class=\"dataframe\">\n",
       "  <thead>\n",
       "    <tr style=\"text-align: right;\">\n",
       "      <th></th>\n",
       "      <th>All</th>\n",
       "      <th>num_zero</th>\n",
       "    </tr>\n",
       "    <tr>\n",
       "      <th>PUF_FACILITY_ID</th>\n",
       "      <th></th>\n",
       "      <th></th>\n",
       "    </tr>\n",
       "  </thead>\n",
       "  <tbody>\n",
       "    <tr>\n",
       "      <th>ABZFZYJZCA</th>\n",
       "      <td>2</td>\n",
       "      <td>2</td>\n",
       "    </tr>\n",
       "    <tr>\n",
       "      <th>ADSHBUUWZC</th>\n",
       "      <td>11</td>\n",
       "      <td>8</td>\n",
       "    </tr>\n",
       "    <tr>\n",
       "      <th>ADXGCKXJNR</th>\n",
       "      <td>21</td>\n",
       "      <td>7</td>\n",
       "    </tr>\n",
       "    <tr>\n",
       "      <th>ADXQMZWWTZ</th>\n",
       "      <td>12</td>\n",
       "      <td>9</td>\n",
       "    </tr>\n",
       "    <tr>\n",
       "      <th>AEFZNJSMJI</th>\n",
       "      <td>4</td>\n",
       "      <td>3</td>\n",
       "    </tr>\n",
       "  </tbody>\n",
       "</table>\n",
       "</div>"
      ],
      "text/plain": [
       "                 All  num_zero\n",
       "PUF_FACILITY_ID               \n",
       "ABZFZYJZCA         2         2\n",
       "ADSHBUUWZC        11         8\n",
       "ADXGCKXJNR        21         7\n",
       "ADXQMZWWTZ        12         9\n",
       "AEFZNJSMJI         4         3"
      ]
     },
     "execution_count": 78,
     "metadata": {},
     "output_type": "execute_result"
    }
   ],
   "source": [
    "facility_counts['num_zero'] = facility_by_year['num_zero']\n",
    "facility_counts.head()"
   ]
  },
  {
   "cell_type": "code",
   "execution_count": 79,
   "metadata": {},
   "outputs": [
    {
     "data": {
      "text/html": [
       "<div>\n",
       "<style scoped>\n",
       "    .dataframe tbody tr th:only-of-type {\n",
       "        vertical-align: middle;\n",
       "    }\n",
       "\n",
       "    .dataframe tbody tr th {\n",
       "        vertical-align: top;\n",
       "    }\n",
       "\n",
       "    .dataframe thead th {\n",
       "        text-align: right;\n",
       "    }\n",
       "</style>\n",
       "<table border=\"1\" class=\"dataframe\">\n",
       "  <thead>\n",
       "    <tr style=\"text-align: right;\">\n",
       "      <th></th>\n",
       "      <th>All</th>\n",
       "      <th>num_zero</th>\n",
       "      <th>norm</th>\n",
       "    </tr>\n",
       "    <tr>\n",
       "      <th>PUF_FACILITY_ID</th>\n",
       "      <th></th>\n",
       "      <th></th>\n",
       "      <th></th>\n",
       "    </tr>\n",
       "  </thead>\n",
       "  <tbody>\n",
       "    <tr>\n",
       "      <th>ABZFZYJZCA</th>\n",
       "      <td>2</td>\n",
       "      <td>2</td>\n",
       "      <td>1.000000</td>\n",
       "    </tr>\n",
       "    <tr>\n",
       "      <th>ADSHBUUWZC</th>\n",
       "      <td>11</td>\n",
       "      <td>8</td>\n",
       "      <td>1.375000</td>\n",
       "    </tr>\n",
       "    <tr>\n",
       "      <th>ADXGCKXJNR</th>\n",
       "      <td>21</td>\n",
       "      <td>7</td>\n",
       "      <td>3.000000</td>\n",
       "    </tr>\n",
       "    <tr>\n",
       "      <th>ADXQMZWWTZ</th>\n",
       "      <td>12</td>\n",
       "      <td>9</td>\n",
       "      <td>1.333333</td>\n",
       "    </tr>\n",
       "    <tr>\n",
       "      <th>AEFZNJSMJI</th>\n",
       "      <td>4</td>\n",
       "      <td>3</td>\n",
       "      <td>1.333333</td>\n",
       "    </tr>\n",
       "  </tbody>\n",
       "</table>\n",
       "</div>"
      ],
      "text/plain": [
       "                 All  num_zero      norm\n",
       "PUF_FACILITY_ID                         \n",
       "ABZFZYJZCA         2         2  1.000000\n",
       "ADSHBUUWZC        11         8  1.375000\n",
       "ADXGCKXJNR        21         7  3.000000\n",
       "ADXQMZWWTZ        12         9  1.333333\n",
       "AEFZNJSMJI         4         3  1.333333"
      ]
     },
     "execution_count": 79,
     "metadata": {},
     "output_type": "execute_result"
    }
   ],
   "source": [
    "facility_counts['norm'] = facility_counts['All'] / facility_counts['num_zero']\n",
    "facility_counts.head()"
   ]
  },
  {
   "cell_type": "code",
   "execution_count": 80,
   "metadata": {},
   "outputs": [
    {
     "data": {
      "text/plain": [
       "count    1207.000000\n",
       "mean        1.709905\n",
       "std         0.943444\n",
       "min         1.000000\n",
       "25%         1.125000\n",
       "50%         1.461538\n",
       "75%         1.964286\n",
       "max        14.416667\n",
       "Name: norm, dtype: float64"
      ]
     },
     "execution_count": 80,
     "metadata": {},
     "output_type": "execute_result"
    }
   ],
   "source": [
    "facility_counts['norm'].describe()"
   ]
  },
  {
   "cell_type": "code",
   "execution_count": 81,
   "metadata": {},
   "outputs": [
    {
     "data": {
      "text/plain": [
       "1207"
      ]
     },
     "execution_count": 81,
     "metadata": {},
     "output_type": "execute_result"
    }
   ],
   "source": [
    "fac_ids = facility_counts.index.to_list()\n",
    "len(fac_ids)"
   ]
  },
  {
   "cell_type": "code",
   "execution_count": 82,
   "metadata": {},
   "outputs": [
    {
     "data": {
      "text/plain": [
       "4.0    4486\n",
       "3.0    4105\n",
       "1.0    3949\n",
       "2.0    3710\n",
       "Name: facs_quart_norm, dtype: int64"
      ]
     },
     "execution_count": 82,
     "metadata": {},
     "output_type": "execute_result"
    }
   ],
   "source": [
    "fac_ids1 = fac_ids[:len(fac_ids)//4]\n",
    "fac_ids2 = fac_ids[(len(fac_ids)//4):((len(fac_ids)//4)*2)]\n",
    "fac_ids3 = fac_ids[((len(fac_ids)//4) * 2):((len(fac_ids)//4)*3)]\n",
    "fac_ids4 = fac_ids[((len(fac_ids)//4) * 3):]\n",
    "\n",
    "data['facs_quart_norm'] = np.NaN\n",
    "data.loc[data['PUF_FACILITY_ID'].isin(fac_ids1), 'facs_quart_norm'] = 1\n",
    "data.loc[data['PUF_FACILITY_ID'].isin(fac_ids2), 'facs_quart_norm'] = 2\n",
    "data.loc[data['PUF_FACILITY_ID'].isin(fac_ids3), 'facs_quart_norm'] = 3\n",
    "data.loc[data['PUF_FACILITY_ID'].isin(fac_ids4), 'facs_quart_norm'] = 4\n",
    "data['facs_quart_norm'].value_counts(dropna=False)"
   ]
  },
  {
   "cell_type": "code",
   "execution_count": 83,
   "metadata": {},
   "outputs": [
    {
     "data": {
      "text/plain": [
       "1207"
      ]
     },
     "execution_count": 83,
     "metadata": {},
     "output_type": "execute_result"
    }
   ],
   "source": [
    "facs = pd.DataFrame(data['PUF_FACILITY_ID'].value_counts()).index.to_list()\n",
    "len(facs)"
   ]
  },
  {
   "cell_type": "code",
   "execution_count": 84,
   "metadata": {},
   "outputs": [
    {
     "data": {
      "text/plain": [
       "1.0    9772\n",
       "2.0    3837\n",
       "3.0    1943\n",
       "4.0     698\n",
       "Name: facs_quart, dtype: int64"
      ]
     },
     "execution_count": 84,
     "metadata": {},
     "output_type": "execute_result"
    }
   ],
   "source": [
    "facs1 = facs[:len(facs)//4]\n",
    "facs2 = facs[(len(facs)//4):((len(facs)//4)*2)]\n",
    "facs3 = facs[((len(facs)//4) * 2):((len(facs)//4)*3)]\n",
    "facs4 = facs[((len(facs)//4) * 3):]\n",
    "\n",
    "data['facs_quart'] = np.NaN\n",
    "data.loc[data['PUF_FACILITY_ID'].isin(facs1), 'facs_quart'] = 1\n",
    "data.loc[data['PUF_FACILITY_ID'].isin(facs2), 'facs_quart'] = 2\n",
    "data.loc[data['PUF_FACILITY_ID'].isin(facs3), 'facs_quart'] = 3\n",
    "data.loc[data['PUF_FACILITY_ID'].isin(facs4), 'facs_quart'] = 4\n",
    "data['facs_quart'].value_counts(dropna=False)"
   ]
  },
  {
   "cell_type": "code",
   "execution_count": 85,
   "metadata": {},
   "outputs": [
    {
     "name": "stdout",
     "output_type": "stream",
     "text": [
      "0.023576675280162468 -0.007743424600213395\n"
     ]
    }
   ],
   "source": [
    "corr = data['facs_quart'].corr(data['APR'])\n",
    "corr_norm = data['facs_quart_norm'].corr(data['APR'])\n",
    "print(corr, corr_norm)"
   ]
  },
  {
   "cell_type": "code",
   "execution_count": 86,
   "metadata": {},
   "outputs": [],
   "source": [
    "data.drop(['facs_quart_norm'], axis=1, inplace=True)"
   ]
  },
  {
   "cell_type": "code",
   "execution_count": 87,
   "metadata": {},
   "outputs": [],
   "source": [
    "data.drop('PUF_FACILITY_ID', axis=1, inplace=True)"
   ]
  },
  {
   "cell_type": "code",
   "execution_count": 88,
   "metadata": {},
   "outputs": [
    {
     "data": {
      "text/plain": [
       "['PUF_CASE_ID', 'GRADE', 'stage', 't_stage', 'n_stage', 'm_stage']"
      ]
     },
     "execution_count": 88,
     "metadata": {},
     "output_type": "execute_result"
    }
   ],
   "source": [
    "#find columns with data type object\n",
    "cat_cols = data.select_dtypes(include=['object']).columns.to_list()\n",
    "cat_cols"
   ]
  },
  {
   "cell_type": "code",
   "execution_count": 89,
   "metadata": {},
   "outputs": [],
   "source": [
    "data.set_index('PUF_CASE_ID', inplace=True)"
   ]
  },
  {
   "cell_type": "code",
   "execution_count": 90,
   "metadata": {},
   "outputs": [
    {
     "data": {
      "text/html": [
       "<div>\n",
       "<style scoped>\n",
       "    .dataframe tbody tr th:only-of-type {\n",
       "        vertical-align: middle;\n",
       "    }\n",
       "\n",
       "    .dataframe tbody tr th {\n",
       "        vertical-align: top;\n",
       "    }\n",
       "\n",
       "    .dataframe thead th {\n",
       "        text-align: right;\n",
       "    }\n",
       "</style>\n",
       "<table border=\"1\" class=\"dataframe\">\n",
       "  <thead>\n",
       "    <tr style=\"text-align: right;\">\n",
       "      <th></th>\n",
       "      <th>FACILITY_TYPE_CD</th>\n",
       "      <th>FACILITY_LOCATION_CD</th>\n",
       "      <th>AGE</th>\n",
       "      <th>SEX</th>\n",
       "      <th>RACE</th>\n",
       "      <th>SPANISH_HISPANIC_ORIGIN</th>\n",
       "      <th>INSURANCE_STATUS</th>\n",
       "      <th>UR_CD_13</th>\n",
       "      <th>CROWFLY</th>\n",
       "      <th>CDCC_TOTAL_BEST</th>\n",
       "      <th>...</th>\n",
       "      <th>MED_INC_QUAR_2016</th>\n",
       "      <th>PUF_MEDICAID_EXPN_CODE</th>\n",
       "      <th>TOTAL_DOSE</th>\n",
       "      <th>APR</th>\n",
       "      <th>Radiation Dose, &gt;30 Gy</th>\n",
       "      <th>stage</th>\n",
       "      <th>t_stage</th>\n",
       "      <th>n_stage</th>\n",
       "      <th>m_stage</th>\n",
       "      <th>facs_quart</th>\n",
       "    </tr>\n",
       "    <tr>\n",
       "      <th>PUF_CASE_ID</th>\n",
       "      <th></th>\n",
       "      <th></th>\n",
       "      <th></th>\n",
       "      <th></th>\n",
       "      <th></th>\n",
       "      <th></th>\n",
       "      <th></th>\n",
       "      <th></th>\n",
       "      <th></th>\n",
       "      <th></th>\n",
       "      <th></th>\n",
       "      <th></th>\n",
       "      <th></th>\n",
       "      <th></th>\n",
       "      <th></th>\n",
       "      <th></th>\n",
       "      <th></th>\n",
       "      <th></th>\n",
       "      <th></th>\n",
       "      <th></th>\n",
       "      <th></th>\n",
       "    </tr>\n",
       "  </thead>\n",
       "  <tbody>\n",
       "    <tr>\n",
       "      <th>D66f458f9-bdc0-4c95-94a3-a5f8c5bb74f9</th>\n",
       "      <td>3.0</td>\n",
       "      <td>5.0</td>\n",
       "      <td>52</td>\n",
       "      <td>2</td>\n",
       "      <td>1.0</td>\n",
       "      <td>0</td>\n",
       "      <td>0</td>\n",
       "      <td>2.0</td>\n",
       "      <td>3.6</td>\n",
       "      <td>0</td>\n",
       "      <td>...</td>\n",
       "      <td>1.0</td>\n",
       "      <td>0</td>\n",
       "      <td>0.0</td>\n",
       "      <td>0.0</td>\n",
       "      <td>0.0</td>\n",
       "      <td>2A</td>\n",
       "      <td>2</td>\n",
       "      <td>0</td>\n",
       "      <td>0</td>\n",
       "      <td>1.0</td>\n",
       "    </tr>\n",
       "    <tr>\n",
       "      <th>Dfc68ea23-71aa-4b0d-87c0-587b4ce13d04</th>\n",
       "      <td>3.0</td>\n",
       "      <td>9.0</td>\n",
       "      <td>49</td>\n",
       "      <td>2</td>\n",
       "      <td>1.0</td>\n",
       "      <td>0</td>\n",
       "      <td>1</td>\n",
       "      <td>1.0</td>\n",
       "      <td>11.4</td>\n",
       "      <td>0</td>\n",
       "      <td>...</td>\n",
       "      <td>3.0</td>\n",
       "      <td>2</td>\n",
       "      <td>NaN</td>\n",
       "      <td>0.0</td>\n",
       "      <td>NaN</td>\n",
       "      <td>3A</td>\n",
       "      <td>2</td>\n",
       "      <td>1</td>\n",
       "      <td>0</td>\n",
       "      <td>1.0</td>\n",
       "    </tr>\n",
       "    <tr>\n",
       "      <th>D6a94c44a-86b9-4b34-8f6b-bcc0da65cc59</th>\n",
       "      <td>4.0</td>\n",
       "      <td>9.0</td>\n",
       "      <td>53</td>\n",
       "      <td>2</td>\n",
       "      <td>1.0</td>\n",
       "      <td>0</td>\n",
       "      <td>3</td>\n",
       "      <td>5.0</td>\n",
       "      <td>NaN</td>\n",
       "      <td>3</td>\n",
       "      <td>...</td>\n",
       "      <td>NaN</td>\n",
       "      <td>2</td>\n",
       "      <td>NaN</td>\n",
       "      <td>0.0</td>\n",
       "      <td>NaN</td>\n",
       "      <td>2B</td>\n",
       "      <td>3</td>\n",
       "      <td>0</td>\n",
       "      <td>0</td>\n",
       "      <td>1.0</td>\n",
       "    </tr>\n",
       "    <tr>\n",
       "      <th>D9733f795-06f9-44bd-a94c-cfff0110c969</th>\n",
       "      <td>1.0</td>\n",
       "      <td>7.0</td>\n",
       "      <td>53</td>\n",
       "      <td>2</td>\n",
       "      <td>1.0</td>\n",
       "      <td>0</td>\n",
       "      <td>1</td>\n",
       "      <td>3.0</td>\n",
       "      <td>3.9</td>\n",
       "      <td>0</td>\n",
       "      <td>...</td>\n",
       "      <td>3.0</td>\n",
       "      <td>3</td>\n",
       "      <td>5400.0</td>\n",
       "      <td>0.0</td>\n",
       "      <td>1.0</td>\n",
       "      <td>3C</td>\n",
       "      <td>3</td>\n",
       "      <td>1</td>\n",
       "      <td>0</td>\n",
       "      <td>4.0</td>\n",
       "    </tr>\n",
       "    <tr>\n",
       "      <th>D8b728962-841e-4e24-85b4-edd6b2ea6c94</th>\n",
       "      <td>1.0</td>\n",
       "      <td>9.0</td>\n",
       "      <td>46</td>\n",
       "      <td>1</td>\n",
       "      <td>1.0</td>\n",
       "      <td>0</td>\n",
       "      <td>1</td>\n",
       "      <td>1.0</td>\n",
       "      <td>19.8</td>\n",
       "      <td>0</td>\n",
       "      <td>...</td>\n",
       "      <td>4.0</td>\n",
       "      <td>2</td>\n",
       "      <td>NaN</td>\n",
       "      <td>0.0</td>\n",
       "      <td>NaN</td>\n",
       "      <td>3A</td>\n",
       "      <td>1</td>\n",
       "      <td>1</td>\n",
       "      <td>0</td>\n",
       "      <td>2.0</td>\n",
       "    </tr>\n",
       "  </tbody>\n",
       "</table>\n",
       "<p>5 rows × 28 columns</p>\n",
       "</div>"
      ],
      "text/plain": [
       "                                       FACILITY_TYPE_CD  FACILITY_LOCATION_CD  \\\n",
       "PUF_CASE_ID                                                                     \n",
       "D66f458f9-bdc0-4c95-94a3-a5f8c5bb74f9               3.0                   5.0   \n",
       "Dfc68ea23-71aa-4b0d-87c0-587b4ce13d04               3.0                   9.0   \n",
       "D6a94c44a-86b9-4b34-8f6b-bcc0da65cc59               4.0                   9.0   \n",
       "D9733f795-06f9-44bd-a94c-cfff0110c969               1.0                   7.0   \n",
       "D8b728962-841e-4e24-85b4-edd6b2ea6c94               1.0                   9.0   \n",
       "\n",
       "                                       AGE  SEX  RACE  \\\n",
       "PUF_CASE_ID                                             \n",
       "D66f458f9-bdc0-4c95-94a3-a5f8c5bb74f9   52    2   1.0   \n",
       "Dfc68ea23-71aa-4b0d-87c0-587b4ce13d04   49    2   1.0   \n",
       "D6a94c44a-86b9-4b34-8f6b-bcc0da65cc59   53    2   1.0   \n",
       "D9733f795-06f9-44bd-a94c-cfff0110c969   53    2   1.0   \n",
       "D8b728962-841e-4e24-85b4-edd6b2ea6c94   46    1   1.0   \n",
       "\n",
       "                                       SPANISH_HISPANIC_ORIGIN  \\\n",
       "PUF_CASE_ID                                                      \n",
       "D66f458f9-bdc0-4c95-94a3-a5f8c5bb74f9                        0   \n",
       "Dfc68ea23-71aa-4b0d-87c0-587b4ce13d04                        0   \n",
       "D6a94c44a-86b9-4b34-8f6b-bcc0da65cc59                        0   \n",
       "D9733f795-06f9-44bd-a94c-cfff0110c969                        0   \n",
       "D8b728962-841e-4e24-85b4-edd6b2ea6c94                        0   \n",
       "\n",
       "                                       INSURANCE_STATUS  UR_CD_13  CROWFLY  \\\n",
       "PUF_CASE_ID                                                                  \n",
       "D66f458f9-bdc0-4c95-94a3-a5f8c5bb74f9                 0       2.0      3.6   \n",
       "Dfc68ea23-71aa-4b0d-87c0-587b4ce13d04                 1       1.0     11.4   \n",
       "D6a94c44a-86b9-4b34-8f6b-bcc0da65cc59                 3       5.0      NaN   \n",
       "D9733f795-06f9-44bd-a94c-cfff0110c969                 1       3.0      3.9   \n",
       "D8b728962-841e-4e24-85b4-edd6b2ea6c94                 1       1.0     19.8   \n",
       "\n",
       "                                       CDCC_TOTAL_BEST  ...  \\\n",
       "PUF_CASE_ID                                             ...   \n",
       "D66f458f9-bdc0-4c95-94a3-a5f8c5bb74f9                0  ...   \n",
       "Dfc68ea23-71aa-4b0d-87c0-587b4ce13d04                0  ...   \n",
       "D6a94c44a-86b9-4b34-8f6b-bcc0da65cc59                3  ...   \n",
       "D9733f795-06f9-44bd-a94c-cfff0110c969                0  ...   \n",
       "D8b728962-841e-4e24-85b4-edd6b2ea6c94                0  ...   \n",
       "\n",
       "                                       MED_INC_QUAR_2016  \\\n",
       "PUF_CASE_ID                                                \n",
       "D66f458f9-bdc0-4c95-94a3-a5f8c5bb74f9                1.0   \n",
       "Dfc68ea23-71aa-4b0d-87c0-587b4ce13d04                3.0   \n",
       "D6a94c44a-86b9-4b34-8f6b-bcc0da65cc59                NaN   \n",
       "D9733f795-06f9-44bd-a94c-cfff0110c969                3.0   \n",
       "D8b728962-841e-4e24-85b4-edd6b2ea6c94                4.0   \n",
       "\n",
       "                                       PUF_MEDICAID_EXPN_CODE TOTAL_DOSE  APR  \\\n",
       "PUF_CASE_ID                                                                     \n",
       "D66f458f9-bdc0-4c95-94a3-a5f8c5bb74f9                       0        0.0  0.0   \n",
       "Dfc68ea23-71aa-4b0d-87c0-587b4ce13d04                       2        NaN  0.0   \n",
       "D6a94c44a-86b9-4b34-8f6b-bcc0da65cc59                       2        NaN  0.0   \n",
       "D9733f795-06f9-44bd-a94c-cfff0110c969                       3     5400.0  0.0   \n",
       "D8b728962-841e-4e24-85b4-edd6b2ea6c94                       2        NaN  0.0   \n",
       "\n",
       "                                       Radiation Dose, >30 Gy  stage  t_stage  \\\n",
       "PUF_CASE_ID                                                                     \n",
       "D66f458f9-bdc0-4c95-94a3-a5f8c5bb74f9                     0.0     2A        2   \n",
       "Dfc68ea23-71aa-4b0d-87c0-587b4ce13d04                     NaN     3A        2   \n",
       "D6a94c44a-86b9-4b34-8f6b-bcc0da65cc59                     NaN     2B        3   \n",
       "D9733f795-06f9-44bd-a94c-cfff0110c969                     1.0     3C        3   \n",
       "D8b728962-841e-4e24-85b4-edd6b2ea6c94                     NaN     3A        1   \n",
       "\n",
       "                                       n_stage  m_stage  facs_quart  \n",
       "PUF_CASE_ID                                                          \n",
       "D66f458f9-bdc0-4c95-94a3-a5f8c5bb74f9        0        0         1.0  \n",
       "Dfc68ea23-71aa-4b0d-87c0-587b4ce13d04        1        0         1.0  \n",
       "D6a94c44a-86b9-4b34-8f6b-bcc0da65cc59        0        0         1.0  \n",
       "D9733f795-06f9-44bd-a94c-cfff0110c969        1        0         4.0  \n",
       "D8b728962-841e-4e24-85b4-edd6b2ea6c94        1        0         2.0  \n",
       "\n",
       "[5 rows x 28 columns]"
      ]
     },
     "execution_count": 90,
     "metadata": {},
     "output_type": "execute_result"
    }
   ],
   "source": [
    "cat_cols.remove('PUF_CASE_ID')\n",
    "data.head()"
   ]
  },
  {
   "cell_type": "code",
   "execution_count": 91,
   "metadata": {},
   "outputs": [
    {
     "data": {
      "text/plain": [
       "(16250, 28)"
      ]
     },
     "execution_count": 91,
     "metadata": {},
     "output_type": "execute_result"
    }
   ],
   "source": [
    "data.shape"
   ]
  },
  {
   "cell_type": "code",
   "execution_count": 92,
   "metadata": {},
   "outputs": [],
   "source": [
    "data.to_csv('data/table1_data.csv', index_label='Case Key')\n"
   ]
  },
  {
   "cell_type": "code",
   "execution_count": null,
   "metadata": {},
   "outputs": [],
   "source": []
  }
 ],
 "metadata": {
  "interpreter": {
   "hash": "916dbcbb3f70747c44a77c7bcd40155683ae19c65e1c03b4aa3499c5328201f1"
  },
  "kernelspec": {
   "display_name": "Python 3.8.10 64-bit",
   "language": "python",
   "name": "python3"
  },
  "language_info": {
   "codemirror_mode": {
    "name": "ipython",
    "version": 3
   },
   "file_extension": ".py",
   "mimetype": "text/x-python",
   "name": "python",
   "nbconvert_exporter": "python",
   "pygments_lexer": "ipython3",
   "version": "3.8.10 (default, Nov 14 2022, 12:59:47) \n[GCC 9.4.0]"
  },
  "orig_nbformat": 4
 },
 "nbformat": 4,
 "nbformat_minor": 2
}
